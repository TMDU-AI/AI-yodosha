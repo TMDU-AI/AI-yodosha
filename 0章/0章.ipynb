{
  "cells": [
    {
      "cell_type": "markdown",
      "metadata": {
        "id": "NLsMrxLg981L"
      },
      "source": [
        "### 【ノートブック】"
      ]
    },
    {
      "cell_type": "markdown",
      "metadata": {
        "id": "1MYl36By9wZt"
      },
      "source": [
        "0-1 (変数に足し算の値を代入)"
      ]
    },
    {
      "cell_type": "code",
      "execution_count": null,
      "metadata": {
        "id": "tc0T2ZdT9iOK"
      },
      "outputs": [],
      "source": [
        "a = 3 + 3"
      ]
    },
    {
      "cell_type": "markdown",
      "metadata": {
        "id": "7PwakhFo-GMr"
      },
      "source": [
        "0-2 (変数の中身を出力)"
      ]
    },
    {
      "cell_type": "code",
      "execution_count": null,
      "metadata": {
        "id": "PSAJKR0E9pTq"
      },
      "outputs": [],
      "source": [
        "a"
      ]
    },
    {
      "cell_type": "markdown",
      "metadata": {
        "id": "wcR59RYT-Nn1"
      },
      "source": [
        "0-3 (セルに複数行記述)"
      ]
    },
    {
      "cell_type": "code",
      "source": [],
      "metadata": {
        "id": "bJCRUyzzXmFU"
      },
      "execution_count": null,
      "outputs": []
    },
    {
      "cell_type": "code",
      "execution_count": null,
      "metadata": {
        "id": "8i3DcM9F9pVw"
      },
      "outputs": [],
      "source": [
        "b = 1 + 3\n",
        "b"
      ]
    },
    {
      "cell_type": "markdown",
      "metadata": {
        "id": "F1gTiR5r-ZcL"
      },
      "source": [
        "0-4 (変数名のみ)"
      ]
    },
    {
      "cell_type": "code",
      "execution_count": null,
      "metadata": {
        "id": "fw2cKn439pX5"
      },
      "outputs": [],
      "source": [
        "c = 2 + 2\n",
        "c\n",
        "d = 3 + 3\n",
        "d"
      ]
    },
    {
      "cell_type": "markdown",
      "metadata": {
        "id": "IO7ZnEJq-e5F"
      },
      "source": [
        "0-5 (print関数)"
      ]
    },
    {
      "cell_type": "code",
      "execution_count": null,
      "metadata": {
        "id": "qjxPyvNI9pZ8"
      },
      "outputs": [],
      "source": [
        "c = 2 + 2\n",
        "print(c)\n",
        "d = 3 + 3\n",
        "print(d)"
      ]
    },
    {
      "cell_type": "markdown",
      "metadata": {
        "id": "lgkg28GB-tNA"
      },
      "source": [
        "### 【ライブラリを使用する】"
      ]
    },
    {
      "cell_type": "markdown",
      "metadata": {
        "id": "stAsRk7H-ypU"
      },
      "source": [
        "0-6 (matplotlibで折れ線グラフを描画)"
      ]
    },
    {
      "cell_type": "code",
      "execution_count": null,
      "metadata": {
        "id": "9KNP5QmU9pcA"
      },
      "outputs": [],
      "source": [
        "import matplotlib.pyplot as plt\n",
        "x = [1,2,3]\n",
        "y = [3,4,6]\n",
        "plt.plot(x,y)\n",
        "plt.show()"
      ]
    },
    {
      "cell_type": "markdown",
      "metadata": {
        "id": "DogeENgsXefA"
      },
      "source": [
        "0-7 (Google Driveのマウント)"
      ]
    },
    {
      "cell_type": "code",
      "execution_count": null,
      "metadata": {
        "id": "uPbYLD1L9peL"
      },
      "outputs": [],
      "source": [
        "from google.colab import drive\n",
        "driv.mount('/content/drive')"
      ]
    },
    {
      "cell_type": "markdown",
      "metadata": {
        "id": "V8_QH_KhXefB"
      },
      "source": [
        "0-8 (Colab上で読み込む)"
      ]
    },
    {
      "cell_type": "code",
      "execution_count": null,
      "metadata": {
        "id": "fWHSgiRv9pgd"
      },
      "outputs": [],
      "source": [
        "import pandas as pd\n",
        "test = pd.read_csv('/content/drive/My Drive/0_test.csv', encoding='utf-8')\n",
        "print(test)"
      ]
    }
  ],
  "metadata": {
    "colab": {
      "provenance": []
    },
    "kernelspec": {
      "display_name": "Python 3",
      "name": "python3"
    },
    "language_info": {
      "name": "python"
    }
  },
  "nbformat": 4,
  "nbformat_minor": 0
}