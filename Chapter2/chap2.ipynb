{
  "nbformat": 4,
  "nbformat_minor": 0,
  "metadata": {
    "colab": {
      "provenance": [],
      "toc_visible": true
    },
    "kernelspec": {
      "name": "python3",
      "display_name": "Python 3"
    },
    "language_info": {
      "name": "python"
    }
  },
  "cells": [
    {
    "cell_type": "markdown",
    "metadata": {},
    "source": [
        "[![Open In Colab](https://colab.research.google.com/assets/colab-badge.svg)](https://colab.research.google.com/github/TMDU-AI/AI-yodosha/blob/main/Chapter2/chap2.ipynb)"
    ]
    },

    {
      "cell_type": "markdown",
      "source": [
        "# **2章　機械学習のしくみを理解しよう**"
      ],
      "metadata": {
        "id": "ovOnBQSxZBRs"
      }
    },
    {
      "cell_type": "markdown",
      "source": [
        "# 2-3　線形回帰を実践してみよう"
      ],
      "metadata": {
        "id": "_lyLc0nwjic8"
      }
    },
    {
      "cell_type": "markdown",
      "source": [
        " **STEP0　事前準備**"
      ],
      "metadata": {
        "id": "Zg2mU8ThjJdS"
      }
    },
    {
      "cell_type": "markdown",
      "source": [
        "コード 2-3-1　利用するライブラリをインポートする"
      ],
      "metadata": {
        "id": "Ebcj6xxEZYx3"
      }
    },
    {
      "cell_type": "code",
      "execution_count": null,
      "metadata": {
        "id": "s07U0X_iRXJY"
      },
      "outputs": [],
      "source": [
        "!pip install japanize-matplotlib\n",
        "import numpy as np\n",
        "import pandas as pd\n",
        "import matplotlib.pyplot as plt\n",
        "import japanize_matplotlib"
      ]
    },
    {
      "cell_type": "markdown",
      "source": [
        "**STEP1　データの用意**"
      ],
      "metadata": {
        "id": "1GXkW--coSAq"
      }
    },
    {
      "cell_type": "markdown",
      "source": [
        "コード2-3-2　糖尿病のデータセットを読み込む"
      ],
      "metadata": {
        "id": "YeeKhcY8Zl-P"
      }
    },
    {
      "cell_type": "code",
      "source": [
        "from sklearn.datasets import load_diabetes\n",
        "dm = load_diabetes(as_frame=True, scaled=False)"
      ],
      "metadata": {
        "id": "v16-LAlmRwvb"
      },
      "execution_count": null,
      "outputs": []
    },
    {
      "cell_type": "markdown",
      "source": [
        "コード2-3-3　糖尿病のデータセットの内容を確認（変数dmの型の確認）"
      ],
      "metadata": {
        "id": "7WwK2DxtZupo"
      }
    },
    {
      "cell_type": "code",
      "source": [
        "type(dm)"
      ],
      "metadata": {
        "id": "bY5dl6mqfZfR"
      },
      "execution_count": null,
      "outputs": []
    },
    {
      "cell_type": "markdown",
      "source": [
        "コード2-3-4　糖尿病のデータセットの内容を確認（dmの出力）"
      ],
      "metadata": {
        "id": "Aul6_gl5fYfM"
      }
    },
    {
      "cell_type": "code",
      "source": [
        "dm"
      ],
      "metadata": {
        "id": "A6MPV1Rifixj"
      },
      "execution_count": null,
      "outputs": []
    },
    {
      "cell_type": "markdown",
      "source": [
        "コード2-3-5　糖尿病のデータセットの内容を確認（dmのキーDESCRの出力）"
      ],
      "metadata": {
        "id": "aw26oAMPfnN-"
      }
    },
    {
      "cell_type": "code",
      "source": [
        "print(dm.DESCR)"
      ],
      "metadata": {
        "id": "RbpqqyZ2rz7C"
      },
      "execution_count": null,
      "outputs": []
    },
    {
      "cell_type": "markdown",
      "source": [
        "コード2-3-6　y_dmに正解値をデータフレームとして格納"
      ],
      "metadata": {
        "id": "Z5-tX3cBZ0xH"
      }
    },
    {
      "cell_type": "code",
      "source": [
        "y_dm = dm.target\n",
        "y_dm.head()"
      ],
      "metadata": {
        "id": "29OL6IBzR0Yg"
      },
      "execution_count": null,
      "outputs": []
    },
    {
      "cell_type": "markdown",
      "source": [
        "コード2-3-7　y_dmの配列の形状の確認"
      ],
      "metadata": {
        "id": "h1-B9d0Nf2Ba"
      }
    },
    {
      "cell_type": "code",
      "source": [
        "y_dm.shape"
      ],
      "metadata": {
        "id": "Y1JajRpuf1qF"
      },
      "execution_count": null,
      "outputs": []
    },
    {
      "cell_type": "markdown",
      "source": [
        "コード2-3-8　y_dmのデータ型の確認"
      ],
      "metadata": {
        "id": "L4V0lHaPZ7f_"
      }
    },
    {
      "cell_type": "code",
      "source": [
        "type(y_dm)"
      ],
      "metadata": {
        "id": "yDmHZTNIf9cL"
      },
      "execution_count": null,
      "outputs": []
    },
    {
      "cell_type": "markdown",
      "source": [
        "コード2-3-9　y_dmの記述統計量を確認"
      ],
      "metadata": {
        "id": "WhuucHn_gAeM"
      }
    },
    {
      "cell_type": "code",
      "source": [
        "y_dm.describe()"
      ],
      "metadata": {
        "id": "tJt-YZ2uZ_X1"
      },
      "execution_count": null,
      "outputs": []
    },
    {
      "cell_type": "markdown",
      "source": [
        "コード2-3-10　x_dmに特徴量をデータフレームとして格納"
      ],
      "metadata": {
        "id": "igzW46X-aDbR"
      }
    },
    {
      "cell_type": "code",
      "source": [
        "x_dm = dm.data\n",
        "x_dm.head()"
      ],
      "metadata": {
        "id": "sy6CUzqdR9FG"
      },
      "execution_count": null,
      "outputs": []
    },
    {
      "cell_type": "markdown",
      "source": [
        "コード2-3-11　x_dmの配列の形状の確認\n"
      ],
      "metadata": {
        "id": "kIcq1E_MaI5-"
      }
    },
    {
      "cell_type": "code",
      "source": [
        "x_dm.shape"
      ],
      "metadata": {
        "id": "nv8-vI_tiSLV"
      },
      "execution_count": null,
      "outputs": []
    },
    {
      "cell_type": "markdown",
      "source": [
        "コード2-3-12　x_dmのデータ型の確認"
      ],
      "metadata": {
        "id": "N4EByy-niUZB"
      }
    },
    {
      "cell_type": "code",
      "source": [
        "type(x_dm)"
      ],
      "metadata": {
        "id": "xuhsNB1miWVP"
      },
      "execution_count": null,
      "outputs": []
    },
    {
      "cell_type": "markdown",
      "source": [
        "コード2-3-13　x_dmの記述統計量を確認"
      ],
      "metadata": {
        "id": "oWbOcInfib-w"
      }
    },
    {
      "cell_type": "code",
      "source": [
        "x_dm.describe()"
      ],
      "metadata": {
        "id": "LIYBuUqzifxu"
      },
      "execution_count": null,
      "outputs": []
    },
    {
      "cell_type": "markdown",
      "source": [
        "コード2-3-14　x_dmの特徴量のうち，bmiだけをx_bmiに格納"
      ],
      "metadata": {
        "id": "cvKPsXSmiiw4"
      }
    },
    {
      "cell_type": "code",
      "source": [
        "x_bmi = x_dm[['bmi']]\n",
        "x_bmi"
      ],
      "metadata": {
        "id": "VZMkWPrrSCZp"
      },
      "execution_count": null,
      "outputs": []
    },
    {
      "cell_type": "markdown",
      "source": [
        "コード2-3-15　x_bmiの配列の形状の確認"
      ],
      "metadata": {
        "id": "CAaAEMqBaMZE"
      }
    },
    {
      "cell_type": "code",
      "source": [
        "x_bmi.shape"
      ],
      "metadata": {
        "id": "ZCyiIyLhirND"
      },
      "execution_count": null,
      "outputs": []
    },
    {
      "cell_type": "markdown",
      "source": [
        "コード2-3-16　x_bmiのデータ型の確認"
      ],
      "metadata": {
        "id": "0979CazditcT"
      }
    },
    {
      "cell_type": "code",
      "source": [
        "type(x_bmi)"
      ],
      "metadata": {
        "id": "sli0lT0livGj"
      },
      "execution_count": null,
      "outputs": []
    },
    {
      "cell_type": "markdown",
      "source": [
        "コード2-3-17　x_dmの特徴量のうち，bmiだけをx_bmi1に格納（一重角括弧にした場合）"
      ],
      "metadata": {
        "id": "liHg8mWNixyJ"
      }
    },
    {
      "cell_type": "code",
      "source": [
        "x_bmi1 = x_dm['bmi']\n",
        "print(x_bmi1.shape)\n",
        "print(type(x_bmi1))"
      ],
      "metadata": {
        "id": "MIEj90iCi0Vs"
      },
      "execution_count": null,
      "outputs": []
    },
    {
      "cell_type": "markdown",
      "source": [
        "**STEP2　学習モデルの選択**"
      ],
      "metadata": {
        "id": "C5LueKSPvTYv"
      }
    },
    {
      "cell_type": "markdown",
      "source": [
        "コード2-3-18　線形回帰を学習モデルとして選択する"
      ],
      "metadata": {
        "id": "3la2Q-6LjAAK"
      }
    },
    {
      "cell_type": "code",
      "source": [
        "from sklearn.linear_model import LinearRegression\n",
        "model_bmi = LinearRegression()"
      ],
      "metadata": {
        "id": "w61zleiZSHnk"
      },
      "execution_count": null,
      "outputs": []
    },
    {
      "cell_type": "markdown",
      "source": [
        "**STEP3　データを入れて学習**"
      ],
      "metadata": {
        "id": "7nd74VUYwR0R"
      }
    },
    {
      "cell_type": "markdown",
      "source": [
        "コード2-3-19　線形回帰にデータを指定して学習させる"
      ],
      "metadata": {
        "id": "PHMANwaKaPpl"
      }
    },
    {
      "cell_type": "code",
      "source": [
        "model_bmi.fit(x_bmi, y_dm)"
      ],
      "metadata": {
        "id": "c4omWmgLaRLC"
      },
      "execution_count": null,
      "outputs": []
    },
    {
      "cell_type": "markdown",
      "source": [
        "**STEP4　傾き（偏回帰係数）と切片（定数項）を推定**"
      ],
      "metadata": {
        "id": "eUOARn_SwvGc"
      }
    },
    {
      "cell_type": "markdown",
      "source": [
        "コード2-3-20　学習したモデルの偏回帰係数と定数項を出力する"
      ],
      "metadata": {
        "id": "zbZtjGsuaTS3"
      }
    },
    {
      "cell_type": "code",
      "source": [
        "print(model_bmi.coef_)\n",
        "print(model_bmi.intercept_)"
      ],
      "metadata": {
        "id": "6o5zym0yaV-W"
      },
      "execution_count": null,
      "outputs": []
    },
    {
      "cell_type": "markdown",
      "source": [
        "**STEP5　未知の特徴量xで予測**"
      ],
      "metadata": {
        "id": "eDzwgUEVxY1s"
      }
    },
    {
      "cell_type": "markdown",
      "source": [
        "コード2-3-21　BMIが20の値をデータフレームとして格納"
      ],
      "metadata": {
        "id": "lDvgUnHCahi0"
      }
    },
    {
      "cell_type": "code",
      "source": [
        "pre = pd.DataFrame([[20]], columns=['bmi'])\n",
        "print(pre)\n",
        "print(pre.shape)\n",
        "print(type(pre))"
      ],
      "metadata": {
        "id": "50hkiiWxa3DA"
      },
      "execution_count": null,
      "outputs": []
    },
    {
      "cell_type": "markdown",
      "source": [
        "コード2-3-22　BMIが20の場合の糖尿病進行度を予測"
      ],
      "metadata": {
        "id": "zRLiKukCjtC4"
      }
    },
    {
      "cell_type": "code",
      "source": [
        "print(model_bmi.predict(pre))"
      ],
      "metadata": {
        "id": "z_b6WjH1jkxs"
      },
      "execution_count": null,
      "outputs": []
    },
    {
      "cell_type": "markdown",
      "source": [
        "コード2-3-23　線形回帰線を描出"
      ],
      "metadata": {
        "id": "cyUrC37jbzLx"
      }
    },
    {
      "cell_type": "code",
      "source": [
        "plt.scatter(x_bmi, y_dm, color='black')\n",
        "plt.plot(x_bmi, model_bmi.predict(x_bmi))\n",
        "plt.show()"
      ],
      "metadata": {
        "id": "LDYIPEjzSm70"
      },
      "execution_count": null,
      "outputs": []
    },
    {
      "cell_type": "markdown",
      "source": [
        "コード2-3-24　線形回帰線を描出（タイトルや軸名をつける）"
      ],
      "metadata": {
        "id": "YuKmT3TJkgbn"
      }
    },
    {
      "cell_type": "code",
      "source": [
        "plt.figure()\n",
        "plt.title('BMIと1年後の糖尿病の進行度')\n",
        "plt.xlabel('BMI')\n",
        "plt.ylabel('糖尿病進行度')\n",
        "plt.scatter(x_bmi, y_dm, color='black')\n",
        "plt.plot(x_bmi, model_bmi.predict(x_bmi))\n",
        "plt.show()"
      ],
      "metadata": {
        "id": "QYjfhCvZSqAZ"
      },
      "execution_count": null,
      "outputs": []
    },
    {
      "cell_type": "markdown",
      "source": [
        "**STEP6　モデルの評価**"
      ],
      "metadata": {
        "id": "_f-Sh9BSzTpQ"
      }
    },
    {
      "cell_type": "markdown",
      "source": [
        "コード2-3-25　モデルの性能評価を行う"
      ],
      "metadata": {
        "id": "bnE-W2VnkqOB"
      }
    },
    {
      "cell_type": "code",
      "source": [
        "print(model_bmi.score(x_bmi, y_dm))"
      ],
      "metadata": {
        "id": "sn9k31PaW1E_"
      },
      "execution_count": null,
      "outputs": []
    },
    {
      "cell_type": "markdown",
      "source": [
        "コード2-3-26　10個の特徴量での線形回帰（学習モデルの選択と学習）"
      ],
      "metadata": {
        "id": "C3kyR3fdb1-k"
      }
    },
    {
      "cell_type": "code",
      "source": [
        "model_dm10 = LinearRegression()\n",
        "model_dm10.fit(x_dm, y_dm)"
      ],
      "metadata": {
        "id": "zpc3waa0Vgqp"
      },
      "execution_count": null,
      "outputs": []
    },
    {
      "cell_type": "markdown",
      "source": [
        "コード2-3-27　10個の特徴量での線形回帰（偏回帰係数と定数項の出力）"
      ],
      "metadata": {
        "id": "VJp6MDUXcCt_"
      }
    },
    {
      "cell_type": "code",
      "source": [
        "print(model_dm10.coef_)\n",
        "print(model_dm10.intercept_)"
      ],
      "metadata": {
        "id": "ZhtPzYlUV14f"
      },
      "execution_count": null,
      "outputs": []
    },
    {
      "cell_type": "markdown",
      "source": [
        "コード2-3-28　10個の特徴量での線形回帰（モデルの性能評価）"
      ],
      "metadata": {
        "id": "UJPOhuQncExc"
      }
    },
    {
      "cell_type": "code",
      "source": [
        "print(model_dm10.score(x_dm, y_dm))"
      ],
      "metadata": {
        "id": "zlHk2wIxW7R5"
      },
      "execution_count": null,
      "outputs": []
    },
    {
      "cell_type": "markdown",
      "source": [
        "# 2-4　学習用データと検証用データの分割"
      ],
      "metadata": {
        "id": "ftRxDOR8lC8E"
      }
    },
    {
      "cell_type": "markdown",
      "source": [
        "コード2-4-1　学習用データと検証用データに分割"
      ],
      "metadata": {
        "id": "BJln5gZwcX0r"
      }
    },
    {
      "cell_type": "code",
      "source": [
        "from sklearn.model_selection import train_test_split\n",
        "x_train, x_test, y_train, y_test = train_test_split(\n",
        "    x_dm, y_dm, test_size=0.3, random_state=0)"
      ],
      "metadata": {
        "id": "dIUGPee4Wbnb"
      },
      "execution_count": null,
      "outputs": []
    },
    {
      "cell_type": "markdown",
      "source": [
        "コード2-4-2　学習用データ（x_trainとy_train）を用いてmodel_dmで学習させる"
      ],
      "metadata": {
        "id": "3jN2q-4lcaMG"
      }
    },
    {
      "cell_type": "code",
      "source": [
        "from sklearn.linear_model import LinearRegression\n",
        "model_dm = LinearRegression()\n",
        "model_dm.fit(x_train, y_train)"
      ],
      "metadata": {
        "id": "24HOJav8W0bL"
      },
      "execution_count": null,
      "outputs": []
    },
    {
      "cell_type": "markdown",
      "source": [
        "コード2-4-3　検証用データ（x_test）を用いて，学習済みモデルで予測する"
      ],
      "metadata": {
        "id": "JdVev2r-ciRN"
      }
    },
    {
      "cell_type": "code",
      "source": [
        "print(model_dm.predict(x_test)) # x_testから予測した予測値yを出力\n",
        "print(np.array(y_test))         # 実際の正解値y_testを出力"
      ],
      "metadata": {
        "id": "dR_OFnYFXXV5"
      },
      "execution_count": null,
      "outputs": []
    },
    {
      "cell_type": "markdown",
      "source": [
        "コード2-4-4　ホールドアウト法で学習用データと検証用データに分けた場合のモデルの性能評価"
      ],
      "metadata": {
        "id": "JYPOicrxldK1"
      }
    },
    {
      "cell_type": "code",
      "source": [
        "print(model_dm.score(x_test, y_test))"
      ],
      "metadata": {
        "id": "zmOi8pBpSCQT"
      },
      "execution_count": null,
      "outputs": []
    },
    {
      "cell_type": "markdown",
      "source": [
        "# 2-5　ロジスティック回帰を実践してみよう"
      ],
      "metadata": {
        "id": "_z8dTf7wFlJB"
      }
    },
    {
      "cell_type": "markdown",
      "source": [
        "**STEP0　事前準備**"
      ],
      "metadata": {
        "id": "A_Ji_DM73rKs"
      }
    },
    {
      "cell_type": "markdown",
      "source": [
        "コード2-5-1　利用するライブラリをインポートする"
      ],
      "metadata": {
        "id": "iv2MRsrKcqhf"
      }
    },
    {
      "cell_type": "code",
      "source": [
        "import numpy as np\n",
        "import pandas as pd"
      ],
      "metadata": {
        "id": "F2Ip71i2Fkfq"
      },
      "execution_count": null,
      "outputs": []
    },
    {
      "cell_type": "markdown",
      "source": [
        "**STEP1　データの用意**"
      ],
      "metadata": {
        "id": "7rLrwuno4fGP"
      }
    },
    {
      "cell_type": "markdown",
      "source": [
        "コード2-5-2　乳がんのデータセットを読み込む"
      ],
      "metadata": {
        "id": "l7u4bUdycsVw"
      }
    },
    {
      "cell_type": "code",
      "source": [
        "from sklearn.datasets import load_breast_cancer\n",
        "bc = load_breast_cancer(as_frame=True)\n",
        "bc"
      ],
      "metadata": {
        "id": "hN7Gl2fmHARb"
      },
      "execution_count": null,
      "outputs": []
    },
    {
      "cell_type": "markdown",
      "source": [
        "コード2-5-3　乳がんのデータセットの内容を確認（変数bcの型の確認）"
      ],
      "metadata": {
        "id": "ROgAlvS_c55q"
      }
    },
    {
      "cell_type": "code",
      "source": [
        "type(bc)"
      ],
      "metadata": {
        "id": "uZEEhnM_l3_W"
      },
      "execution_count": null,
      "outputs": []
    },
    {
      "cell_type": "markdown",
      "source": [
        "コード2-5-4　乳がんのデータセットの内容を確認（bcのキーDESCRの出力）"
      ],
      "metadata": {
        "id": "s3w8hUE_l571"
      }
    },
    {
      "cell_type": "code",
      "source": [
        "print(bc.DESCR)"
      ],
      "metadata": {
        "id": "jEHeXixal8w3"
      },
      "execution_count": null,
      "outputs": []
    },
    {
      "cell_type": "markdown",
      "source": [
        "コード2-5-5　y_bcに正解値をデータフレームとして格納"
      ],
      "metadata": {
        "id": "OCa8zA6Tl7Rg"
      }
    },
    {
      "cell_type": "code",
      "source": [
        "y_bc = bc.target\n",
        "y_bc.head()"
      ],
      "metadata": {
        "id": "HqH0_auBULdJ"
      },
      "execution_count": null,
      "outputs": []
    },
    {
      "cell_type": "markdown",
      "source": [
        "コード2-5-6　y_bcの配列の形状とデータ型の確認"
      ],
      "metadata": {
        "id": "R6twsC_smNNh"
      }
    },
    {
      "cell_type": "code",
      "source": [
        "print(y_bc.shape)\n",
        "print(type(y_bc))"
      ],
      "metadata": {
        "id": "IRV5HiDjmP_Z"
      },
      "execution_count": null,
      "outputs": []
    },
    {
      "cell_type": "markdown",
      "source": [
        "コード2-5-7　y_bcの取りうる値と頻度の確認"
      ],
      "metadata": {
        "id": "7CJSGuvImUsM"
      }
    },
    {
      "cell_type": "code",
      "source": [
        "y_bc.value_counts()"
      ],
      "metadata": {
        "id": "tCbh0mzmmWH2"
      },
      "execution_count": null,
      "outputs": []
    },
    {
      "cell_type": "markdown",
      "source": [
        "コード2-5-8　x_bcに特徴量をデータフレームとして格納"
      ],
      "metadata": {
        "id": "MzESYkNhmZQq"
      }
    },
    {
      "cell_type": "code",
      "source": [
        "x_bc = bc.data\n",
        "x_bc.head()"
      ],
      "metadata": {
        "id": "4VWSnFgdmQ2_"
      },
      "execution_count": null,
      "outputs": []
    },
    {
      "cell_type": "markdown",
      "source": [
        "コード2-5-9　x_bcから10個の特徴量をx_bc10として格納"
      ],
      "metadata": {
        "id": "f1DsXKcrmkS-"
      }
    },
    {
      "cell_type": "code",
      "source": [
        "x_bc10 = x_bc.iloc[:, 0:10]\n",
        "x_bc10.head()"
      ],
      "metadata": {
        "id": "0lQmSDr9mgN_"
      },
      "execution_count": null,
      "outputs": []
    },
    {
      "cell_type": "markdown",
      "source": [
        "コード2-5-10　x_bc10の配列の形状とデータ型の確認"
      ],
      "metadata": {
        "id": "8NPnzr_PmrNt"
      }
    },
    {
      "cell_type": "code",
      "source": [
        "print(x_bc10.shape)\n",
        "print(type(x_bc10))"
      ],
      "metadata": {
        "id": "i01TLXBVmtAB"
      },
      "execution_count": null,
      "outputs": []
    },
    {
      "cell_type": "markdown",
      "source": [
        "コード2-5-11　学習用データと検証用データに分割"
      ],
      "metadata": {
        "id": "3zzPdBfRdJVf"
      }
    },
    {
      "cell_type": "code",
      "source": [
        "from sklearn.model_selection import train_test_split\n",
        "x_train, x_test, y_train, y_test = train_test_split(\n",
        "    x_bc10, y_bc, test_size=0.3, random_state=0)"
      ],
      "metadata": {
        "id": "bt-OQ7O8ggAu"
      },
      "execution_count": null,
      "outputs": []
    },
    {
      "cell_type": "markdown",
      "source": [
        "**STEP2　学習モデルの選択**"
      ],
      "metadata": {
        "id": "_1gVXmyi7DLn"
      }
    },
    {
      "cell_type": "markdown",
      "source": [
        "コード2-5-12　ロジスティック回帰モデルを選択"
      ],
      "metadata": {
        "id": "DXlGHWeMdiHa"
      }
    },
    {
      "cell_type": "code",
      "source": [
        "from sklearn.linear_model import LogisticRegression\n",
        "model_bc = LogisticRegression()"
      ],
      "metadata": {
        "id": "H0pr1MiR2bUQ"
      },
      "execution_count": null,
      "outputs": []
    },
    {
      "cell_type": "markdown",
      "source": [
        "**STEP3　学習用データを用いて学習**"
      ],
      "metadata": {
        "id": "tTF1Aqa17Rb4"
      }
    },
    {
      "cell_type": "markdown",
      "source": [
        "コード2-5-13　学習用データ（x_trainとy_train）を用いてmodel_bcで学習させる"
      ],
      "metadata": {
        "id": "9J6QntnadtBo"
      }
    },
    {
      "cell_type": "code",
      "source": [
        "model_bc.fit(x_train, y_train)"
      ],
      "metadata": {
        "id": "9PF9n4z1dq3j"
      },
      "execution_count": null,
      "outputs": []
    },
    {
      "cell_type": "markdown",
      "source": [
        "**STEP4　傾き（偏回帰係数）と切片（定数項）を推定**"
      ],
      "metadata": {
        "id": "Mqycin9_7gDj"
      }
    },
    {
      "cell_type": "markdown",
      "source": [
        "コード2-5-14　model_bcの傾きと切片を出力する"
      ],
      "metadata": {
        "id": "or-Y2PaPdv7g"
      }
    },
    {
      "cell_type": "code",
      "source": [
        "print(model_bc.coef_)\n",
        "print(model_bc.intercept_)"
      ],
      "metadata": {
        "id": "iA5jX1YahJlo"
      },
      "execution_count": null,
      "outputs": []
    },
    {
      "cell_type": "markdown",
      "source": [
        "**STEP5　新しい変数で予測**"
      ],
      "metadata": {
        "id": "097W_YQ3-uFG"
      }
    },
    {
      "cell_type": "markdown",
      "source": [
        "コード2-5-15　model_bcに検証用データ（x_test）を入れて予測する"
      ],
      "metadata": {
        "id": "Rw3bt-h3ecrE"
      }
    },
    {
      "cell_type": "code",
      "source": [
        "print(model_bc.predict(x_test)) # x_testから予測した予測値yを出力\n",
        "print(np.array(y_test))         # 実際の正解値y_testを出力"
      ],
      "metadata": {
        "id": "GeyL5kgY3tmb"
      },
      "execution_count": null,
      "outputs": []
    },
    {
      "cell_type": "markdown",
      "source": [
        "コード2-5-16　model_bcに検証用データ（x_test）を入れて，y=0，y=1となる確率を予測する"
      ],
      "metadata": {
        "id": "RDrWTo1Jejkz"
      }
    },
    {
      "cell_type": "code",
      "source": [
        "print(model_bc.predict_proba(x_test))"
      ],
      "metadata": {
        "id": "vTqXpBBweowI"
      },
      "execution_count": null,
      "outputs": []
    },
    {
      "cell_type": "markdown",
      "source": [
        "**STEP6　モデルの評価**"
      ],
      "metadata": {
        "id": "Kt7fj0M0-z6S"
      }
    },
    {
      "cell_type": "markdown",
      "source": [
        "コード2-5-17　モデルの性能評価を行う"
      ],
      "metadata": {
        "id": "GJ8RlWw8erCl"
      }
    },
    {
      "cell_type": "code",
      "source": [
        "print(model_bc.score(x_test, y_test))\n",
        "print(model_bc.score(x_train, y_train))"
      ],
      "metadata": {
        "id": "W4Zhh7-zfKlL"
      },
      "execution_count": null,
      "outputs": []
    }
  ]
}
