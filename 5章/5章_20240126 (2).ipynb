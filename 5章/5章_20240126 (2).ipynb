{
  "cells": [
    {
      "cell_type": "markdown",
      "metadata": {
        "id": "md8rGhCUyD98"
      },
      "source": [
        "コード5-1 images_TMDU.zipの解凍"
      ]
    },
    {
      "cell_type": "code",
      "execution_count": null,
      "metadata": {
        "id": "bgKsy48ByLTT"
      },
      "outputs": [],
      "source": [
        "!unzip \"/content/drive/MyDrive/images_TMDU.zip\""
      ]
    },
    {
      "cell_type": "markdown",
      "metadata": {
        "id": "uL6uFz2v7pej"
      },
      "source": [
        "コード5-2 画像(test.jpg)の読み込みと図示"
      ]
    },
    {
      "cell_type": "code",
      "execution_count": null,
      "metadata": {
        "id": "8JcF9gfk7yTW"
      },
      "outputs": [],
      "source": [
        "import matplotlib.pyplot as plt\n",
        "from keras.preprocessing.image import load_img\n",
        "\n",
        "test = load_img('/content/drive/MyDrive/workshop20230729/test.jpg',color_mode='rgb')\n",
        "plt.imshow(test)\n",
        "plt.show()\n",
        "print(test)"
      ]
    },
    {
      "cell_type": "markdown",
      "metadata": {
        "id": "AJvlwVmAvKd5"
      },
      "source": [
        "コード5-3 画像サイズとカラーモードの変換"
      ]
    },
    {
      "cell_type": "code",
      "execution_count": null,
      "metadata": {
        "id": "YJ_Vg1r17yRB"
      },
      "outputs": [],
      "source": [
        "test2 = load_img(\"/content/drive/MyDrive/workshop20230729/test.jpg\",color_mode='grayscale',target_size=(10,10))\n",
        "plt.imshow(test2,'gray')\n",
        "plt.show()\n",
        "print(test2)"
      ]
    },
    {
      "cell_type": "markdown",
      "metadata": {
        "id": "jemgJRbgviJd"
      },
      "source": [
        "コード5-4 画像データを配列データに変換"
      ]
    },
    {
      "cell_type": "code",
      "execution_count": null,
      "metadata": {
        "id": "q5f0N-6b7yOa"
      },
      "outputs": [],
      "source": [
        "from keras.preprocessing.image import img_to_array\n",
        "\n",
        "test2_img = img_to_array(test2)\n",
        "print(test2_img)\n",
        "print(test2_img.shape)\n"
      ]
    },
    {
      "cell_type": "markdown",
      "metadata": {
        "id": "OZjfAZso0EWf"
      },
      "source": [
        "コード5-5 画像サイズ(10,10)、カラーでの図示"
      ]
    },
    {
      "cell_type": "code",
      "execution_count": null,
      "metadata": {
        "id": "t1VtNdE7QAR6"
      },
      "outputs": [],
      "source": [
        "test3 = load_img(\"/content/drive/MyDrive/workshop20230729/test.jpg\",color_mode='rgb',target_size=(10,10))\n",
        "plt.imshow(test3)\n",
        "plt.show()\n",
        "test3_img = img_to_array(test3)\n",
        "print(test3_img)\n",
        "print(test3_img.shape)"
      ]
    },
    {
      "cell_type": "markdown",
      "metadata": {
        "id": "5yu5AbXK0gU2"
      },
      "source": [
        "コード5-6 インデックスによるデータのアクセス"
      ]
    },
    {
      "cell_type": "code",
      "execution_count": null,
      "metadata": {
        "id": "aUjwTrd1QAQE"
      },
      "outputs": [],
      "source": [
        "# (10, 10, 3)の3つの色要素(1次元)が10列、それが10行\n",
        "print(len(test3_img)) # 10行\n",
        "print(test3_img[0]) #1行目\n",
        "print(len(test3_img[0])) # 各行は10列\n",
        "print(test3_img[0][0]) # 1行目の1つ目のピクセル\n",
        "print(len(test3_img[0][0])) # 各ピクセルはRGBの３要素\n",
        "print(test3_img[0][0][0]) # １行目の1つ目のピクセルのR(赤)"
      ]
    },
    {
      "cell_type": "markdown",
      "metadata": {
        "id": "dEn-NtxVASNB"
      },
      "source": [
        "コード5-7 ファイル名のリストを作成"
      ]
    },
    {
      "cell_type": "code",
      "execution_count": null,
      "metadata": {
        "id": "vPGSBE0Nbh00"
      },
      "outputs": [],
      "source": [
        "import os\n",
        "list_healthy = [i for i in os.listdir(\"/content/drive/MyDrive/workshop20230729/COVID-NORMAL/healthy\") if not i.startswith('.')]\n",
        "list_covid19 = [i for i in os.listdir(\"/content/drive/MyDrive/workshop20230729/COVID-NORMAL/covid19\") if not i.startswith('.')]\n",
        "print(len(list_healthy))\n",
        "print(len(list_covid19))\n"
      ]
    },
    {
      "cell_type": "markdown",
      "metadata": {
        "id": "bDlpae_yCGh0"
      },
      "source": [
        "コード5-8 リスト内包表記の例1"
      ]
    },
    {
      "cell_type": "code",
      "execution_count": null,
      "metadata": {
        "id": "lXZ1yl63CKCa"
      },
      "outputs": [],
      "source": [
        "example1 = [i for i in range(5)]\n",
        "print(example1)\n",
        "temp = [1,3,5,6,9]\n",
        "example2 = [i*2 for i in temp]\n",
        "print(example2)"
      ]
    },
    {
      "cell_type": "markdown",
      "metadata": {
        "id": "c8GDZF5QMI7i"
      },
      "source": [
        "コード5-9 リスト内包表記の例2"
      ]
    },
    {
      "cell_type": "code",
      "execution_count": null,
      "metadata": {
        "id": "hfUH6uKEMOA9"
      },
      "outputs": [],
      "source": [
        "temp = [1,3,5,7,9]\n",
        "example3 = [i*2 for i in temp if i > 4]\n",
        "print(example3)\n",
        "example4 = [i*2 for i in temp if not i > 5]\n",
        "print(example4)"
      ]
    },
    {
      "cell_type": "markdown",
      "metadata": {
        "id": "sHHc5noPMR4Q"
      },
      "source": [
        "コード5-10 リスト内包表記の例3"
      ]
    },
    {
      "cell_type": "code",
      "execution_count": null,
      "metadata": {
        "id": "_O6Mfk5zMUdz"
      },
      "outputs": [],
      "source": [
        "temp2 = [\"須藤\",\"佐藤\",\"加藤\",\"佐川\"]\n",
        "example5 = [name for name in temp2 if name.startswith(\"佐\")]\n",
        "print(example5)\n",
        "example6 = [name for name in temp2 if not name.endswith(\"藤\")]\n",
        "print(example6)"
      ]
    },
    {
      "cell_type": "markdown",
      "metadata": {
        "id": "VrvTC6J9TdBD"
      },
      "source": [
        "コード5-11 os.listdir()の確認1"
      ]
    },
    {
      "cell_type": "code",
      "execution_count": null,
      "metadata": {
        "id": "Oxnh_r3VTgce"
      },
      "outputs": [],
      "source": [
        "import os\n",
        "os.listdir(\"/content/drive/MyDrive/workshop20230729/COVID-NORMAL\")"
      ]
    },
    {
      "cell_type": "markdown",
      "metadata": {
        "id": "yZH71rn3Zfjh"
      },
      "source": [
        "コード5-12 os.listdir()の確認2"
      ]
    },
    {
      "cell_type": "code",
      "execution_count": null,
      "metadata": {
        "id": "GkD7nOXKUTE8"
      },
      "outputs": [],
      "source": [
        "os.listdir(\"/content/drive/MyDrive/workshop20230729/COVID-NORMAL/healthy\")"
      ]
    },
    {
      "cell_type": "markdown",
      "metadata": {
        "id": "TvoevgccZrRt"
      },
      "source": [
        "コード5-13 画像ファイル数の集計"
      ]
    },
    {
      "cell_type": "code",
      "execution_count": null,
      "metadata": {
        "id": "qP_ancOpbhwv"
      },
      "outputs": [],
      "source": [
        "num_healthy = len(list_healthy)\n",
        "num_covid19 = len(list_covid19)\n",
        "num_all = num_healthy + num_covid19\n",
        "print(num_all)"
      ]
    },
    {
      "cell_type": "markdown",
      "metadata": {
        "id": "tmKbQ9zka5tr"
      },
      "source": [
        "コード5-14 画像データ格納用numpy配列の作成"
      ]
    },
    {
      "cell_type": "code",
      "execution_count": null,
      "metadata": {
        "id": "JQMe9COdbhu5"
      },
      "outputs": [],
      "source": [
        "import numpy as np\n",
        "images_temp = np.zeros((num_all, 64, 64, 1), dtype=float)\n",
        "labels_temp = np.zeros((num_all,1),dtype=int)\n",
        "print(images_temp.shape)\n",
        "print(labels_temp.shape)"
      ]
    },
    {
      "cell_type": "markdown",
      "metadata": {
        "id": "70lnQjM28EQz"
      },
      "source": [
        "コード5-15 画像データ格納用numpy配列の中身の確認"
      ]
    },
    {
      "cell_type": "code",
      "execution_count": null,
      "metadata": {
        "id": "GGLTK9mNbhss"
      },
      "outputs": [],
      "source": [
        "print(labels_temp)\n",
        "print(images_temp[0])"
      ]
    },
    {
      "cell_type": "markdown",
      "metadata": {
        "id": "SkuD99Lw16UH"
      },
      "source": [
        "コード5-16 画像の読み込み(list_healthy)\n",
        "\n"
      ]
    },
    {
      "cell_type": "code",
      "execution_count": null,
      "metadata": {
        "id": "JhXFSAR7QAOA"
      },
      "outputs": [],
      "source": [
        "path = \"/content/drive/MyDrive/workshop20230729/COVID-NORMAL/healthy\"\n",
        "for i in range(num_healthy):\n",
        "  file = f'{path}/{list_healthy[i]}'\n",
        "  file_img = load_img(file, color_mode='grayscale', target_size=(64,64),interpolation='lanczos')\n",
        "  images_temp[i] = img_to_array(file_img) / 255\n",
        "  labels_temp[i] = 0"
      ]
    },
    {
      "cell_type": "markdown",
      "metadata": {
        "id": "u0fd9zSuEGWU"
      },
      "source": [
        "コード5-17 f文字列の例"
      ]
    },
    {
      "cell_type": "code",
      "execution_count": null,
      "metadata": {
        "id": "58Vt3KBKEJU2"
      },
      "outputs": [],
      "source": [
        "name = \"須藤\"\n",
        "print(\"name\")\n",
        "print(f\"{name}\")\n",
        "print(\"私の名前はnameです\")\n",
        "print(f\"私の名前は{name}です\")"
      ]
    },
    {
      "cell_type": "markdown",
      "metadata": {
        "id": "gV0bmTKO2Syt"
      },
      "source": [
        "コード5-18 images_tempの変換後の中身"
      ]
    },
    {
      "cell_type": "code",
      "execution_count": null,
      "metadata": {
        "id": "lzhGOhmL2U4D"
      },
      "outputs": [],
      "source": [
        "images_temp[0]"
      ]
    },
    {
      "cell_type": "markdown",
      "metadata": {
        "id": "vO0Y1HtIMofz"
      },
      "source": [
        "コード5-19 画像の読み込み(list_covid19)"
      ]
    },
    {
      "cell_type": "code",
      "execution_count": null,
      "metadata": {
        "id": "gOBe9DM79L37"
      },
      "outputs": [],
      "source": [
        "path = \"/content/drive/MyDrive/workshop20230729/COVID-NORMAL/covid19\"\n",
        "for i in range(num_covid19):\n",
        "  file = f'{path}/{list_covid19[i]}'\n",
        "  file_img = load_img(file, color_mode='grayscale', target_size=(64,64),interpolation='lanczos')\n",
        "  images_temp[i + num_healthy] = img_to_array(file_img) / 255\n",
        "  labels_temp[i + num_healthy] = 1"
      ]
    },
    {
      "cell_type": "markdown",
      "metadata": {
        "id": "CVAVF7DRXmsN"
      },
      "source": [
        "コード5-20 images_tempとlabels_tempの変換後の中身"
      ]
    },
    {
      "cell_type": "code",
      "execution_count": null,
      "metadata": {
        "id": "yHLsIycWXvqA"
      },
      "outputs": [],
      "source": [
        "print(images_temp[116])\n",
        "print(labels_temp[116])"
      ]
    },
    {
      "cell_type": "markdown",
      "metadata": {
        "id": "NIOZgyyzYDHR"
      },
      "source": [
        "コード5-21 0から231までの数字のリストを作成"
      ]
    },
    {
      "cell_type": "code",
      "execution_count": null,
      "metadata": {
        "id": "94HkrVXdQAL8"
      },
      "outputs": [],
      "source": [
        "num_list = np.arange(num_all)\n",
        "print(num_list)"
      ]
    },
    {
      "cell_type": "markdown",
      "metadata": {
        "id": "k11swhMWAgRp"
      },
      "source": [
        "コード5-22 numpy配列をシャッフルする"
      ]
    },
    {
      "cell_type": "code",
      "execution_count": null,
      "metadata": {
        "id": "O1603YnFQAJ5"
      },
      "outputs": [],
      "source": [
        "np.random.seed(111)\n",
        "np.random.shuffle(num_list)\n",
        "print(num_list)"
      ]
    },
    {
      "cell_type": "markdown",
      "metadata": {
        "id": "xT37o95qAi2p"
      },
      "source": [
        "コード5-23 images_tempとlabels_tempの配列をシャッフルする"
      ]
    },
    {
      "cell_type": "code",
      "execution_count": null,
      "metadata": {
        "id": "wnKqOT5RQAH8"
      },
      "outputs": [],
      "source": [
        "print(labels_temp[0:10])\n",
        "x_train = images_temp[num_list]\n",
        "y_train = labels_temp[num_list]\n",
        "print(x_train.shape)\n",
        "print(y_train.shape)\n",
        "print(y_train[0:10])"
      ]
    },
    {
      "cell_type": "markdown",
      "metadata": {
        "id": "koIpqUHABoLF"
      },
      "source": [
        "コード5-24 numpy配列の要素を入れ替える"
      ]
    },
    {
      "cell_type": "code",
      "execution_count": null,
      "metadata": {
        "id": "5Yfh9AKHBoZA"
      },
      "outputs": [],
      "source": [
        "array1 = np.array([10,20,30,40,50])\n",
        "print(array1)\n",
        "order = [3,2,0,4,1]\n",
        "array2 = array1[order]\n",
        "print(array2)"
      ]
    },
    {
      "cell_type": "markdown",
      "metadata": {
        "id": "-3RaDhwyHGip"
      },
      "source": [
        "コード5-25 モデルの作成"
      ]
    },
    {
      "cell_type": "code",
      "execution_count": null,
      "metadata": {
        "id": "hWpsBwoNHG9E"
      },
      "outputs": [],
      "source": [
        "from keras.models import Sequential\n",
        "from keras.layers import Dense, Flatten\n",
        "\n",
        "model = Sequential()\n",
        "model.add(Flatten(input_shape=(64,64,1)))\n",
        "model.add(Dense(512, activation='relu'))\n",
        "model.add(Dense(256, activation='relu'))\n",
        "model.add(Dense(128, activation='relu'))\n",
        "model.add(Dense(1, activation='sigmoid'))\n",
        "model.compile(loss='binary_crossentropy', optimizer='Adam', metrics=['accuracy'])\n",
        "model.summary()"
      ]
    },
    {
      "cell_type": "markdown",
      "metadata": {
        "id": "J4CJUJ6MVUl_"
      },
      "source": [
        "コード5-26 モデルの学習"
      ]
    },
    {
      "cell_type": "code",
      "execution_count": null,
      "metadata": {
        "id": "qaHnW5fWHL8I"
      },
      "outputs": [],
      "source": [
        "result = model.fit(x_train, y_train, batch_size=32, epochs=100, validation_split=0.2)"
      ]
    },
    {
      "cell_type": "markdown",
      "metadata": {
        "id": "HOxi3U3mZuHM"
      },
      "source": [
        "コード5-21 学習過程の図示"
      ]
    },
    {
      "cell_type": "code",
      "execution_count": null,
      "metadata": {
        "id": "G5yNg3RKHdm_"
      },
      "outputs": [],
      "source": [
        "plt.plot(result.history['accuracy'],label='accuracy')\n",
        "plt.plot(result.history['val_accuracy'],label='val_accuracy')\n",
        "plt.legend()\n",
        "plt.show()\n",
        "plt.plot(result.history['loss'],label='loss')\n",
        "plt.plot(result.history['val_loss'],label='val_loss')\n",
        "plt.legend()\n",
        "plt.show()"
      ]
    },
    {
      "cell_type": "markdown",
      "metadata": {
        "id": "UjWtHvc7fMPT"
      },
      "source": [
        "コード5-22 ドロップアウトを加えて過学習を防ぐ"
      ]
    },
    {
      "cell_type": "code",
      "execution_count": null,
      "metadata": {
        "id": "rwCRIJFgmovL"
      },
      "outputs": [],
      "source": [
        "from keras.models import Sequential\n",
        "from keras.layers import Dense, Flatten, Dropout\n",
        "\n",
        "model = Sequential()\n",
        "model.add(Flatten(input_shape=(64,64,1)))\n",
        "model.add(Dense(512, activation='relu'))\n",
        "model.add(Dropout(0.5))\n",
        "model.add(Dense(256, activation='relu'))\n",
        "model.add(Dropout(0.5))\n",
        "model.add(Dense(128, activation='relu'))\n",
        "model.add(Dense(1, activation='sigmoid'))\n",
        "model.compile(loss='binary_crossentropy', optimizer='Adam', metrics=['accuracy'])\n",
        "model.summary()\n",
        "\n",
        "result = model.fit(x_train, y_train, batch_size=32, epochs=100, validation_split=0.2)"
      ]
    },
    {
      "cell_type": "code",
      "execution_count": null,
      "metadata": {
        "id": "Mf3A8Z417yDw"
      },
      "outputs": [],
      "source": [
        "plt.plot(result.history['accuracy'],label='accuracy')\n",
        "plt.plot(result.history['val_accuracy'],label='val_accuracy')\n",
        "plt.legend()\n",
        "plt.show()\n",
        "plt.plot(result.history['loss'],label='loss')\n",
        "plt.plot(result.history['val_loss'],label='val_loss')\n",
        "plt.legend()\n",
        "plt.show()"
      ]
    },
    {
      "cell_type": "markdown",
      "metadata": {
        "id": "B_h2KR78DQlM"
      },
      "source": [
        "コード5-24 新たな画像での予測"
      ]
    },
    {
      "cell_type": "code",
      "execution_count": null,
      "metadata": {
        "id": "XPVcTaAbiHl-"
      },
      "outputs": [],
      "source": [
        "img1 = img_to_array(load_img('/content/drive/MyDrive/workshop20230729/covid.jpg', color_mode='grayscale', target_size=(64,64)))/255\n",
        "img2 = img_to_array(load_img('/content/drive/MyDrive/workshop20230729/NORMAL.jpg', color_mode='grayscale', target_size=(64,64)))/255\n",
        "check = np.zeros((2, 64, 64, 1))\n",
        "check[0] = img1\n",
        "check[1] = img2\n",
        "prob = model.predict(check)\n",
        "print(prob)\n"
      ]
    }
  ],
  "metadata": {
    "colab": {
      "provenance": []
    },
    "kernelspec": {
      "display_name": "Python 3",
      "name": "python3"
    },
    "language_info": {
      "name": "python"
    }
  },
  "nbformat": 4,
  "nbformat_minor": 0
}