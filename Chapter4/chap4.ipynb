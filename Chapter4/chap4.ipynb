{
  "cells": [
    {
      "cell_type": "markdown",
      "source": [
        "# **4章　深層学習のしくみを理解しよう**"
      ],
      "metadata": {
        "id": "3ntcr-7-lRbF"
      }
    },
    {
      "cell_type": "markdown",
      "source": [
        "# 4-3　深層学習を実践してみよう"
      ],
      "metadata": {
        "id": "bYmqpOr7lxJK"
      }
    },
    {
      "cell_type": "markdown",
      "source": [
        "**STEP1　データの用意**"
      ],
      "metadata": {
        "id": "LUuKE-dll76v"
      }
    },
    {
      "cell_type": "markdown",
      "metadata": {
        "id": "pI38MfJNbjpb"
      },
      "source": [
        "コード4-3-1　必要なライブラリの読み込み"
      ]
    },
    {
      "cell_type": "code",
      "execution_count": null,
      "metadata": {
        "id": "Jc4FnSGnlAsv"
      },
      "outputs": [],
      "source": [
        "import numpy as np\n",
        "from keras.models import Sequential\n",
        "from keras.layers import Dense\n",
        "from sklearn.model_selection import train_test_split\n",
        "from sklearn.datasets import load_breast_cancer"
      ]
    },
    {
      "cell_type": "markdown",
      "metadata": {
        "id": "GoPjWc-Fbm2w"
      },
      "source": [
        "コード4-3-2　乳がんのデータセットの読み込み"
      ]
    },
    {
      "cell_type": "code",
      "execution_count": null,
      "metadata": {
        "id": "Nj2XWS7HlAq-"
      },
      "outputs": [],
      "source": [
        "bc = load_breast_cancer()"
      ]
    },
    {
      "cell_type": "markdown",
      "metadata": {
        "id": "5RZhBXXibrA8"
      },
      "source": [
        "コード4-3-3　説明変数（特徴量）の確認"
      ]
    },
    {
      "cell_type": "code",
      "execution_count": null,
      "metadata": {
        "id": "1-DPBL5ElAo8"
      },
      "outputs": [],
      "source": [
        "bc.data"
      ]
    },
    {
      "cell_type": "markdown",
      "metadata": {
        "id": "k_Rteo5Ubv34"
      },
      "source": [
        "コード4-3-4　目的変数（正解ラベル）の確認"
      ]
    },
    {
      "cell_type": "code",
      "execution_count": null,
      "metadata": {
        "id": "wdrsL42llAmq"
      },
      "outputs": [],
      "source": [
        "bc.target"
      ]
    },
    {
      "cell_type": "markdown",
      "metadata": {
        "id": "zv2tLE-8b7vg"
      },
      "source": [
        "コード4-3-5　正解ラベルの種類"
      ]
    },
    {
      "cell_type": "code",
      "execution_count": null,
      "metadata": {
        "id": "3K_viy7ylAk0"
      },
      "outputs": [],
      "source": [
        "bc.target_names"
      ]
    },
    {
      "cell_type": "markdown",
      "metadata": {
        "id": "iW5GDF9icGWQ"
      },
      "source": [
        "コード4-3-6　学習用データとテスト用データの分割"
      ]
    },
    {
      "cell_type": "code",
      "execution_count": null,
      "metadata": {
        "id": "oBcRn2wMtV4e"
      },
      "outputs": [],
      "source": [
        "#　前章同様7:3の割合で学習用データを分けます\n",
        "x_train, x_test, y_train, y_test = train_test_split(\n",
        "    bc.data, bc.target, test_size=0.3)\n",
        "print(x_train.shape)\n",
        "print(x_test.shape)\n",
        "print(y_train.shape)\n",
        "print(y_test.shape)"
      ]
    },
    {
      "cell_type": "markdown",
      "metadata": {
        "id": "TXywzqAecOTh"
      },
      "source": [
        "コード4-3-7　説明変数を先頭3つに修正"
      ]
    },
    {
      "cell_type": "code",
      "execution_count": null,
      "metadata": {
        "id": "l9THPspElmi8"
      },
      "outputs": [],
      "source": [
        "# x_train，x_testの内，行はすべて，列は先頭から3列目までを取り出す\n",
        "x_train3 = x_train[:, :3]\n",
        "x_test3 = x_test[:, :3]\n",
        "print(x_train3.shape)\n",
        "print(x_test3.shape)"
      ]
    },
    {
      "cell_type": "markdown",
      "source": [
        "**STEP2　学習用データでの学習**"
      ],
      "metadata": {
        "id": "RQeRQCaymnBW"
      }
    },
    {
      "cell_type": "markdown",
      "metadata": {
        "id": "IVeCBRNgcTJd"
      },
      "source": [
        "コード4-3-8　深層学習モデルの作成"
      ]
    },
    {
      "cell_type": "code",
      "execution_count": null,
      "metadata": {
        "id": "i6iZg1E-lme7"
      },
      "outputs": [],
      "source": [
        "model = Sequential()\n",
        "model.add(Dense(2, input_shape=(3, ), activation='relu')) # 中間層を作成\n",
        "model.add(Dense(1, activation='sigmoid')) # 出力層を作成\n",
        "model.compile(\n",
        "    loss='binary_crossentropy', optimizer='Adam',\n",
        "    metrics=['accuracy']) # 学習方法の設定\n",
        "model.summary()"
      ]
    },
    {
      "cell_type": "markdown",
      "metadata": {
        "id": "ZnryEycecV2Z"
      },
      "source": [
        "（補足）　ランダムなパラメータの値の確認"
      ]
    },
    {
      "cell_type": "code",
      "execution_count": null,
      "metadata": {
        "id": "yT3przhzlmc3"
      },
      "outputs": [],
      "source": [
        "# 本文では述べていませんが、(モデル名).layersとすると、各層の重みやバイアスの値を確認することができます\n",
        "# コード4-3-8を実行するたびに学習前の重みが変わることが確認できます\n",
        "# コード4-3-9以降で本文のような結果が得られない（うまく学習が進まない）ときはコード4-3-8から何度か実行し直してください\n",
        "for i in model.layers:\n",
        "  print(i.weights)"
      ]
    },
    {
      "cell_type": "markdown",
      "source": [
        "**STEP3　損失と重みの更新**"
      ],
      "metadata": {
        "id": "DYFYUOUbmunm"
      }
    },
    {
      "cell_type": "markdown",
      "metadata": {
        "id": "tE-jzL9Ycdxi"
      },
      "source": [
        "コード4-3-9　学習の実施"
      ]
    },
    {
      "cell_type": "code",
      "execution_count": null,
      "metadata": {
        "id": "4IWexWwuvEFX"
      },
      "outputs": [],
      "source": [
        "result = model.fit(x_train3, y_train, batch_size=32, epochs=300)"
      ]
    },
    {
      "cell_type": "markdown",
      "source": [
        "**STEP4　結果の確認**"
      ],
      "metadata": {
        "id": "Q3Tq4OfZm2JS"
      }
    },
    {
      "cell_type": "markdown",
      "metadata": {
        "id": "HAMsg_mncnJH"
      },
      "source": [
        "コード4-3-10　result.historyの値の表示"
      ]
    },
    {
      "cell_type": "code",
      "execution_count": null,
      "metadata": {
        "id": "XdmSjds6x55m"
      },
      "outputs": [],
      "source": [
        "result.history"
      ]
    },
    {
      "cell_type": "markdown",
      "metadata": {
        "id": "mDfExfRxcuIp"
      },
      "source": [
        "コード4-3-11　誤差の学習過程の表示"
      ]
    },
    {
      "cell_type": "code",
      "execution_count": null,
      "metadata": {
        "id": "w6yfg8914DWn"
      },
      "outputs": [],
      "source": [
        "# ここでは誤差のみ実行していますが正解率でも同様です\n",
        "result.history['loss']"
      ]
    },
    {
      "cell_type": "markdown",
      "metadata": {
        "id": "tOs2D2VXcyBO"
      },
      "source": [
        "コード4-3-12　学習過程の図示"
      ]
    },
    {
      "cell_type": "code",
      "execution_count": null,
      "metadata": {
        "id": "OSOTdzwtx53f"
      },
      "outputs": [],
      "source": [
        "import matplotlib.pyplot as plt\n",
        "plt.plot(result.history['loss']) # 誤差のデータをプロット\n",
        "plt.title('loss')\n",
        "plt.show()\n",
        "plt.plot(result.history['accuracy']) # 正解率のデータをプロット\n",
        "plt.title('accuracy')\n",
        "plt.show()"
      ]
    },
    {
      "cell_type": "markdown",
      "source": [
        "**STEP5　テスト用データでのモデルの評価**"
      ],
      "metadata": {
        "id": "ZMn0bpMrm-FM"
      }
    },
    {
      "cell_type": "markdown",
      "metadata": {
        "id": "ngFIRgTsc0Of"
      },
      "source": [
        "コード4-3-13　テスト用データでのモデルの評価"
      ]
    },
    {
      "cell_type": "code",
      "execution_count": null,
      "metadata": {
        "id": "Y5vKAvKfvD85"
      },
      "outputs": [],
      "source": [
        "evaluate_loss, evaluate_accuracy = model.evaluate(x_test3, y_test)\n",
        "print(evaluate_loss)\n",
        "print(evaluate_accuracy)"
      ]
    },
    {
      "cell_type": "markdown",
      "source": [
        "# 4-4　学習モデルの改良"
      ],
      "metadata": {
        "id": "upoIC3-9nEbC"
      }
    },
    {
      "cell_type": "markdown",
      "metadata": {
        "id": "tFiFDxQjc5VX"
      },
      "source": [
        "コード4-4-1　説明変数を10個に変更"
      ]
    },
    {
      "cell_type": "code",
      "execution_count": null,
      "metadata": {
        "id": "hORWS-CXx5xX"
      },
      "outputs": [],
      "source": [
        "x_train10 = x_train[:, :10]\n",
        "x_test10 = x_test[:, :10]\n",
        "print(x_train10.shape)\n",
        "print(x_test10.shape)"
      ]
    },
    {
      "cell_type": "markdown",
      "metadata": {
        "id": "nLn85dLFdCJv"
      },
      "source": [
        "コード4-4-2　中間層2層，ニューロン数4つのモデルに変更"
      ]
    },
    {
      "cell_type": "code",
      "execution_count": null,
      "metadata": {
        "id": "EMq2V4ShDJP6"
      },
      "outputs": [],
      "source": [
        "model = Sequential()\n",
        "model.add(Dense(4, input_shape=(10, ), activation='relu'))\n",
        "model.add(Dense(4, activation='relu')) # 2層目の中間層の指示\n",
        "model.add(Dense(1, activation='sigmoid'))\n",
        "model.compile(\n",
        "    loss='binary_crossentropy', optimizer='Adam', metrics=['accuracy'])\n",
        "model.summary()"
      ]
    },
    {
      "cell_type": "markdown",
      "metadata": {
        "id": "Prs_EtSedF0P"
      },
      "source": [
        "コード4-4-3　再度学習の実施"
      ]
    },
    {
      "cell_type": "code",
      "execution_count": null,
      "metadata": {
        "id": "4AVgcQB60zFt"
      },
      "outputs": [],
      "source": [
        "result = model.fit(x_train10, y_train, batch_size=32, epochs=300)"
      ]
    },
    {
      "cell_type": "markdown",
      "metadata": {
        "id": "VAfXkRFodH7a"
      },
      "source": [
        "コード4-4-4　学習過程の図示"
      ]
    },
    {
      "cell_type": "code",
      "execution_count": null,
      "metadata": {
        "id": "axlEEF8Z0zDd"
      },
      "outputs": [],
      "source": [
        "import matplotlib.pyplot as plt\n",
        "plt.plot(result.history['loss'])\n",
        "plt.title('loss')\n",
        "plt.show()\n",
        "plt.plot(result.history['accuracy'])\n",
        "plt.title('accuracy')\n",
        "plt.show()"
      ]
    },
    {
      "cell_type": "markdown",
      "metadata": {
        "id": "DIvmdClodKdC"
      },
      "source": [
        "コード4-4-5　テスト用データでのモデルの評価"
      ]
    },
    {
      "cell_type": "code",
      "execution_count": null,
      "metadata": {
        "id": "hdwc65jBFqSh"
      },
      "outputs": [],
      "source": [
        "evaluate_loss, evaluate_accuracy = model.evaluate(x_test10, y_test)\n",
        "print(evaluate_loss)\n",
        "print(evaluate_accuracy)"
      ]
    }
  ],
  "metadata": {
    "colab": {
      "provenance": [],
      "toc_visible": true
    },
    "kernelspec": {
      "display_name": "Python 3",
      "name": "python3"
    },
    "language_info": {
      "name": "python"
    }
  },
  "nbformat": 4,
  "nbformat_minor": 0
}