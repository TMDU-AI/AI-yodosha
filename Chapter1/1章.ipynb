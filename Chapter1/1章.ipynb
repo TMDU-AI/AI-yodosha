{
  "nbformat": 4,
  "nbformat_minor": 0,
  "metadata": {
    "colab": {
      "provenance": []
    },
    "kernelspec": {
      "name": "python3",
      "display_name": "Python 3"
    },
    "language_info": {
      "name": "python"
    }
  },
  "cells": [
    {
      "cell_type": "markdown",
      "source": [
        "# 1章　Pythonに触れてみよう"
      ],
      "metadata": {
        "id": "2tN1zDJ5z39E"
      }
    },
    {
      "cell_type": "markdown",
      "source": [
        "**コード1-1：**変数の代入"
      ],
      "metadata": {
        "id": "_bjTu8dyAiMQ"
      }
    },
    {
      "cell_type": "code",
      "execution_count": null,
      "metadata": {
        "id": "mlBPq5lLAJqv",
        "colab": {
          "base_uri": "https://localhost:8080/"
        },
        "outputId": "054dbf23-9172-4ac1-8890-c671f9bdcd03"
      },
      "outputs": [
        {
          "output_type": "stream",
          "name": "stdout",
          "text": [
            "100\n"
          ]
        }
      ],
      "source": [
        "a = 100\n",
        "print(a)"
      ]
    },
    {
      "cell_type": "markdown",
      "source": [
        "**コード1-2：**変数の上書き"
      ],
      "metadata": {
        "id": "ZmUfLA8RAy9J"
      }
    },
    {
      "cell_type": "code",
      "source": [
        "a = 'Hello, World!'    # 「'」（シングルクォーテーション）の中に文字を入れる\n",
        "print(a)"
      ],
      "metadata": {
        "id": "6o-A3NliBU0-",
        "colab": {
          "base_uri": "https://localhost:8080/"
        },
        "outputId": "fc35700f-e73e-4875-f189-26f360f956fb"
      },
      "execution_count": null,
      "outputs": [
        {
          "output_type": "stream",
          "name": "stdout",
          "text": [
            "Hello, World!\n"
          ]
        }
      ]
    },
    {
      "cell_type": "markdown",
      "source": [
        "**コード1-3**：四則演算"
      ],
      "metadata": {
        "id": "GfCl0PdRBEcp"
      }
    },
    {
      "cell_type": "code",
      "source": [
        "a = 10\n",
        "b = 5\n",
        "print(a + b)    # 加算\n",
        "print(a - b)    # 減算\n",
        "print(a * b)    # 乗算\n",
        "print(a / b)    # 除算"
      ],
      "metadata": {
        "id": "yw7c-ghyA1_5",
        "colab": {
          "base_uri": "https://localhost:8080/"
        },
        "outputId": "9bfd7ce9-f1eb-4c22-d06a-ac6dd9eb31f3"
      },
      "execution_count": null,
      "outputs": [
        {
          "output_type": "stream",
          "name": "stdout",
          "text": [
            "15\n",
            "5\n",
            "50\n",
            "2.0\n"
          ]
        }
      ]
    },
    {
      "cell_type": "markdown",
      "source": [
        "**コード1-4：**四則演算2"
      ],
      "metadata": {
        "id": "5ncW24sNFCJb"
      }
    },
    {
      "cell_type": "code",
      "source": [
        "print(9 // 2)    # 整数除算\n",
        "print(9 % 2)     # 剰余演算\n",
        "print(3 ** 2)    # べき乗"
      ],
      "metadata": {
        "id": "NqRe2BBMFGW7",
        "colab": {
          "base_uri": "https://localhost:8080/"
        },
        "outputId": "6d3ad1c9-2e24-4cb3-dd5e-14c4012dff28"
      },
      "execution_count": null,
      "outputs": [
        {
          "output_type": "stream",
          "name": "stdout",
          "text": [
            "4\n",
            "1\n",
            "9\n"
          ]
        }
      ]
    },
    {
      "cell_type": "markdown",
      "source": [
        "**コード1-5：**変数の型"
      ],
      "metadata": {
        "id": "FEOw_80MXC7Q"
      }
    },
    {
      "cell_type": "code",
      "source": [
        "a = 5\n",
        "b = 5.0\n",
        "c = 3 + 4 * b\n",
        "greeting = 'Hello, World!'\n",
        "numbers = [1, 2, 3, 4, 5]\n",
        "person = {'name': 'John', 'age': 30, 'city': 'New York'}"
      ],
      "metadata": {
        "id": "eit5UEuuwqwm"
      },
      "execution_count": null,
      "outputs": []
    },
    {
      "cell_type": "markdown",
      "source": [
        "**コード1-6：**type関数"
      ],
      "metadata": {
        "id": "g9mNSH5D_fln"
      }
    },
    {
      "cell_type": "code",
      "source": [
        "print(type(a))    # print(type(変数名))で変数名のデータ型を出力\n",
        "print(type(b))\n",
        "print(type(c))\n",
        "print(type(greeting))\n",
        "print(type(numbers))\n",
        "print(type(person))"
      ],
      "metadata": {
        "id": "Am8SZJhjIUbs",
        "colab": {
          "base_uri": "https://localhost:8080/"
        },
        "outputId": "68662656-5eab-46cd-e131-8f15593e1a5c"
      },
      "execution_count": null,
      "outputs": [
        {
          "output_type": "stream",
          "name": "stdout",
          "text": [
            "<class 'int'>\n",
            "<class 'float'>\n",
            "<class 'float'>\n",
            "<class 'str'>\n",
            "<class 'list'>\n",
            "<class 'dict'>\n"
          ]
        }
      ]
    },
    {
      "cell_type": "markdown",
      "source": [
        "**コード1-7：**リスト"
      ],
      "metadata": {
        "id": "bUpBbYpW_noS"
      }
    },
    {
      "cell_type": "code",
      "execution_count": null,
      "metadata": {
        "id": "G_Dp0-ap9wyo",
        "colab": {
          "base_uri": "https://localhost:8080/"
        },
        "outputId": "1687ad21-c597-44f3-93b7-943a36da4e24"
      },
      "outputs": [
        {
          "output_type": "stream",
          "name": "stdout",
          "text": [
            "apple\n",
            "banana\n"
          ]
        }
      ],
      "source": [
        "fruits = ['apple', 'banana', 'cherry', 'melon']\n",
        "print(fruits[0])\n",
        "print(fruits[1])"
      ]
    },
    {
      "cell_type": "markdown",
      "source": [
        "**コード1-8：**リストの要素の置換"
      ],
      "metadata": {
        "id": "S-Suu2X0_uJk"
      }
    },
    {
      "cell_type": "code",
      "source": [
        "fruits = ['apple', 'banana', 'cherry', 'melon']\n",
        "fruits[1] = 'blueberry'\n",
        "print(fruits)"
      ],
      "metadata": {
        "id": "Ph1NEV4XXd20",
        "colab": {
          "base_uri": "https://localhost:8080/"
        },
        "outputId": "c10c0b47-f463-4d9b-92f1-7f2d138f5a67"
      },
      "execution_count": null,
      "outputs": [
        {
          "output_type": "stream",
          "name": "stdout",
          "text": [
            "['apple', 'blueberry', 'cherry', 'melon']\n"
          ]
        }
      ]
    },
    {
      "cell_type": "markdown",
      "source": [
        "**コード1-9：**リストの要素の追加、削除"
      ],
      "metadata": {
        "id": "bk2sz6is_4v9"
      }
    },
    {
      "cell_type": "code",
      "source": [
        "fruits = ['apple', 'blueberry', 'cherry', 'melon']\n",
        "fruits.append('strawberry')\n",
        "print(fruits)\n",
        "fruits.remove('cherry')\n",
        "print(fruits)"
      ],
      "metadata": {
        "id": "LsX7zYUuFyFS",
        "colab": {
          "base_uri": "https://localhost:8080/"
        },
        "outputId": "4a19da86-2107-4b3e-c20a-49189a2d49c0"
      },
      "execution_count": null,
      "outputs": [
        {
          "output_type": "stream",
          "name": "stdout",
          "text": [
            "['apple', 'blueberry', 'cherry', 'melon', 'strawberry']\n",
            "['apple', 'blueberry', 'melon', 'strawberry']\n"
          ]
        }
      ]
    },
    {
      "cell_type": "markdown",
      "source": [
        "**コード1-10：**リストのスライス"
      ],
      "metadata": {
        "id": "KgzLtX26uoHp"
      }
    },
    {
      "cell_type": "code",
      "source": [
        "fruits = ['apple', 'blueberry', 'cherry', 'melon']\n",
        "print(fruits[1:3])\n",
        "print(fruits[:2])"
      ],
      "metadata": {
        "colab": {
          "base_uri": "https://localhost:8080/"
        },
        "id": "f4rwlf68IeoE",
        "outputId": "e44ebc71-2701-42bf-9736-309d6362c942"
      },
      "execution_count": null,
      "outputs": [
        {
          "output_type": "stream",
          "name": "stdout",
          "text": [
            "['blueberry', 'cherry']\n",
            "['apple', 'blueberry']\n"
          ]
        }
      ]
    },
    {
      "cell_type": "markdown",
      "source": [
        "# 1.6 関数"
      ],
      "metadata": {
        "id": "Qk8Hz41PvLAH"
      }
    },
    {
      "cell_type": "markdown",
      "source": [
        "**コード1-11：**関数の定義"
      ],
      "metadata": {
        "id": "v-EnOMmN4edC"
      }
    },
    {
      "cell_type": "code",
      "source": [
        "def cal(a, b, c):\n",
        "  return a + 4 * b + 5 * c"
      ],
      "metadata": {
        "id": "DiOBNLzY1ss-"
      },
      "execution_count": null,
      "outputs": []
    },
    {
      "cell_type": "markdown",
      "source": [
        "**コード1-12：**関数の実行"
      ],
      "metadata": {
        "id": "txleglNjvc26"
      }
    },
    {
      "cell_type": "code",
      "source": [
        "result = cal(1, 2, 3)\n",
        "print(result)"
      ],
      "metadata": {
        "colab": {
          "base_uri": "https://localhost:8080/"
        },
        "id": "MmUxdo1SJAhZ",
        "outputId": "5fd2efa0-c60c-4f46-ee4a-b943fd413ad2"
      },
      "execution_count": null,
      "outputs": [
        {
          "output_type": "stream",
          "name": "stdout",
          "text": [
            "24\n"
          ]
        }
      ]
    },
    {
      "cell_type": "markdown",
      "source": [
        "**コード1-13：**CSVファイルの読み込み"
      ],
      "metadata": {
        "id": "KKc4hr1-4jIP"
      }
    },
    {
      "cell_type": "code",
      "source": [
        "# 1章から始めている場合や一度ノートブックの接続が切れている場合はこのセルを実行して\n",
        "# 再度Google Driveをマウントしてください(0章コード0-7)\n",
        "from google.colab import drive\n",
        "drive.mount('/content/drive')"
      ],
      "metadata": {
        "colab": {
          "base_uri": "https://localhost:8080/"
        },
        "id": "wD1dY8o9wEtR",
        "outputId": "0d85fdfc-4dbc-421d-d190-8338db2dfcd7"
      },
      "execution_count": 20,
      "outputs": [
        {
          "output_type": "stream",
          "name": "stdout",
          "text": [
            "Drive already mounted at /content/drive; to attempt to forcibly remount, call drive.mount(\"/content/drive\", force_remount=True).\n"
          ]
        }
      ]
    },
    {
      "cell_type": "code",
      "source": [
        "import pandas as pd\n",
        "klist = pd.read_csv('/content/drive/My Drive/dwhdata20240222.csv', encoding='utf-8')\n",
        "klist"
      ],
      "metadata": {
        "id": "_ywINX9azLt3",
        "colab": {
          "base_uri": "https://localhost:8080/",
          "height": 424
        },
        "outputId": "3a4132fb-77d8-4838-e74b-c2c882d44e69"
      },
      "execution_count": 21,
      "outputs": [
        {
          "output_type": "execute_result",
          "data": {
            "text/plain": [
              "            id tooth name tooth record gender  age\n",
              "0         pt_1         A1          残存歯      男   77\n",
              "1         pt_1         A2          喪失歯      男   77\n",
              "2         pt_1         A3          残存歯      男   77\n",
              "3         pt_1         A4          残存歯      男   77\n",
              "4         pt_1         A5          残存歯      男   77\n",
              "...        ...        ...          ...    ...  ...\n",
              "53019  pt_1657         D4          喪失歯      女   40\n",
              "53020  pt_1657         D5          残存歯      女   40\n",
              "53021  pt_1657         D6          残存歯      女   40\n",
              "53022  pt_1657         D7          喪失歯      女   40\n",
              "53023  pt_1657         D8          残存歯      女   40\n",
              "\n",
              "[53024 rows x 5 columns]"
            ],
            "text/html": [
              "\n",
              "  <div id=\"df-7f710632-be97-4cfb-96c3-0acf39fc84ba\" class=\"colab-df-container\">\n",
              "    <div>\n",
              "<style scoped>\n",
              "    .dataframe tbody tr th:only-of-type {\n",
              "        vertical-align: middle;\n",
              "    }\n",
              "\n",
              "    .dataframe tbody tr th {\n",
              "        vertical-align: top;\n",
              "    }\n",
              "\n",
              "    .dataframe thead th {\n",
              "        text-align: right;\n",
              "    }\n",
              "</style>\n",
              "<table border=\"1\" class=\"dataframe\">\n",
              "  <thead>\n",
              "    <tr style=\"text-align: right;\">\n",
              "      <th></th>\n",
              "      <th>id</th>\n",
              "      <th>tooth name</th>\n",
              "      <th>tooth record</th>\n",
              "      <th>gender</th>\n",
              "      <th>age</th>\n",
              "    </tr>\n",
              "  </thead>\n",
              "  <tbody>\n",
              "    <tr>\n",
              "      <th>0</th>\n",
              "      <td>pt_1</td>\n",
              "      <td>A1</td>\n",
              "      <td>残存歯</td>\n",
              "      <td>男</td>\n",
              "      <td>77</td>\n",
              "    </tr>\n",
              "    <tr>\n",
              "      <th>1</th>\n",
              "      <td>pt_1</td>\n",
              "      <td>A2</td>\n",
              "      <td>喪失歯</td>\n",
              "      <td>男</td>\n",
              "      <td>77</td>\n",
              "    </tr>\n",
              "    <tr>\n",
              "      <th>2</th>\n",
              "      <td>pt_1</td>\n",
              "      <td>A3</td>\n",
              "      <td>残存歯</td>\n",
              "      <td>男</td>\n",
              "      <td>77</td>\n",
              "    </tr>\n",
              "    <tr>\n",
              "      <th>3</th>\n",
              "      <td>pt_1</td>\n",
              "      <td>A4</td>\n",
              "      <td>残存歯</td>\n",
              "      <td>男</td>\n",
              "      <td>77</td>\n",
              "    </tr>\n",
              "    <tr>\n",
              "      <th>4</th>\n",
              "      <td>pt_1</td>\n",
              "      <td>A5</td>\n",
              "      <td>残存歯</td>\n",
              "      <td>男</td>\n",
              "      <td>77</td>\n",
              "    </tr>\n",
              "    <tr>\n",
              "      <th>...</th>\n",
              "      <td>...</td>\n",
              "      <td>...</td>\n",
              "      <td>...</td>\n",
              "      <td>...</td>\n",
              "      <td>...</td>\n",
              "    </tr>\n",
              "    <tr>\n",
              "      <th>53019</th>\n",
              "      <td>pt_1657</td>\n",
              "      <td>D4</td>\n",
              "      <td>喪失歯</td>\n",
              "      <td>女</td>\n",
              "      <td>40</td>\n",
              "    </tr>\n",
              "    <tr>\n",
              "      <th>53020</th>\n",
              "      <td>pt_1657</td>\n",
              "      <td>D5</td>\n",
              "      <td>残存歯</td>\n",
              "      <td>女</td>\n",
              "      <td>40</td>\n",
              "    </tr>\n",
              "    <tr>\n",
              "      <th>53021</th>\n",
              "      <td>pt_1657</td>\n",
              "      <td>D6</td>\n",
              "      <td>残存歯</td>\n",
              "      <td>女</td>\n",
              "      <td>40</td>\n",
              "    </tr>\n",
              "    <tr>\n",
              "      <th>53022</th>\n",
              "      <td>pt_1657</td>\n",
              "      <td>D7</td>\n",
              "      <td>喪失歯</td>\n",
              "      <td>女</td>\n",
              "      <td>40</td>\n",
              "    </tr>\n",
              "    <tr>\n",
              "      <th>53023</th>\n",
              "      <td>pt_1657</td>\n",
              "      <td>D8</td>\n",
              "      <td>残存歯</td>\n",
              "      <td>女</td>\n",
              "      <td>40</td>\n",
              "    </tr>\n",
              "  </tbody>\n",
              "</table>\n",
              "<p>53024 rows × 5 columns</p>\n",
              "</div>\n",
              "    <div class=\"colab-df-buttons\">\n",
              "\n",
              "  <div class=\"colab-df-container\">\n",
              "    <button class=\"colab-df-convert\" onclick=\"convertToInteractive('df-7f710632-be97-4cfb-96c3-0acf39fc84ba')\"\n",
              "            title=\"Convert this dataframe to an interactive table.\"\n",
              "            style=\"display:none;\">\n",
              "\n",
              "  <svg xmlns=\"http://www.w3.org/2000/svg\" height=\"24px\" viewBox=\"0 -960 960 960\">\n",
              "    <path d=\"M120-120v-720h720v720H120Zm60-500h600v-160H180v160Zm220 220h160v-160H400v160Zm0 220h160v-160H400v160ZM180-400h160v-160H180v160Zm440 0h160v-160H620v160ZM180-180h160v-160H180v160Zm440 0h160v-160H620v160Z\"/>\n",
              "  </svg>\n",
              "    </button>\n",
              "\n",
              "  <style>\n",
              "    .colab-df-container {\n",
              "      display:flex;\n",
              "      gap: 12px;\n",
              "    }\n",
              "\n",
              "    .colab-df-convert {\n",
              "      background-color: #E8F0FE;\n",
              "      border: none;\n",
              "      border-radius: 50%;\n",
              "      cursor: pointer;\n",
              "      display: none;\n",
              "      fill: #1967D2;\n",
              "      height: 32px;\n",
              "      padding: 0 0 0 0;\n",
              "      width: 32px;\n",
              "    }\n",
              "\n",
              "    .colab-df-convert:hover {\n",
              "      background-color: #E2EBFA;\n",
              "      box-shadow: 0px 1px 2px rgba(60, 64, 67, 0.3), 0px 1px 3px 1px rgba(60, 64, 67, 0.15);\n",
              "      fill: #174EA6;\n",
              "    }\n",
              "\n",
              "    .colab-df-buttons div {\n",
              "      margin-bottom: 4px;\n",
              "    }\n",
              "\n",
              "    [theme=dark] .colab-df-convert {\n",
              "      background-color: #3B4455;\n",
              "      fill: #D2E3FC;\n",
              "    }\n",
              "\n",
              "    [theme=dark] .colab-df-convert:hover {\n",
              "      background-color: #434B5C;\n",
              "      box-shadow: 0px 1px 3px 1px rgba(0, 0, 0, 0.15);\n",
              "      filter: drop-shadow(0px 1px 2px rgba(0, 0, 0, 0.3));\n",
              "      fill: #FFFFFF;\n",
              "    }\n",
              "  </style>\n",
              "\n",
              "    <script>\n",
              "      const buttonEl =\n",
              "        document.querySelector('#df-7f710632-be97-4cfb-96c3-0acf39fc84ba button.colab-df-convert');\n",
              "      buttonEl.style.display =\n",
              "        google.colab.kernel.accessAllowed ? 'block' : 'none';\n",
              "\n",
              "      async function convertToInteractive(key) {\n",
              "        const element = document.querySelector('#df-7f710632-be97-4cfb-96c3-0acf39fc84ba');\n",
              "        const dataTable =\n",
              "          await google.colab.kernel.invokeFunction('convertToInteractive',\n",
              "                                                    [key], {});\n",
              "        if (!dataTable) return;\n",
              "\n",
              "        const docLinkHtml = 'Like what you see? Visit the ' +\n",
              "          '<a target=\"_blank\" href=https://colab.research.google.com/notebooks/data_table.ipynb>data table notebook</a>'\n",
              "          + ' to learn more about interactive tables.';\n",
              "        element.innerHTML = '';\n",
              "        dataTable['output_type'] = 'display_data';\n",
              "        await google.colab.output.renderOutput(dataTable, element);\n",
              "        const docLink = document.createElement('div');\n",
              "        docLink.innerHTML = docLinkHtml;\n",
              "        element.appendChild(docLink);\n",
              "      }\n",
              "    </script>\n",
              "  </div>\n",
              "\n",
              "\n",
              "<div id=\"df-d1c1735e-91da-4d62-acab-5c4363d27e37\">\n",
              "  <button class=\"colab-df-quickchart\" onclick=\"quickchart('df-d1c1735e-91da-4d62-acab-5c4363d27e37')\"\n",
              "            title=\"Suggest charts\"\n",
              "            style=\"display:none;\">\n",
              "\n",
              "<svg xmlns=\"http://www.w3.org/2000/svg\" height=\"24px\"viewBox=\"0 0 24 24\"\n",
              "     width=\"24px\">\n",
              "    <g>\n",
              "        <path d=\"M19 3H5c-1.1 0-2 .9-2 2v14c0 1.1.9 2 2 2h14c1.1 0 2-.9 2-2V5c0-1.1-.9-2-2-2zM9 17H7v-7h2v7zm4 0h-2V7h2v10zm4 0h-2v-4h2v4z\"/>\n",
              "    </g>\n",
              "</svg>\n",
              "  </button>\n",
              "\n",
              "<style>\n",
              "  .colab-df-quickchart {\n",
              "      --bg-color: #E8F0FE;\n",
              "      --fill-color: #1967D2;\n",
              "      --hover-bg-color: #E2EBFA;\n",
              "      --hover-fill-color: #174EA6;\n",
              "      --disabled-fill-color: #AAA;\n",
              "      --disabled-bg-color: #DDD;\n",
              "  }\n",
              "\n",
              "  [theme=dark] .colab-df-quickchart {\n",
              "      --bg-color: #3B4455;\n",
              "      --fill-color: #D2E3FC;\n",
              "      --hover-bg-color: #434B5C;\n",
              "      --hover-fill-color: #FFFFFF;\n",
              "      --disabled-bg-color: #3B4455;\n",
              "      --disabled-fill-color: #666;\n",
              "  }\n",
              "\n",
              "  .colab-df-quickchart {\n",
              "    background-color: var(--bg-color);\n",
              "    border: none;\n",
              "    border-radius: 50%;\n",
              "    cursor: pointer;\n",
              "    display: none;\n",
              "    fill: var(--fill-color);\n",
              "    height: 32px;\n",
              "    padding: 0;\n",
              "    width: 32px;\n",
              "  }\n",
              "\n",
              "  .colab-df-quickchart:hover {\n",
              "    background-color: var(--hover-bg-color);\n",
              "    box-shadow: 0 1px 2px rgba(60, 64, 67, 0.3), 0 1px 3px 1px rgba(60, 64, 67, 0.15);\n",
              "    fill: var(--button-hover-fill-color);\n",
              "  }\n",
              "\n",
              "  .colab-df-quickchart-complete:disabled,\n",
              "  .colab-df-quickchart-complete:disabled:hover {\n",
              "    background-color: var(--disabled-bg-color);\n",
              "    fill: var(--disabled-fill-color);\n",
              "    box-shadow: none;\n",
              "  }\n",
              "\n",
              "  .colab-df-spinner {\n",
              "    border: 2px solid var(--fill-color);\n",
              "    border-color: transparent;\n",
              "    border-bottom-color: var(--fill-color);\n",
              "    animation:\n",
              "      spin 1s steps(1) infinite;\n",
              "  }\n",
              "\n",
              "  @keyframes spin {\n",
              "    0% {\n",
              "      border-color: transparent;\n",
              "      border-bottom-color: var(--fill-color);\n",
              "      border-left-color: var(--fill-color);\n",
              "    }\n",
              "    20% {\n",
              "      border-color: transparent;\n",
              "      border-left-color: var(--fill-color);\n",
              "      border-top-color: var(--fill-color);\n",
              "    }\n",
              "    30% {\n",
              "      border-color: transparent;\n",
              "      border-left-color: var(--fill-color);\n",
              "      border-top-color: var(--fill-color);\n",
              "      border-right-color: var(--fill-color);\n",
              "    }\n",
              "    40% {\n",
              "      border-color: transparent;\n",
              "      border-right-color: var(--fill-color);\n",
              "      border-top-color: var(--fill-color);\n",
              "    }\n",
              "    60% {\n",
              "      border-color: transparent;\n",
              "      border-right-color: var(--fill-color);\n",
              "    }\n",
              "    80% {\n",
              "      border-color: transparent;\n",
              "      border-right-color: var(--fill-color);\n",
              "      border-bottom-color: var(--fill-color);\n",
              "    }\n",
              "    90% {\n",
              "      border-color: transparent;\n",
              "      border-bottom-color: var(--fill-color);\n",
              "    }\n",
              "  }\n",
              "</style>\n",
              "\n",
              "  <script>\n",
              "    async function quickchart(key) {\n",
              "      const quickchartButtonEl =\n",
              "        document.querySelector('#' + key + ' button');\n",
              "      quickchartButtonEl.disabled = true;  // To prevent multiple clicks.\n",
              "      quickchartButtonEl.classList.add('colab-df-spinner');\n",
              "      try {\n",
              "        const charts = await google.colab.kernel.invokeFunction(\n",
              "            'suggestCharts', [key], {});\n",
              "      } catch (error) {\n",
              "        console.error('Error during call to suggestCharts:', error);\n",
              "      }\n",
              "      quickchartButtonEl.classList.remove('colab-df-spinner');\n",
              "      quickchartButtonEl.classList.add('colab-df-quickchart-complete');\n",
              "    }\n",
              "    (() => {\n",
              "      let quickchartButtonEl =\n",
              "        document.querySelector('#df-d1c1735e-91da-4d62-acab-5c4363d27e37 button');\n",
              "      quickchartButtonEl.style.display =\n",
              "        google.colab.kernel.accessAllowed ? 'block' : 'none';\n",
              "    })();\n",
              "  </script>\n",
              "</div>\n",
              "\n",
              "  <div id=\"id_16805180-3630-4253-a913-fd88a0d72f7a\">\n",
              "    <style>\n",
              "      .colab-df-generate {\n",
              "        background-color: #E8F0FE;\n",
              "        border: none;\n",
              "        border-radius: 50%;\n",
              "        cursor: pointer;\n",
              "        display: none;\n",
              "        fill: #1967D2;\n",
              "        height: 32px;\n",
              "        padding: 0 0 0 0;\n",
              "        width: 32px;\n",
              "      }\n",
              "\n",
              "      .colab-df-generate:hover {\n",
              "        background-color: #E2EBFA;\n",
              "        box-shadow: 0px 1px 2px rgba(60, 64, 67, 0.3), 0px 1px 3px 1px rgba(60, 64, 67, 0.15);\n",
              "        fill: #174EA6;\n",
              "      }\n",
              "\n",
              "      [theme=dark] .colab-df-generate {\n",
              "        background-color: #3B4455;\n",
              "        fill: #D2E3FC;\n",
              "      }\n",
              "\n",
              "      [theme=dark] .colab-df-generate:hover {\n",
              "        background-color: #434B5C;\n",
              "        box-shadow: 0px 1px 3px 1px rgba(0, 0, 0, 0.15);\n",
              "        filter: drop-shadow(0px 1px 2px rgba(0, 0, 0, 0.3));\n",
              "        fill: #FFFFFF;\n",
              "      }\n",
              "    </style>\n",
              "    <button class=\"colab-df-generate\" onclick=\"generateWithVariable('klist')\"\n",
              "            title=\"Generate code using this dataframe.\"\n",
              "            style=\"display:none;\">\n",
              "\n",
              "  <svg xmlns=\"http://www.w3.org/2000/svg\" height=\"24px\"viewBox=\"0 0 24 24\"\n",
              "       width=\"24px\">\n",
              "    <path d=\"M7,19H8.4L18.45,9,17,7.55,7,17.6ZM5,21V16.75L18.45,3.32a2,2,0,0,1,2.83,0l1.4,1.43a1.91,1.91,0,0,1,.58,1.4,1.91,1.91,0,0,1-.58,1.4L9.25,21ZM18.45,9,17,7.55Zm-12,3A5.31,5.31,0,0,0,4.9,8.1,5.31,5.31,0,0,0,1,6.5,5.31,5.31,0,0,0,4.9,4.9,5.31,5.31,0,0,0,6.5,1,5.31,5.31,0,0,0,8.1,4.9,5.31,5.31,0,0,0,12,6.5,5.46,5.46,0,0,0,6.5,12Z\"/>\n",
              "  </svg>\n",
              "    </button>\n",
              "    <script>\n",
              "      (() => {\n",
              "      const buttonEl =\n",
              "        document.querySelector('#id_16805180-3630-4253-a913-fd88a0d72f7a button.colab-df-generate');\n",
              "      buttonEl.style.display =\n",
              "        google.colab.kernel.accessAllowed ? 'block' : 'none';\n",
              "\n",
              "      buttonEl.onclick = () => {\n",
              "        google.colab.notebook.generateWithVariable('klist');\n",
              "      }\n",
              "      })();\n",
              "    </script>\n",
              "  </div>\n",
              "\n",
              "    </div>\n",
              "  </div>\n"
            ],
            "application/vnd.google.colaboratory.intrinsic+json": {
              "type": "dataframe",
              "variable_name": "klist",
              "summary": "{\n  \"name\": \"klist\",\n  \"rows\": 53024,\n  \"fields\": [\n    {\n      \"column\": \"id\",\n      \"properties\": {\n        \"dtype\": \"category\",\n        \"num_unique_values\": 1657,\n        \"samples\": [\n          \"pt_1465\",\n          \"pt_414\",\n          \"pt_839\"\n        ],\n        \"semantic_type\": \"\",\n        \"description\": \"\"\n      }\n    },\n    {\n      \"column\": \"tooth name\",\n      \"properties\": {\n        \"dtype\": \"category\",\n        \"num_unique_values\": 32,\n        \"samples\": [\n          \"D6\",\n          \"B8\",\n          \"D1\"\n        ],\n        \"semantic_type\": \"\",\n        \"description\": \"\"\n      }\n    },\n    {\n      \"column\": \"tooth record\",\n      \"properties\": {\n        \"dtype\": \"category\",\n        \"num_unique_values\": 2,\n        \"samples\": [\n          \"\\u55aa\\u5931\\u6b6f\",\n          \"\\u6b8b\\u5b58\\u6b6f\"\n        ],\n        \"semantic_type\": \"\",\n        \"description\": \"\"\n      }\n    },\n    {\n      \"column\": \"gender\",\n      \"properties\": {\n        \"dtype\": \"category\",\n        \"num_unique_values\": 2,\n        \"samples\": [\n          \"\\u5973\",\n          \"\\u7537\"\n        ],\n        \"semantic_type\": \"\",\n        \"description\": \"\"\n      }\n    },\n    {\n      \"column\": \"age\",\n      \"properties\": {\n        \"dtype\": \"number\",\n        \"std\": 10,\n        \"min\": 36,\n        \"max\": 79,\n        \"num_unique_values\": 44,\n        \"samples\": [\n          42,\n          55\n        ],\n        \"semantic_type\": \"\",\n        \"description\": \"\"\n      }\n    }\n  ]\n}"
            }
          },
          "metadata": {},
          "execution_count": 21
        }
      ]
    },
    {
      "cell_type": "markdown",
      "source": [
        "**コード1-14：**データフレームの操作"
      ],
      "metadata": {
        "id": "uYGw2QU0xgKB"
      }
    },
    {
      "cell_type": "code",
      "source": [
        "print(klist.shape)\n",
        "print(klist.size)\n",
        "print(klist.columns)"
      ],
      "metadata": {
        "colab": {
          "base_uri": "https://localhost:8080/"
        },
        "id": "9jjInPbZK4Bv",
        "outputId": "cb580d2d-645d-4c79-c510-b2f30d1a9b43"
      },
      "execution_count": 23,
      "outputs": [
        {
          "output_type": "stream",
          "name": "stdout",
          "text": [
            "(53024, 5)\n",
            "265120\n",
            "Index(['id', 'tooth name', 'tooth record', 'gender', 'age'], dtype='object')\n"
          ]
        }
      ]
    },
    {
      "cell_type": "markdown",
      "source": [
        "**コード1-15：**データフレームの操作(特定の列の抽出)"
      ],
      "metadata": {
        "id": "vwbnK5H3xyjg"
      }
    },
    {
      "cell_type": "code",
      "source": [
        "print(klist['age'])"
      ],
      "metadata": {
        "colab": {
          "base_uri": "https://localhost:8080/"
        },
        "id": "TwgW5zD1_opK",
        "outputId": "fdae4852-bda8-4f10-e03e-f5d99cce7abf"
      },
      "execution_count": 24,
      "outputs": [
        {
          "output_type": "stream",
          "name": "stdout",
          "text": [
            "0        77\n",
            "1        77\n",
            "2        77\n",
            "3        77\n",
            "4        77\n",
            "         ..\n",
            "53019    40\n",
            "53020    40\n",
            "53021    40\n",
            "53022    40\n",
            "53023    40\n",
            "Name: age, Length: 53024, dtype: int64\n"
          ]
        }
      ]
    },
    {
      "cell_type": "markdown",
      "source": [
        "**コード1-16：**データフレームの操作(複数の列の抽出)"
      ],
      "metadata": {
        "id": "c8acCnLufsBi"
      }
    },
    {
      "cell_type": "code",
      "source": [
        "print(klist[['id', 'age']])"
      ],
      "metadata": {
        "colab": {
          "base_uri": "https://localhost:8080/"
        },
        "id": "zhNax7GYcBid",
        "outputId": "2bd46ef0-e7b7-41c0-b02e-3a6f4bfd0b81"
      },
      "execution_count": 25,
      "outputs": [
        {
          "output_type": "stream",
          "name": "stdout",
          "text": [
            "            id  age\n",
            "0         pt_1   77\n",
            "1         pt_1   77\n",
            "2         pt_1   77\n",
            "3         pt_1   77\n",
            "4         pt_1   77\n",
            "...        ...  ...\n",
            "53019  pt_1657   40\n",
            "53020  pt_1657   40\n",
            "53021  pt_1657   40\n",
            "53022  pt_1657   40\n",
            "53023  pt_1657   40\n",
            "\n",
            "[53024 rows x 2 columns]\n"
          ]
        }
      ]
    },
    {
      "cell_type": "markdown",
      "source": [
        "**コード1-17：**データフレームの操作(特定の行の抽出)"
      ],
      "metadata": {
        "id": "cmZB8NYKnk6l"
      }
    },
    {
      "cell_type": "code",
      "source": [
        "print(klist[0:1])"
      ],
      "metadata": {
        "colab": {
          "base_uri": "https://localhost:8080/"
        },
        "id": "68RUpLT7bVJo",
        "outputId": "1c3f9715-ec7f-4f5e-f157-8165025e451e"
      },
      "execution_count": 26,
      "outputs": [
        {
          "output_type": "stream",
          "name": "stdout",
          "text": [
            "     id tooth name tooth record gender  age\n",
            "0  pt_1         A1          残存歯      男   77\n"
          ]
        }
      ]
    },
    {
      "cell_type": "markdown",
      "source": [
        "**コード1-18：**データフレームの操作(複数の行の抽出)"
      ],
      "metadata": {
        "id": "KIqUuQQ2mXo_"
      }
    },
    {
      "cell_type": "code",
      "source": [
        "print(klist[3:10])"
      ],
      "metadata": {
        "colab": {
          "base_uri": "https://localhost:8080/"
        },
        "id": "eVS1TcLMbe-0",
        "outputId": "3df3ae7f-de2d-4598-ddbb-d1d8081d2164"
      },
      "execution_count": 27,
      "outputs": [
        {
          "output_type": "stream",
          "name": "stdout",
          "text": [
            "     id tooth name tooth record gender  age\n",
            "3  pt_1         A4          残存歯      男   77\n",
            "4  pt_1         A5          残存歯      男   77\n",
            "5  pt_1         A6          残存歯      男   77\n",
            "6  pt_1         A7          喪失歯      男   77\n",
            "7  pt_1         A8          残存歯      男   77\n",
            "8  pt_1         B1          残存歯      男   77\n",
            "9  pt_1         B2          喪失歯      男   77\n"
          ]
        }
      ]
    },
    {
      "cell_type": "markdown",
      "source": [
        "**コード1-19：**データフレームの操作(特定の行と列を指定した値の抽出)"
      ],
      "metadata": {
        "id": "g2Cq_k4L1M8m"
      }
    },
    {
      "cell_type": "code",
      "source": [
        "print(klist.loc[3, 'tooth name'])"
      ],
      "metadata": {
        "colab": {
          "base_uri": "https://localhost:8080/"
        },
        "id": "LR6JwtCFe8WD",
        "outputId": "f46dd1f2-16c0-40a2-9072-f8ea61640625"
      },
      "execution_count": 28,
      "outputs": [
        {
          "output_type": "stream",
          "name": "stdout",
          "text": [
            "A4\n"
          ]
        }
      ]
    },
    {
      "cell_type": "markdown",
      "source": [
        "**コード1-20：**データフレームの操作(複数の行と列の抽出)"
      ],
      "metadata": {
        "id": "vW-jZ1x5oLqU"
      }
    },
    {
      "cell_type": "code",
      "source": [
        "print(klist.loc[4:6, ['tooth name', 'tooth record']])"
      ],
      "metadata": {
        "colab": {
          "base_uri": "https://localhost:8080/"
        },
        "id": "7Z6evwIto9Hq",
        "outputId": "999dd454-0cff-44db-c82a-39363ef18a6e"
      },
      "execution_count": 29,
      "outputs": [
        {
          "output_type": "stream",
          "name": "stdout",
          "text": [
            "  tooth name tooth record\n",
            "4         A5          残存歯\n",
            "5         A6          残存歯\n",
            "6         A7          喪失歯\n"
          ]
        }
      ]
    },
    {
      "cell_type": "markdown",
      "source": [
        "**コード1-21：**データフレームの操作(複数の行と列の抽出2)"
      ],
      "metadata": {
        "id": "T1QEtNoWpZdQ"
      }
    },
    {
      "cell_type": "code",
      "source": [
        "print(klist.loc[10000:20000, :])"
      ],
      "metadata": {
        "colab": {
          "base_uri": "https://localhost:8080/"
        },
        "id": "gkOsVvXo1MTr",
        "outputId": "4e0a4108-f794-4ed6-a132-65898e94a55a"
      },
      "execution_count": 30,
      "outputs": [
        {
          "output_type": "stream",
          "name": "stdout",
          "text": [
            "           id tooth name tooth record gender  age\n",
            "10000  pt_313         C1          残存歯      男   70\n",
            "10001  pt_313         C2          残存歯      男   70\n",
            "10002  pt_313         C3          残存歯      男   70\n",
            "10003  pt_313         C4          残存歯      男   70\n",
            "10004  pt_313         C5          残存歯      男   70\n",
            "...       ...        ...          ...    ...  ...\n",
            "19996  pt_625         D5          残存歯      男   61\n",
            "19997  pt_625         D6          残存歯      男   61\n",
            "19998  pt_625         D7          残存歯      男   61\n",
            "19999  pt_625         D8          残存歯      男   61\n",
            "20000  pt_626         A1          残存歯      女   64\n",
            "\n",
            "[10001 rows x 5 columns]\n"
          ]
        }
      ]
    },
    {
      "cell_type": "markdown",
      "source": [
        "**コード1-22：**データフレームの操作(特定の条件を満たす行を抽出)"
      ],
      "metadata": {
        "id": "Y1YWoDRN5FSY"
      }
    },
    {
      "cell_type": "code",
      "source": [
        "print(klist[klist['gender'] == '男'])"
      ],
      "metadata": {
        "id": "2hHbeiK4FFog",
        "colab": {
          "base_uri": "https://localhost:8080/"
        },
        "outputId": "d856c38e-fccc-431d-f69c-d0fcced68bc6"
      },
      "execution_count": 31,
      "outputs": [
        {
          "output_type": "stream",
          "name": "stdout",
          "text": [
            "            id tooth name tooth record gender  age\n",
            "0         pt_1         A1          残存歯      男   77\n",
            "1         pt_1         A2          喪失歯      男   77\n",
            "2         pt_1         A3          残存歯      男   77\n",
            "3         pt_1         A4          残存歯      男   77\n",
            "4         pt_1         A5          残存歯      男   77\n",
            "...        ...        ...          ...    ...  ...\n",
            "52891  pt_1653         D4          喪失歯      男   36\n",
            "52892  pt_1653         D5          残存歯      男   36\n",
            "52893  pt_1653         D6          残存歯      男   36\n",
            "52894  pt_1653         D7          残存歯      男   36\n",
            "52895  pt_1653         D8          残存歯      男   36\n",
            "\n",
            "[20672 rows x 5 columns]\n"
          ]
        }
      ]
    },
    {
      "cell_type": "markdown",
      "source": [
        "## **コード13：散布図を作ります**"
      ],
      "metadata": {
        "id": "GgOEe-1509B2"
      }
    },
    {
      "cell_type": "markdown",
      "source": [
        "**コード1-23：**患者の数を数える"
      ],
      "metadata": {
        "id": "DEPGsHT98E_q"
      }
    },
    {
      "cell_type": "code",
      "source": [
        "print(klist['id'].unique())\n",
        "print(klist['id'].nunique())"
      ],
      "metadata": {
        "colab": {
          "base_uri": "https://localhost:8080/"
        },
        "id": "GgkaIqTk5qVO",
        "outputId": "2fc930f1-3402-429d-f8c4-959c1a16d3e4"
      },
      "execution_count": 32,
      "outputs": [
        {
          "output_type": "stream",
          "name": "stdout",
          "text": [
            "['pt_1' 'pt_2' 'pt_3' ... 'pt_1655' 'pt_1656' 'pt_1657']\n",
            "1657\n"
          ]
        }
      ]
    },
    {
      "cell_type": "markdown",
      "source": [
        "**コード1-24：**患者の年齢を整理する"
      ],
      "metadata": {
        "id": "SkeeOaF_9iJM"
      }
    },
    {
      "cell_type": "code",
      "source": [
        "print(klist.groupby('id')['age'].unique())"
      ],
      "metadata": {
        "colab": {
          "base_uri": "https://localhost:8080/"
        },
        "id": "qWqr2GAaTVFx",
        "outputId": "fc0422c8-9d3e-492c-bf01-b1cdd8a25998"
      },
      "execution_count": 33,
      "outputs": [
        {
          "output_type": "stream",
          "name": "stdout",
          "text": [
            "id\n",
            "pt_1       [77]\n",
            "pt_10      [76]\n",
            "pt_100     [72]\n",
            "pt_1000    [54]\n",
            "pt_1001    [56]\n",
            "           ... \n",
            "pt_995     [55]\n",
            "pt_996     [55]\n",
            "pt_997     [55]\n",
            "pt_998     [53]\n",
            "pt_999     [55]\n",
            "Name: age, Length: 1657, dtype: object\n"
          ]
        }
      ]
    },
    {
      "cell_type": "markdown",
      "source": [
        "**コード1-25：**'tooth record'列の'残存歯'を1、'喪失歯'を0に置換する"
      ],
      "metadata": {
        "id": "m4amMv7x1Ho0"
      }
    },
    {
      "cell_type": "code",
      "source": [
        "len(klist)"
      ],
      "metadata": {
        "colab": {
          "base_uri": "https://localhost:8080/"
        },
        "id": "vHbQgUH8AX0H",
        "outputId": "3ea9b13f-5bfd-4d3b-87d3-18f650f15fb3"
      },
      "execution_count": 34,
      "outputs": [
        {
          "output_type": "execute_result",
          "data": {
            "text/plain": [
              "53024"
            ]
          },
          "metadata": {},
          "execution_count": 34
        }
      ]
    },
    {
      "cell_type": "code",
      "source": [
        "for i in range(53024):\n",
        "  if klist.loc[i,'tooth record'] == '残存歯':\n",
        "    klist.loc[i, 'tooth record'] = 1\n",
        "  else:\n",
        "    klist.loc[i, 'tooth record'] = 0"
      ],
      "metadata": {
        "id": "PO6km5Kp7UJt"
      },
      "execution_count": 35,
      "outputs": []
    },
    {
      "cell_type": "markdown",
      "source": [
        "**コード1-26：**置き換えたklistを確認"
      ],
      "metadata": {
        "id": "nkGCD23x-NAP"
      }
    },
    {
      "cell_type": "code",
      "source": [
        "klist"
      ],
      "metadata": {
        "colab": {
          "base_uri": "https://localhost:8080/",
          "height": 424
        },
        "id": "5RmW_Asu7wDn",
        "outputId": "f131e975-5390-41f7-9332-b40bbeff8d08"
      },
      "execution_count": 36,
      "outputs": [
        {
          "output_type": "execute_result",
          "data": {
            "text/plain": [
              "            id tooth name tooth record gender  age\n",
              "0         pt_1         A1            1      男   77\n",
              "1         pt_1         A2            0      男   77\n",
              "2         pt_1         A3            1      男   77\n",
              "3         pt_1         A4            1      男   77\n",
              "4         pt_1         A5            1      男   77\n",
              "...        ...        ...          ...    ...  ...\n",
              "53019  pt_1657         D4            0      女   40\n",
              "53020  pt_1657         D5            1      女   40\n",
              "53021  pt_1657         D6            1      女   40\n",
              "53022  pt_1657         D7            0      女   40\n",
              "53023  pt_1657         D8            1      女   40\n",
              "\n",
              "[53024 rows x 5 columns]"
            ],
            "text/html": [
              "\n",
              "  <div id=\"df-6f64cc8d-8bd3-4d9d-9634-839dfc128e03\" class=\"colab-df-container\">\n",
              "    <div>\n",
              "<style scoped>\n",
              "    .dataframe tbody tr th:only-of-type {\n",
              "        vertical-align: middle;\n",
              "    }\n",
              "\n",
              "    .dataframe tbody tr th {\n",
              "        vertical-align: top;\n",
              "    }\n",
              "\n",
              "    .dataframe thead th {\n",
              "        text-align: right;\n",
              "    }\n",
              "</style>\n",
              "<table border=\"1\" class=\"dataframe\">\n",
              "  <thead>\n",
              "    <tr style=\"text-align: right;\">\n",
              "      <th></th>\n",
              "      <th>id</th>\n",
              "      <th>tooth name</th>\n",
              "      <th>tooth record</th>\n",
              "      <th>gender</th>\n",
              "      <th>age</th>\n",
              "    </tr>\n",
              "  </thead>\n",
              "  <tbody>\n",
              "    <tr>\n",
              "      <th>0</th>\n",
              "      <td>pt_1</td>\n",
              "      <td>A1</td>\n",
              "      <td>1</td>\n",
              "      <td>男</td>\n",
              "      <td>77</td>\n",
              "    </tr>\n",
              "    <tr>\n",
              "      <th>1</th>\n",
              "      <td>pt_1</td>\n",
              "      <td>A2</td>\n",
              "      <td>0</td>\n",
              "      <td>男</td>\n",
              "      <td>77</td>\n",
              "    </tr>\n",
              "    <tr>\n",
              "      <th>2</th>\n",
              "      <td>pt_1</td>\n",
              "      <td>A3</td>\n",
              "      <td>1</td>\n",
              "      <td>男</td>\n",
              "      <td>77</td>\n",
              "    </tr>\n",
              "    <tr>\n",
              "      <th>3</th>\n",
              "      <td>pt_1</td>\n",
              "      <td>A4</td>\n",
              "      <td>1</td>\n",
              "      <td>男</td>\n",
              "      <td>77</td>\n",
              "    </tr>\n",
              "    <tr>\n",
              "      <th>4</th>\n",
              "      <td>pt_1</td>\n",
              "      <td>A5</td>\n",
              "      <td>1</td>\n",
              "      <td>男</td>\n",
              "      <td>77</td>\n",
              "    </tr>\n",
              "    <tr>\n",
              "      <th>...</th>\n",
              "      <td>...</td>\n",
              "      <td>...</td>\n",
              "      <td>...</td>\n",
              "      <td>...</td>\n",
              "      <td>...</td>\n",
              "    </tr>\n",
              "    <tr>\n",
              "      <th>53019</th>\n",
              "      <td>pt_1657</td>\n",
              "      <td>D4</td>\n",
              "      <td>0</td>\n",
              "      <td>女</td>\n",
              "      <td>40</td>\n",
              "    </tr>\n",
              "    <tr>\n",
              "      <th>53020</th>\n",
              "      <td>pt_1657</td>\n",
              "      <td>D5</td>\n",
              "      <td>1</td>\n",
              "      <td>女</td>\n",
              "      <td>40</td>\n",
              "    </tr>\n",
              "    <tr>\n",
              "      <th>53021</th>\n",
              "      <td>pt_1657</td>\n",
              "      <td>D6</td>\n",
              "      <td>1</td>\n",
              "      <td>女</td>\n",
              "      <td>40</td>\n",
              "    </tr>\n",
              "    <tr>\n",
              "      <th>53022</th>\n",
              "      <td>pt_1657</td>\n",
              "      <td>D7</td>\n",
              "      <td>0</td>\n",
              "      <td>女</td>\n",
              "      <td>40</td>\n",
              "    </tr>\n",
              "    <tr>\n",
              "      <th>53023</th>\n",
              "      <td>pt_1657</td>\n",
              "      <td>D8</td>\n",
              "      <td>1</td>\n",
              "      <td>女</td>\n",
              "      <td>40</td>\n",
              "    </tr>\n",
              "  </tbody>\n",
              "</table>\n",
              "<p>53024 rows × 5 columns</p>\n",
              "</div>\n",
              "    <div class=\"colab-df-buttons\">\n",
              "\n",
              "  <div class=\"colab-df-container\">\n",
              "    <button class=\"colab-df-convert\" onclick=\"convertToInteractive('df-6f64cc8d-8bd3-4d9d-9634-839dfc128e03')\"\n",
              "            title=\"Convert this dataframe to an interactive table.\"\n",
              "            style=\"display:none;\">\n",
              "\n",
              "  <svg xmlns=\"http://www.w3.org/2000/svg\" height=\"24px\" viewBox=\"0 -960 960 960\">\n",
              "    <path d=\"M120-120v-720h720v720H120Zm60-500h600v-160H180v160Zm220 220h160v-160H400v160Zm0 220h160v-160H400v160ZM180-400h160v-160H180v160Zm440 0h160v-160H620v160ZM180-180h160v-160H180v160Zm440 0h160v-160H620v160Z\"/>\n",
              "  </svg>\n",
              "    </button>\n",
              "\n",
              "  <style>\n",
              "    .colab-df-container {\n",
              "      display:flex;\n",
              "      gap: 12px;\n",
              "    }\n",
              "\n",
              "    .colab-df-convert {\n",
              "      background-color: #E8F0FE;\n",
              "      border: none;\n",
              "      border-radius: 50%;\n",
              "      cursor: pointer;\n",
              "      display: none;\n",
              "      fill: #1967D2;\n",
              "      height: 32px;\n",
              "      padding: 0 0 0 0;\n",
              "      width: 32px;\n",
              "    }\n",
              "\n",
              "    .colab-df-convert:hover {\n",
              "      background-color: #E2EBFA;\n",
              "      box-shadow: 0px 1px 2px rgba(60, 64, 67, 0.3), 0px 1px 3px 1px rgba(60, 64, 67, 0.15);\n",
              "      fill: #174EA6;\n",
              "    }\n",
              "\n",
              "    .colab-df-buttons div {\n",
              "      margin-bottom: 4px;\n",
              "    }\n",
              "\n",
              "    [theme=dark] .colab-df-convert {\n",
              "      background-color: #3B4455;\n",
              "      fill: #D2E3FC;\n",
              "    }\n",
              "\n",
              "    [theme=dark] .colab-df-convert:hover {\n",
              "      background-color: #434B5C;\n",
              "      box-shadow: 0px 1px 3px 1px rgba(0, 0, 0, 0.15);\n",
              "      filter: drop-shadow(0px 1px 2px rgba(0, 0, 0, 0.3));\n",
              "      fill: #FFFFFF;\n",
              "    }\n",
              "  </style>\n",
              "\n",
              "    <script>\n",
              "      const buttonEl =\n",
              "        document.querySelector('#df-6f64cc8d-8bd3-4d9d-9634-839dfc128e03 button.colab-df-convert');\n",
              "      buttonEl.style.display =\n",
              "        google.colab.kernel.accessAllowed ? 'block' : 'none';\n",
              "\n",
              "      async function convertToInteractive(key) {\n",
              "        const element = document.querySelector('#df-6f64cc8d-8bd3-4d9d-9634-839dfc128e03');\n",
              "        const dataTable =\n",
              "          await google.colab.kernel.invokeFunction('convertToInteractive',\n",
              "                                                    [key], {});\n",
              "        if (!dataTable) return;\n",
              "\n",
              "        const docLinkHtml = 'Like what you see? Visit the ' +\n",
              "          '<a target=\"_blank\" href=https://colab.research.google.com/notebooks/data_table.ipynb>data table notebook</a>'\n",
              "          + ' to learn more about interactive tables.';\n",
              "        element.innerHTML = '';\n",
              "        dataTable['output_type'] = 'display_data';\n",
              "        await google.colab.output.renderOutput(dataTable, element);\n",
              "        const docLink = document.createElement('div');\n",
              "        docLink.innerHTML = docLinkHtml;\n",
              "        element.appendChild(docLink);\n",
              "      }\n",
              "    </script>\n",
              "  </div>\n",
              "\n",
              "\n",
              "<div id=\"df-761ffb21-9a28-43e3-b86d-2d48fce0340d\">\n",
              "  <button class=\"colab-df-quickchart\" onclick=\"quickchart('df-761ffb21-9a28-43e3-b86d-2d48fce0340d')\"\n",
              "            title=\"Suggest charts\"\n",
              "            style=\"display:none;\">\n",
              "\n",
              "<svg xmlns=\"http://www.w3.org/2000/svg\" height=\"24px\"viewBox=\"0 0 24 24\"\n",
              "     width=\"24px\">\n",
              "    <g>\n",
              "        <path d=\"M19 3H5c-1.1 0-2 .9-2 2v14c0 1.1.9 2 2 2h14c1.1 0 2-.9 2-2V5c0-1.1-.9-2-2-2zM9 17H7v-7h2v7zm4 0h-2V7h2v10zm4 0h-2v-4h2v4z\"/>\n",
              "    </g>\n",
              "</svg>\n",
              "  </button>\n",
              "\n",
              "<style>\n",
              "  .colab-df-quickchart {\n",
              "      --bg-color: #E8F0FE;\n",
              "      --fill-color: #1967D2;\n",
              "      --hover-bg-color: #E2EBFA;\n",
              "      --hover-fill-color: #174EA6;\n",
              "      --disabled-fill-color: #AAA;\n",
              "      --disabled-bg-color: #DDD;\n",
              "  }\n",
              "\n",
              "  [theme=dark] .colab-df-quickchart {\n",
              "      --bg-color: #3B4455;\n",
              "      --fill-color: #D2E3FC;\n",
              "      --hover-bg-color: #434B5C;\n",
              "      --hover-fill-color: #FFFFFF;\n",
              "      --disabled-bg-color: #3B4455;\n",
              "      --disabled-fill-color: #666;\n",
              "  }\n",
              "\n",
              "  .colab-df-quickchart {\n",
              "    background-color: var(--bg-color);\n",
              "    border: none;\n",
              "    border-radius: 50%;\n",
              "    cursor: pointer;\n",
              "    display: none;\n",
              "    fill: var(--fill-color);\n",
              "    height: 32px;\n",
              "    padding: 0;\n",
              "    width: 32px;\n",
              "  }\n",
              "\n",
              "  .colab-df-quickchart:hover {\n",
              "    background-color: var(--hover-bg-color);\n",
              "    box-shadow: 0 1px 2px rgba(60, 64, 67, 0.3), 0 1px 3px 1px rgba(60, 64, 67, 0.15);\n",
              "    fill: var(--button-hover-fill-color);\n",
              "  }\n",
              "\n",
              "  .colab-df-quickchart-complete:disabled,\n",
              "  .colab-df-quickchart-complete:disabled:hover {\n",
              "    background-color: var(--disabled-bg-color);\n",
              "    fill: var(--disabled-fill-color);\n",
              "    box-shadow: none;\n",
              "  }\n",
              "\n",
              "  .colab-df-spinner {\n",
              "    border: 2px solid var(--fill-color);\n",
              "    border-color: transparent;\n",
              "    border-bottom-color: var(--fill-color);\n",
              "    animation:\n",
              "      spin 1s steps(1) infinite;\n",
              "  }\n",
              "\n",
              "  @keyframes spin {\n",
              "    0% {\n",
              "      border-color: transparent;\n",
              "      border-bottom-color: var(--fill-color);\n",
              "      border-left-color: var(--fill-color);\n",
              "    }\n",
              "    20% {\n",
              "      border-color: transparent;\n",
              "      border-left-color: var(--fill-color);\n",
              "      border-top-color: var(--fill-color);\n",
              "    }\n",
              "    30% {\n",
              "      border-color: transparent;\n",
              "      border-left-color: var(--fill-color);\n",
              "      border-top-color: var(--fill-color);\n",
              "      border-right-color: var(--fill-color);\n",
              "    }\n",
              "    40% {\n",
              "      border-color: transparent;\n",
              "      border-right-color: var(--fill-color);\n",
              "      border-top-color: var(--fill-color);\n",
              "    }\n",
              "    60% {\n",
              "      border-color: transparent;\n",
              "      border-right-color: var(--fill-color);\n",
              "    }\n",
              "    80% {\n",
              "      border-color: transparent;\n",
              "      border-right-color: var(--fill-color);\n",
              "      border-bottom-color: var(--fill-color);\n",
              "    }\n",
              "    90% {\n",
              "      border-color: transparent;\n",
              "      border-bottom-color: var(--fill-color);\n",
              "    }\n",
              "  }\n",
              "</style>\n",
              "\n",
              "  <script>\n",
              "    async function quickchart(key) {\n",
              "      const quickchartButtonEl =\n",
              "        document.querySelector('#' + key + ' button');\n",
              "      quickchartButtonEl.disabled = true;  // To prevent multiple clicks.\n",
              "      quickchartButtonEl.classList.add('colab-df-spinner');\n",
              "      try {\n",
              "        const charts = await google.colab.kernel.invokeFunction(\n",
              "            'suggestCharts', [key], {});\n",
              "      } catch (error) {\n",
              "        console.error('Error during call to suggestCharts:', error);\n",
              "      }\n",
              "      quickchartButtonEl.classList.remove('colab-df-spinner');\n",
              "      quickchartButtonEl.classList.add('colab-df-quickchart-complete');\n",
              "    }\n",
              "    (() => {\n",
              "      let quickchartButtonEl =\n",
              "        document.querySelector('#df-761ffb21-9a28-43e3-b86d-2d48fce0340d button');\n",
              "      quickchartButtonEl.style.display =\n",
              "        google.colab.kernel.accessAllowed ? 'block' : 'none';\n",
              "    })();\n",
              "  </script>\n",
              "</div>\n",
              "\n",
              "  <div id=\"id_6dd0ece4-1033-4ef5-b8b4-5321761888bf\">\n",
              "    <style>\n",
              "      .colab-df-generate {\n",
              "        background-color: #E8F0FE;\n",
              "        border: none;\n",
              "        border-radius: 50%;\n",
              "        cursor: pointer;\n",
              "        display: none;\n",
              "        fill: #1967D2;\n",
              "        height: 32px;\n",
              "        padding: 0 0 0 0;\n",
              "        width: 32px;\n",
              "      }\n",
              "\n",
              "      .colab-df-generate:hover {\n",
              "        background-color: #E2EBFA;\n",
              "        box-shadow: 0px 1px 2px rgba(60, 64, 67, 0.3), 0px 1px 3px 1px rgba(60, 64, 67, 0.15);\n",
              "        fill: #174EA6;\n",
              "      }\n",
              "\n",
              "      [theme=dark] .colab-df-generate {\n",
              "        background-color: #3B4455;\n",
              "        fill: #D2E3FC;\n",
              "      }\n",
              "\n",
              "      [theme=dark] .colab-df-generate:hover {\n",
              "        background-color: #434B5C;\n",
              "        box-shadow: 0px 1px 3px 1px rgba(0, 0, 0, 0.15);\n",
              "        filter: drop-shadow(0px 1px 2px rgba(0, 0, 0, 0.3));\n",
              "        fill: #FFFFFF;\n",
              "      }\n",
              "    </style>\n",
              "    <button class=\"colab-df-generate\" onclick=\"generateWithVariable('klist')\"\n",
              "            title=\"Generate code using this dataframe.\"\n",
              "            style=\"display:none;\">\n",
              "\n",
              "  <svg xmlns=\"http://www.w3.org/2000/svg\" height=\"24px\"viewBox=\"0 0 24 24\"\n",
              "       width=\"24px\">\n",
              "    <path d=\"M7,19H8.4L18.45,9,17,7.55,7,17.6ZM5,21V16.75L18.45,3.32a2,2,0,0,1,2.83,0l1.4,1.43a1.91,1.91,0,0,1,.58,1.4,1.91,1.91,0,0,1-.58,1.4L9.25,21ZM18.45,9,17,7.55Zm-12,3A5.31,5.31,0,0,0,4.9,8.1,5.31,5.31,0,0,0,1,6.5,5.31,5.31,0,0,0,4.9,4.9,5.31,5.31,0,0,0,6.5,1,5.31,5.31,0,0,0,8.1,4.9,5.31,5.31,0,0,0,12,6.5,5.46,5.46,0,0,0,6.5,12Z\"/>\n",
              "  </svg>\n",
              "    </button>\n",
              "    <script>\n",
              "      (() => {\n",
              "      const buttonEl =\n",
              "        document.querySelector('#id_6dd0ece4-1033-4ef5-b8b4-5321761888bf button.colab-df-generate');\n",
              "      buttonEl.style.display =\n",
              "        google.colab.kernel.accessAllowed ? 'block' : 'none';\n",
              "\n",
              "      buttonEl.onclick = () => {\n",
              "        google.colab.notebook.generateWithVariable('klist');\n",
              "      }\n",
              "      })();\n",
              "    </script>\n",
              "  </div>\n",
              "\n",
              "    </div>\n",
              "  </div>\n"
            ],
            "application/vnd.google.colaboratory.intrinsic+json": {
              "type": "dataframe",
              "variable_name": "klist",
              "summary": "{\n  \"name\": \"klist\",\n  \"rows\": 53024,\n  \"fields\": [\n    {\n      \"column\": \"id\",\n      \"properties\": {\n        \"dtype\": \"category\",\n        \"num_unique_values\": 1657,\n        \"samples\": [\n          \"pt_1465\",\n          \"pt_414\",\n          \"pt_839\"\n        ],\n        \"semantic_type\": \"\",\n        \"description\": \"\"\n      }\n    },\n    {\n      \"column\": \"tooth name\",\n      \"properties\": {\n        \"dtype\": \"category\",\n        \"num_unique_values\": 32,\n        \"samples\": [\n          \"D6\",\n          \"B8\",\n          \"D1\"\n        ],\n        \"semantic_type\": \"\",\n        \"description\": \"\"\n      }\n    },\n    {\n      \"column\": \"tooth record\",\n      \"properties\": {\n        \"dtype\": \"date\",\n        \"min\": 0,\n        \"max\": 1,\n        \"num_unique_values\": 2,\n        \"samples\": [\n          0,\n          1\n        ],\n        \"semantic_type\": \"\",\n        \"description\": \"\"\n      }\n    },\n    {\n      \"column\": \"gender\",\n      \"properties\": {\n        \"dtype\": \"category\",\n        \"num_unique_values\": 2,\n        \"samples\": [\n          \"\\u5973\",\n          \"\\u7537\"\n        ],\n        \"semantic_type\": \"\",\n        \"description\": \"\"\n      }\n    },\n    {\n      \"column\": \"age\",\n      \"properties\": {\n        \"dtype\": \"number\",\n        \"std\": 10,\n        \"min\": 36,\n        \"max\": 79,\n        \"num_unique_values\": 44,\n        \"samples\": [\n          42,\n          55\n        ],\n        \"semantic_type\": \"\",\n        \"description\": \"\"\n      }\n    }\n  ]\n}"
            }
          },
          "metadata": {},
          "execution_count": 36
        }
      ]
    },
    {
      "cell_type": "markdown",
      "source": [
        "**コード1-27：**'id'列でグループ化して'tooth record'列の値を合計"
      ],
      "metadata": {
        "id": "gKzCRFeB1wkC"
      }
    },
    {
      "cell_type": "code",
      "source": [
        "print(klist.groupby('id')['tooth record'].sum())"
      ],
      "metadata": {
        "id": "LIc2QGWxXydU",
        "colab": {
          "base_uri": "https://localhost:8080/"
        },
        "outputId": "24432c42-c065-4725-9d99-e288ac30bf09"
      },
      "execution_count": 37,
      "outputs": [
        {
          "output_type": "stream",
          "name": "stdout",
          "text": [
            "id\n",
            "pt_1       24\n",
            "pt_10      25\n",
            "pt_100     26\n",
            "pt_1000    25\n",
            "pt_1001    29\n",
            "           ..\n",
            "pt_995     30\n",
            "pt_996     24\n",
            "pt_997     24\n",
            "pt_998     26\n",
            "pt_999     24\n",
            "Name: tooth record, Length: 1657, dtype: object\n"
          ]
        }
      ]
    },
    {
      "cell_type": "markdown",
      "source": [
        "**コード1-28：**患者ごとの年齢を変数xに、歯の本数を変数yに代入"
      ],
      "metadata": {
        "id": "PTUB68oi4HZo"
      }
    },
    {
      "cell_type": "code",
      "source": [
        "x = klist.groupby('id')['age'].unique()\n",
        "y = klist.groupby('id')['tooth record'].sum()"
      ],
      "metadata": {
        "id": "9ax7VUFSB_fS"
      },
      "execution_count": 38,
      "outputs": []
    },
    {
      "cell_type": "markdown",
      "source": [
        "**コード1-29：**作図に必要なmatplotlibのインポート"
      ],
      "metadata": {
        "id": "JUSaYIXc4MTu"
      }
    },
    {
      "cell_type": "code",
      "source": [
        "import matplotlib.pyplot as plt\n",
        "!pip install japanize-matplotlib\n",
        "import japanize_matplotlib"
      ],
      "metadata": {
        "id": "AeIqf3TJCBba",
        "colab": {
          "base_uri": "https://localhost:8080/"
        },
        "outputId": "5000e253-f50c-4988-be5e-b9dcd65f73f6"
      },
      "execution_count": 39,
      "outputs": [
        {
          "output_type": "stream",
          "name": "stdout",
          "text": [
            "Requirement already satisfied: japanize-matplotlib in /usr/local/lib/python3.10/dist-packages (1.1.3)\n",
            "Requirement already satisfied: matplotlib in /usr/local/lib/python3.10/dist-packages (from japanize-matplotlib) (3.7.1)\n",
            "Requirement already satisfied: contourpy>=1.0.1 in /usr/local/lib/python3.10/dist-packages (from matplotlib->japanize-matplotlib) (1.2.0)\n",
            "Requirement already satisfied: cycler>=0.10 in /usr/local/lib/python3.10/dist-packages (from matplotlib->japanize-matplotlib) (0.12.1)\n",
            "Requirement already satisfied: fonttools>=4.22.0 in /usr/local/lib/python3.10/dist-packages (from matplotlib->japanize-matplotlib) (4.50.0)\n",
            "Requirement already satisfied: kiwisolver>=1.0.1 in /usr/local/lib/python3.10/dist-packages (from matplotlib->japanize-matplotlib) (1.4.5)\n",
            "Requirement already satisfied: numpy>=1.20 in /usr/local/lib/python3.10/dist-packages (from matplotlib->japanize-matplotlib) (1.25.2)\n",
            "Requirement already satisfied: packaging>=20.0 in /usr/local/lib/python3.10/dist-packages (from matplotlib->japanize-matplotlib) (24.0)\n",
            "Requirement already satisfied: pillow>=6.2.0 in /usr/local/lib/python3.10/dist-packages (from matplotlib->japanize-matplotlib) (9.4.0)\n",
            "Requirement already satisfied: pyparsing>=2.3.1 in /usr/local/lib/python3.10/dist-packages (from matplotlib->japanize-matplotlib) (3.1.2)\n",
            "Requirement already satisfied: python-dateutil>=2.7 in /usr/local/lib/python3.10/dist-packages (from matplotlib->japanize-matplotlib) (2.8.2)\n",
            "Requirement already satisfied: six>=1.5 in /usr/local/lib/python3.10/dist-packages (from python-dateutil>=2.7->matplotlib->japanize-matplotlib) (1.16.0)\n"
          ]
        }
      ]
    },
    {
      "cell_type": "markdown",
      "source": [
        "**コード1-30：**散布図の作成"
      ],
      "metadata": {
        "id": "aaP5aEs8SVPI"
      }
    },
    {
      "cell_type": "code",
      "source": [
        "plt.figure()                         # 作図領域の作成\n",
        "plt.title('散布図: 年齢と歯の本数')  # 図のタイトルの設定\n",
        "plt.xlabel('年齢')                   # X軸のラベル名の設定\n",
        "plt.ylabel('歯の本数')               # Y軸のラベル名の設定\n",
        "plt.grid()                           # グリッド線の表示\n",
        "plt.scatter(x,y)                     # 散布図の作成\n",
        "plt.show()                           # 出力画面に表示"
      ],
      "metadata": {
        "id": "59ZkwFWVhSIw",
        "colab": {
          "base_uri": "https://localhost:8080/",
          "height": 469
        },
        "outputId": "48439ed1-6bc6-49ba-bee6-897d2e7e14f6"
      },
      "execution_count": 40,
      "outputs": [
        {
          "output_type": "display_data",
          "data": {
            "text/plain": [
              "<Figure size 640x480 with 1 Axes>"
            ],
            "image/png": "[encoded data removed]"
          },
          "metadata": {}
        }
      ]
    }
  ]
}