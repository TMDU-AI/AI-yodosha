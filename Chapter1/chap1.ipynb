{
  "nbformat": 4,
  "nbformat_minor": 0,
  "metadata": {
    "colab": {
      "provenance": [],
      "toc_visible": true
    },
    "kernelspec": {
      "name": "python3",
      "display_name": "Python 3"
    },
    "language_info": {
      "name": "python"
    }
  },
  "cells": [
    {
      "cell_type": "markdown",
      "source": [
        "# **1章　Python に触ってみよう**"
      ],
      "metadata": {
        "id": "yUF0-DCYW8Jt"
      }
    },
    {
      "cell_type": "markdown",
      "source": [
        "# 1-2　Pythonの基本"
      ],
      "metadata": {
        "id": "hfQP4R7sXPka"
      }
    },
    {
      "cell_type": "markdown",
      "source": [
        "**1）　変数**"
      ],
      "metadata": {
        "id": "8m8_NxS-XjZy"
      }
    },
    {
      "cell_type": "markdown",
      "source": [
        "コード1-2-1　変数の代入と出力\n",
        "\n",
        "\n",
        "\n"
      ],
      "metadata": {
        "id": "_bjTu8dyAiMQ"
      }
    },
    {
      "cell_type": "code",
      "execution_count": null,
      "metadata": {
        "id": "mlBPq5lLAJqv"
      },
      "outputs": [],
      "source": [
        "a = 100\n",
        "print(a)"
      ]
    },
    {
      "cell_type": "markdown",
      "source": [
        "コード1-2-2　変数の上書き"
      ],
      "metadata": {
        "id": "ZmUfLA8RAy9J"
      }
    },
    {
      "cell_type": "code",
      "source": [
        "a = 'Hello, world!'    # 「'」（シングルクォーテーション）の中に文字を入れる\n",
        "print(a)"
      ],
      "metadata": {
        "id": "6o-A3NliBU0-"
      },
      "execution_count": null,
      "outputs": []
    },
    {
      "cell_type": "markdown",
      "source": [
        "**2）　四則演算**"
      ],
      "metadata": {
        "id": "eg2tJm7KY_Ct"
      }
    },
    {
      "cell_type": "markdown",
      "source": [
        "コード1-2-3　四則演算1"
      ],
      "metadata": {
        "id": "GfCl0PdRBEcp"
      }
    },
    {
      "cell_type": "code",
      "source": [
        "a = 10\n",
        "b = 5\n",
        "print(a + b)    # 加算\n",
        "print(a - b)    # 減算\n",
        "print(a * b)    # 乗算\n",
        "print(a / b)    # 除算"
      ],
      "metadata": {
        "id": "yw7c-ghyA1_5"
      },
      "execution_count": null,
      "outputs": []
    },
    {
      "cell_type": "markdown",
      "source": [
        "コード1-2-4　四則演算2"
      ],
      "metadata": {
        "id": "5ncW24sNFCJb"
      }
    },
    {
      "cell_type": "code",
      "source": [
        "print(9 // 2)    # 整数除算\n",
        "print(9 % 2)     # 剰余演算\n",
        "print(3 ** 2)    # べき乗演算"
      ],
      "metadata": {
        "id": "NqRe2BBMFGW7"
      },
      "execution_count": null,
      "outputs": []
    },
    {
      "cell_type": "markdown",
      "source": [
        "**3）　変数の型**"
      ],
      "metadata": {
        "id": "Ujq8XlvlZMod"
      }
    },
    {
      "cell_type": "markdown",
      "source": [
        "コード1-2-5　変数の型"
      ],
      "metadata": {
        "id": "FEOw_80MXC7Q"
      }
    },
    {
      "cell_type": "code",
      "source": [
        "a = 5\n",
        "b = 5.0\n",
        "c = 3 + 4 * b\n",
        "greeting = 'Hello, world!'\n",
        "numbers = [1, 2, 3, 4, 5]\n",
        "person = {'name': 'John', 'age': 30, 'city': 'New York'}"
      ],
      "metadata": {
        "id": "eit5UEuuwqwm"
      },
      "execution_count": null,
      "outputs": []
    },
    {
      "cell_type": "markdown",
      "source": [
        "コード1-2-6　type関数"
      ],
      "metadata": {
        "id": "g9mNSH5D_fln"
      }
    },
    {
      "cell_type": "code",
      "source": [
        "print(type(a))    # 「print(type(変数名))」で変数のデータ型を出力\n",
        "print(type(b))\n",
        "print(type(c))\n",
        "print(type(greeting))\n",
        "print(type(numbers))\n",
        "print(type(person))"
      ],
      "metadata": {
        "id": "Am8SZJhjIUbs"
      },
      "execution_count": null,
      "outputs": []
    },
    {
      "cell_type": "markdown",
      "source": [
        "**4）　リスト**"
      ],
      "metadata": {
        "id": "IDpOSs6OZsxC"
      }
    },
    {
      "cell_type": "markdown",
      "source": [
        "コード1-2-7　リスト"
      ],
      "metadata": {
        "id": "bUpBbYpW_noS"
      }
    },
    {
      "cell_type": "code",
      "execution_count": null,
      "metadata": {
        "id": "G_Dp0-ap9wyo"
      },
      "outputs": [],
      "source": [
        "fruits = ['apple', 'banana', 'cherry', 'melon']\n",
        "print(fruits[0])\n",
        "print(fruits[1])"
      ]
    },
    {
      "cell_type": "markdown",
      "source": [
        "コード1-2-8　リストの要素の置換"
      ],
      "metadata": {
        "id": "S-Suu2X0_uJk"
      }
    },
    {
      "cell_type": "code",
      "source": [
        "fruits = ['apple', 'banana', 'cherry', 'melon']\n",
        "fruits[1] = 'blueberry'\n",
        "print(fruits)"
      ],
      "metadata": {
        "id": "Ph1NEV4XXd20"
      },
      "execution_count": null,
      "outputs": []
    },
    {
      "cell_type": "markdown",
      "source": [
        "コード1-2-9　リストの要素の追加，削除"
      ],
      "metadata": {
        "id": "bk2sz6is_4v9"
      }
    },
    {
      "cell_type": "code",
      "source": [
        "fruits = ['apple', 'blueberry', 'cherry', 'melon']\n",
        "fruits.append('strawberry')\n",
        "print(fruits)\n",
        "fruits.remove('cherry')\n",
        "print(fruits)"
      ],
      "metadata": {
        "id": "LsX7zYUuFyFS"
      },
      "execution_count": null,
      "outputs": []
    },
    {
      "cell_type": "markdown",
      "source": [
        "コード1-2-10　リストのスライス"
      ],
      "metadata": {
        "id": "KgzLtX26uoHp"
      }
    },
    {
      "cell_type": "code",
      "source": [
        "fruits = ['apple', 'blueberry', 'cherry', 'melon']\n",
        "print(fruits[1:3])\n",
        "print(fruits[:2])"
      ],
      "metadata": {
        "id": "f4rwlf68IeoE"
      },
      "execution_count": null,
      "outputs": []
    },
    {
      "cell_type": "markdown",
      "source": [
        "**5）　関数**"
      ],
      "metadata": {
        "id": "VqsHPkRbaGHK"
      }
    },
    {
      "cell_type": "markdown",
      "source": [
        "コード1-2-11　関数の定義"
      ],
      "metadata": {
        "id": "v-EnOMmN4edC"
      }
    },
    {
      "cell_type": "code",
      "source": [
        "def cal(a, b, c):\n",
        "  return a + 4 * b + 5 * c"
      ],
      "metadata": {
        "id": "DiOBNLzY1ss-"
      },
      "execution_count": null,
      "outputs": []
    },
    {
      "cell_type": "markdown",
      "source": [
        "コード1-2-12　定義した関数calの実行"
      ],
      "metadata": {
        "id": "txleglNjvc26"
      }
    },
    {
      "cell_type": "code",
      "source": [
        "result = cal(1, 2, 3)\n",
        "print(result)"
      ],
      "metadata": {
        "id": "MmUxdo1SJAhZ"
      },
      "execution_count": null,
      "outputs": []
    },
    {
      "cell_type": "markdown",
      "source": [
        "# 1-3　演習用データの読み込み"
      ],
      "metadata": {
        "id": "U3ikQ_GSaTzt"
      }
    },
    {
      "cell_type": "code",
      "source": [
        "# 1章から始めている場合や一度ノートブックの接続が切れている場合はこのセルを実行して\n",
        "# 再度Google Driveをマウントしてください\n",
        "from google.colab import drive\n",
        "drive.mount('/content/drive')"
      ],
      "metadata": {
        "id": "wD1dY8o9wEtR"
      },
      "execution_count": null,
      "outputs": []
    },
    {
      "cell_type": "markdown",
      "source": [
        "コード1-3-1　csvファイル（演習用データ）の読み込み"
      ],
      "metadata": {
        "id": "yDCUbqsolDa9"
      }
    },
    {
      "cell_type": "code",
      "source": [
        "import pandas as pd\n",
        "klist = pd.read_csv(\n",
        "    '/content/drive/MyDrive/dwhdata.csv', encoding='utf-8')\n",
        "klist"
      ],
      "metadata": {
        "id": "_ywINX9azLt3"
      },
      "execution_count": null,
      "outputs": []
    },
    {
      "cell_type": "markdown",
      "source": [
        "# 1-4　データフレームの操作"
      ],
      "metadata": {
        "id": "5-6qitrfar9A"
      }
    },
    {
      "cell_type": "markdown",
      "source": [
        "コード1-4-1　データフレームの操作（形状，データ数，列名の取得）"
      ],
      "metadata": {
        "id": "uYGw2QU0xgKB"
      }
    },
    {
      "cell_type": "code",
      "source": [
        "print(klist.shape)\n",
        "print(klist.size)\n",
        "print(klist.columns)"
      ],
      "metadata": {
        "id": "9jjInPbZK4Bv"
      },
      "execution_count": null,
      "outputs": []
    },
    {
      "cell_type": "markdown",
      "source": [
        "コード1-4-2　データフレームの操作（特定の列の抽出）"
      ],
      "metadata": {
        "id": "vwbnK5H3xyjg"
      }
    },
    {
      "cell_type": "code",
      "source": [
        "print(klist['age'])"
      ],
      "metadata": {
        "id": "TwgW5zD1_opK"
      },
      "execution_count": null,
      "outputs": []
    },
    {
      "cell_type": "markdown",
      "source": [
        "コード1-4-3　データフレームの操作（複数の列の抽出）"
      ],
      "metadata": {
        "id": "c8acCnLufsBi"
      }
    },
    {
      "cell_type": "code",
      "source": [
        "print(klist[['id', 'age']])"
      ],
      "metadata": {
        "id": "zhNax7GYcBid"
      },
      "execution_count": null,
      "outputs": []
    },
    {
      "cell_type": "markdown",
      "source": [
        "コード1-4-4　データフレームの操作（特定の行の抽出）"
      ],
      "metadata": {
        "id": "cmZB8NYKnk6l"
      }
    },
    {
      "cell_type": "code",
      "source": [
        "print(klist[0:1])"
      ],
      "metadata": {
        "id": "68RUpLT7bVJo"
      },
      "execution_count": null,
      "outputs": []
    },
    {
      "cell_type": "markdown",
      "source": [
        "コード1-4-5　データフレームの操作（複数の行の抽出）"
      ],
      "metadata": {
        "id": "KIqUuQQ2mXo_"
      }
    },
    {
      "cell_type": "code",
      "source": [
        "print(klist[3:10])"
      ],
      "metadata": {
        "id": "eVS1TcLMbe-0"
      },
      "execution_count": null,
      "outputs": []
    },
    {
      "cell_type": "markdown",
      "source": [
        "コード1-4-6　データフレームの操作（特定の行と列を指定した値の抽出）"
      ],
      "metadata": {
        "id": "g2Cq_k4L1M8m"
      }
    },
    {
      "cell_type": "code",
      "source": [
        "print(klist.loc[3, 'tooth name'])"
      ],
      "metadata": {
        "id": "LR6JwtCFe8WD"
      },
      "execution_count": null,
      "outputs": []
    },
    {
      "cell_type": "markdown",
      "source": [
        "コード1-4-7　データフレームの操作（複数の行と列の抽出1）"
      ],
      "metadata": {
        "id": "vW-jZ1x5oLqU"
      }
    },
    {
      "cell_type": "code",
      "source": [
        "print(klist.loc[4:6, ['tooth name', 'tooth record']])"
      ],
      "metadata": {
        "id": "7Z6evwIto9Hq"
      },
      "execution_count": null,
      "outputs": []
    },
    {
      "cell_type": "markdown",
      "source": [
        "コード1-4-8　データフレームの操作（複数の行と列の抽出2）"
      ],
      "metadata": {
        "id": "T1QEtNoWpZdQ"
      }
    },
    {
      "cell_type": "code",
      "source": [
        "print(klist.loc[10000:20000, :])"
      ],
      "metadata": {
        "id": "gkOsVvXo1MTr"
      },
      "execution_count": null,
      "outputs": []
    },
    {
      "cell_type": "markdown",
      "source": [
        "コード1-4-9　データフレームの操作（特定の条件を満たす行の抽出）"
      ],
      "metadata": {
        "id": "Y1YWoDRN5FSY"
      }
    },
    {
      "cell_type": "code",
      "source": [
        "print(klist[klist['gender'] == '男'])"
      ],
      "metadata": {
        "id": "2hHbeiK4FFog"
      },
      "execution_count": null,
      "outputs": []
    },
    {
      "cell_type": "markdown",
      "source": [
        "# 1-5　散布図を作成するためのデータ準備"
      ],
      "metadata": {
        "id": "3HZLVCtObZPR"
      }
    },
    {
      "cell_type": "markdown",
      "source": [
        "コード1-5-1　患者の数を数える"
      ],
      "metadata": {
        "id": "DEPGsHT98E_q"
      }
    },
    {
      "cell_type": "code",
      "source": [
        "print(klist['id'].unique())\n",
        "print(klist['id'].nunique())"
      ],
      "metadata": {
        "id": "GgkaIqTk5qVO"
      },
      "execution_count": null,
      "outputs": []
    },
    {
      "cell_type": "markdown",
      "source": [
        "コード1-5-2　患者の年齢を整理する"
      ],
      "metadata": {
        "id": "SkeeOaF_9iJM"
      }
    },
    {
      "cell_type": "code",
      "source": [
        "print(klist.groupby('id')['age'].unique())"
      ],
      "metadata": {
        "id": "qWqr2GAaTVFx"
      },
      "execution_count": null,
      "outputs": []
    },
    {
      "cell_type": "markdown",
      "source": [
        "コード1-5-3　'tooth record'列の'残存歯'を1，'喪失歯'を0に置換する"
      ],
      "metadata": {
        "id": "m4amMv7x1Ho0"
      }
    },
    {
      "cell_type": "code",
      "source": [
        "for i in range(53024):\n",
        "  if klist.loc[i, 'tooth record'] == '残存歯':\n",
        "    klist.loc[i, 'tooth record'] = 1\n",
        "  else:\n",
        "    klist.loc[i, 'tooth record'] = 0"
      ],
      "metadata": {
        "id": "PO6km5Kp7UJt"
      },
      "execution_count": null,
      "outputs": []
    },
    {
      "cell_type": "markdown",
      "source": [
        "コード1-5-4　置換されたklistを確認"
      ],
      "metadata": {
        "id": "nkGCD23x-NAP"
      }
    },
    {
      "cell_type": "code",
      "source": [
        "klist"
      ],
      "metadata": {
        "id": "5RmW_Asu7wDn"
      },
      "execution_count": null,
      "outputs": []
    },
    {
      "cell_type": "markdown",
      "source": [
        "コード1-5-5　'id'列でグループ化して'tooth record'列の値を合計"
      ],
      "metadata": {
        "id": "gKzCRFeB1wkC"
      }
    },
    {
      "cell_type": "code",
      "source": [
        "print(klist.groupby('id')['tooth record'].sum())"
      ],
      "metadata": {
        "id": "LIc2QGWxXydU"
      },
      "execution_count": null,
      "outputs": []
    },
    {
      "cell_type": "markdown",
      "source": [
        "コード1-5-6　患者ごとの年齢を変数xに，歯の本数を変数yに代入"
      ],
      "metadata": {
        "id": "PTUB68oi4HZo"
      }
    },
    {
      "cell_type": "code",
      "source": [
        "x = klist.groupby('id')['age'].unique()\n",
        "y = klist.groupby('id')['tooth record'].sum()"
      ],
      "metadata": {
        "id": "9ax7VUFSB_fS"
      },
      "execution_count": null,
      "outputs": []
    },
    {
      "cell_type": "markdown",
      "source": [
        "コード1-5-7　作図に必要なmatplotlibのインポート"
      ],
      "metadata": {
        "id": "JUSaYIXc4MTu"
      }
    },
    {
      "cell_type": "code",
      "source": [
        "import matplotlib.pyplot as plt\n",
        "!pip install japanize-matplotlib\n",
        "import japanize_matplotlib"
      ],
      "metadata": {
        "id": "AeIqf3TJCBba"
      },
      "execution_count": null,
      "outputs": []
    },
    {
      "cell_type": "markdown",
      "source": [
        "コード1-5-8　散布図の作成"
      ],
      "metadata": {
        "id": "aaP5aEs8SVPI"
      }
    },
    {
      "cell_type": "code",
      "source": [
        "plt.figure()                      # 作図領域の作成\n",
        "plt.title('散布図: 年齢と歯の本数')  # 図のタイトルの設定\n",
        "plt.xlabel('年齢')                 # X軸のラベル名の設定\n",
        "plt.ylabel('歯の本数')              # Y軸のラベル名の設定\n",
        "plt.grid()                        # グリッド線の表示\n",
        "plt.scatter(x, y)                 # 散布図の作成\n",
        "plt.show()                        # 出力画面に表示"
      ],
      "metadata": {
        "id": "59ZkwFWVhSIw"
      },
      "execution_count": null,
      "outputs": []
    }
  ]
}