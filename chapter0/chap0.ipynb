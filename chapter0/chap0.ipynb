{
    "cell_type": "markdown",
    "metadata": {},
    "source": [
        "[![Open In Colab](https://colab.research.google.com/assets/colab-badge.svg)](https://colab.research.google.com/github/TMDU-AI/AI-yodosha/blob/main/Chapter0/Chapter0.ipynb)"
    ]
},
{
  "cells": [
    {
      "cell_type": "markdown",
      "source": [
        "# **0章　演習準備**"
      ],
      "metadata": {
        "id": "uwYcyzEcNs8m"
      }
    },
    {
      "cell_type": "markdown",
      "metadata": {
        "id": "1MYl36By9wZt"
      },
      "source": [
        "コード0-1　変数に足し算の値を代入"
      ]
    },
    {
      "cell_type": "code",
      "execution_count": null,
      "metadata": {
        "id": "tc0T2ZdT9iOK"
      },
      "outputs": [],
      "source": [
        "a = 3 + 3"
      ]
    },
    {
      "cell_type": "markdown",
      "metadata": {
        "id": "7PwakhFo-GMr"
      },
      "source": [
        "コード0-2　変数の値の出力"
      ]
    },
    {
      "cell_type": "code",
      "execution_count": null,
      "metadata": {
        "id": "PSAJKR0E9pTq"
      },
      "outputs": [],
      "source": [
        "a"
      ]
    },
    {
      "cell_type": "markdown",
      "metadata": {
        "id": "wcR59RYT-Nn1"
      },
      "source": [
        "コード0-3　複数行の入力"
      ]
    },
    {
      "cell_type": "code",
      "execution_count": null,
      "metadata": {
        "id": "8i3DcM9F9pVw"
      },
      "outputs": [],
      "source": [
        "b = 1 + 3\n",
        "b"
      ]
    },
    {
      "cell_type": "markdown",
      "metadata": {
        "id": "F1gTiR5r-ZcL"
      },
      "source": [
        "コード0-4　変数名のみが複数行存在する際の出力結果"
      ]
    },
    {
      "cell_type": "code",
      "execution_count": null,
      "metadata": {
        "id": "fw2cKn439pX5"
      },
      "outputs": [],
      "source": [
        "c = 2 + 2\n",
        "c\n",
        "d = 3 + 3\n",
        "d"
      ]
    },
    {
      "cell_type": "markdown",
      "metadata": {
        "id": "IO7ZnEJq-e5F"
      },
      "source": [
        "コード0-5　print関数を使った出力"
      ]
    },
    {
      "cell_type": "code",
      "execution_count": null,
      "metadata": {
        "id": "qjxPyvNI9pZ8"
      },
      "outputs": [],
      "source": [
        "c = 2 + 2\n",
        "print(c)\n",
        "d = 3 + 3\n",
        "# 最後の行なのでdのみでも6というデータが出力されます\n",
        "print(d)"
      ]
    },
    {
      "cell_type": "markdown",
      "metadata": {
        "id": "stAsRk7H-ypU"
      },
      "source": [
        "コード0-6　Matplotlibを用いた折れ線グラフの描画"
      ]
    },
    {
      "cell_type": "code",
      "execution_count": null,
      "metadata": {
        "id": "9KNP5QmU9pcA"
      },
      "outputs": [],
      "source": [
        "import matplotlib.pyplot as plt\n",
        "x = [1, 2, 3]\n",
        "y = [3, 4, 6]\n",
        "plt.plot(x, y)\n",
        "plt.show()"
      ]
    },
    {
      "cell_type": "markdown",
      "metadata": {
        "id": "DogeENgsXefA"
      },
      "source": [
        "コード0-7　Google Driveのマウント"
      ]
    },
    {
      "cell_type": "code",
      "execution_count": null,
      "metadata": {
        "id": "uPbYLD1L9peL"
      },
      "outputs": [],
      "source": [
        "from google.colab import drive\n",
        "drive.mount('/content/drive')"
      ]
    },
    {
      "cell_type": "markdown",
      "metadata": {
        "id": "V8_QH_KhXefB"
      },
      "source": [
        "コード0-8　pandasを用いたファイルの読み込み"
      ]
    },
    {
      "cell_type": "code",
      "execution_count": null,
      "metadata": {
        "id": "fWHSgiRv9pgd"
      },
      "outputs": [],
      "source": [
        "import pandas as pd\n",
        "test = pd.read_csv('/content/drive/MyDrive/sample.csv', encoding='utf-8')\n",
        "print(test)"
      ]
    }
  ],
  "metadata": {
    "colab": {
      "provenance": [],
      "toc_visible": true
    },
    "kernelspec": {
      "display_name": "Python 3",
      "name": "python3"
    },
    "language_info": {
      "name": "python"
    }
  },
  "nbformat": 4,
  "nbformat_minor": 0
}
