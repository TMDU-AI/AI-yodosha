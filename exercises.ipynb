{
  "nbformat": 4,
  "nbformat_minor": 0,
  "metadata": {
    "colab": {
      "provenance": [],
      "collapsed_sections": [
        "oIrBSOVMQtJz",
        "XveRQDfpdhQO",
        "sjFTUsW2yfFM",
        "7Db-4w85R7aT",
        "9uy9pApRtL5i"
      ],
      "toc_visible": true
    },
    "kernelspec": {
      "name": "python3",
      "display_name": "Python 3"
    },
    "language_info": {
      "name": "python"
    }
  },
  "cells": [
    {
      "cell_type": "markdown",
      "source": [
        "# 課題解答例"
      ],
      "metadata": {
        "id": "5_Qg9Z0bYoOi"
      }
    },
    {
      "cell_type": "markdown",
      "source": [
        "各章の「>」をクリックすると設問と前処理を含めた解答例が表示されます"
      ],
      "metadata": {
        "id": "FAxcumXYYtV5"
      }
    },
    {
      "cell_type": "markdown",
      "source": [
        "## 1章"
      ],
      "metadata": {
        "id": "oIrBSOVMQtJz"
      }
    },
    {
      "cell_type": "markdown",
      "source": [
        "1）次の算術演算をColabで実行して結果を出力してください．\n",
        "\n",
        "(6+6)×4"
      ],
      "metadata": {
        "id": "wAEFFGOMP0eV"
      }
    },
    {
      "cell_type": "code",
      "source": [
        "(6+6)*4"
      ],
      "metadata": {
        "id": "HDW4rJezOwBb"
      },
      "execution_count": null,
      "outputs": []
    },
    {
      "cell_type": "markdown",
      "source": [
        "2343÷5の整数部分と剰余（余り）"
      ],
      "metadata": {
        "id": "DNfF-oQ5PqEu"
      }
    },
    {
      "cell_type": "code",
      "source": [
        "# 整数部分は'//'\n",
        "print('整数部分:', 2343 // 5)\n",
        "# 余り部分は'%'\n",
        "print('余り部分:', 2343 % 5)"
      ],
      "metadata": {
        "id": "YvJpkYsLOv9J"
      },
      "execution_count": null,
      "outputs": []
    },
    {
      "cell_type": "markdown",
      "source": [
        "2）リスト[a, b, c, d, e]を作成した後に，末尾に要素fを追加して，[a, b, c, d, e, f]を作成してください．"
      ],
      "metadata": {
        "id": "1oHQHS-zQQNo"
      }
    },
    {
      "cell_type": "code",
      "execution_count": null,
      "metadata": {
        "id": "ZO6hPpigOjRj"
      },
      "outputs": [],
      "source": [
        "my_list = ['a', 'b', 'c', 'd', 'e']\n",
        "my_list.append('f')\n",
        "my_list"
      ]
    },
    {
      "cell_type": "markdown",
      "source": [
        "3）リスト[a, b, c, d, e, f]を，スライスを使用して[c, d, e]を抜き出してください．"
      ],
      "metadata": {
        "id": "-_Jdh_LtQarA"
      }
    },
    {
      "cell_type": "code",
      "source": [
        "sliced_list = my_list[2:5]\n",
        "sliced_list"
      ],
      "metadata": {
        "id": "2LgdQSqEP7w9"
      },
      "execution_count": null,
      "outputs": []
    },
    {
      "cell_type": "markdown",
      "source": [
        "4）1章で使用したdwhdata.csvをpd.read_csvで読み込んで，'tooth record'が'喪失歯'である行を抽出して出力してください．"
      ],
      "metadata": {
        "id": "g9TWncY_Rhfu"
      }
    },
    {
      "cell_type": "code",
      "source": [
        "import pandas as pd\n",
        "klist = pd.read_csv(\n",
        "    '/content/drive/MyDrive/dwhdata.csv', encoding='utf-8')\n",
        "klist"
      ],
      "metadata": {
        "id": "CqBgjBJLP8LH"
      },
      "execution_count": null,
      "outputs": []
    },
    {
      "cell_type": "code",
      "source": [
        "filtered_klist = klist[klist['tooth record'] == '喪失歯']\n",
        "filtered_klist"
      ],
      "metadata": {
        "id": "KIdGf1LNQ1kL"
      },
      "execution_count": null,
      "outputs": []
    },
    {
      "cell_type": "markdown",
      "source": [
        "5）1章で使用したdwhdata.csvをpd.read_csvで読み込んで，'gender'が'男'であるデータのみを用いて，年齢と歯の本数の関係を散布図で表示してください．"
      ],
      "metadata": {
        "id": "kOrrkKEUUBG8"
      }
    },
    {
      "cell_type": "code",
      "source": [
        "male_klist = klist[klist['gender'] == '男']\n",
        "male_klist"
      ],
      "metadata": {
        "id": "706KR2SFQ1in"
      },
      "execution_count": null,
      "outputs": []
    },
    {
      "cell_type": "markdown",
      "source": [
        "実はこのまま1章の通りコード1-5-3を実行するとエラーになります。gender列が'男'だけの行を抜き出すと、そのままのインデックス番号が保持されるので、上の出力結果で最後の行(20672行目)のインデックス番号が20671ではなく、元の52895のままになっています。そこでreset_index(drop=True)を使うとmale_klistのインデックス番号をリセットしてくれます。あとは1章の実行手順と同様です。"
      ],
      "metadata": {
        "id": "OV4P0Sxha9Fh"
      }
    },
    {
      "cell_type": "code",
      "source": [
        "male_klist = male_klist.reset_index(drop=True)\n",
        "male_klist"
      ],
      "metadata": {
        "id": "SWOc0IPObIGi"
      },
      "execution_count": null,
      "outputs": []
    },
    {
      "cell_type": "code",
      "source": [
        "for i in range(20672):\n",
        "  if male_klist.loc[i, 'tooth record'] == '残存歯':\n",
        "    male_klist.loc[i, 'tooth record'] = 1\n",
        "  else:\n",
        "    male_klist.loc[i, 'tooth record'] = 0\n",
        "male_klist"
      ],
      "metadata": {
        "id": "0QCnTQdQQ1gc"
      },
      "execution_count": null,
      "outputs": []
    },
    {
      "cell_type": "code",
      "source": [
        "x = male_klist.groupby('id')['age'].unique()\n",
        "x"
      ],
      "metadata": {
        "id": "nzRxJYvPQ1ej"
      },
      "execution_count": null,
      "outputs": []
    },
    {
      "cell_type": "code",
      "source": [
        "y = male_klist.groupby('id')['tooth record'].sum()\n",
        "y"
      ],
      "metadata": {
        "id": "1M3jD659bXA3"
      },
      "execution_count": null,
      "outputs": []
    },
    {
      "cell_type": "code",
      "source": [
        "import matplotlib.pyplot as plt\n",
        "!pip install japanize-matplotlib\n",
        "import japanize_matplotlib"
      ],
      "metadata": {
        "id": "gs8BvqiFbW-r"
      },
      "execution_count": null,
      "outputs": []
    },
    {
      "cell_type": "code",
      "source": [
        "plt.figure()\n",
        "plt.title('散布図:年齢と歯の本数')\n",
        "plt.xlabel('年齢')\n",
        "plt.ylabel('歯の本数')\n",
        "plt.grid()\n",
        "plt.scatter(x, y)\n",
        "plt.show()"
      ],
      "metadata": {
        "id": "-r2bDjk7bW8e"
      },
      "execution_count": null,
      "outputs": []
    },
    {
      "cell_type": "markdown",
      "source": [
        "## 2章"
      ],
      "metadata": {
        "id": "XveRQDfpdhQO"
      }
    },
    {
      "cell_type": "markdown",
      "source": [
        "1）糖尿病データの特徴量データから，age，sex，bmi，s6（血糖値）の4列を抽出して，x_dm4を作成してください．その特徴量を使用して，重回帰分析を実行してください．その際，20%を検証用データ，80%を学習用データにしてください．"
      ],
      "metadata": {
        "id": "8HBmsVXOeeOZ"
      }
    },
    {
      "cell_type": "code",
      "source": [
        "!pip install japanize-matplotlib\n",
        "import numpy as np\n",
        "import pandas as pd\n",
        "import matplotlib.pyplot as plt\n",
        "import japanize_matplotlib"
      ],
      "metadata": {
        "id": "0t-6R0EYbW6o"
      },
      "execution_count": null,
      "outputs": []
    },
    {
      "cell_type": "code",
      "source": [
        "from sklearn.datasets import load_diabetes\n",
        "dm = load_diabetes(as_frame=True, scaled=False)\n",
        "dm"
      ],
      "metadata": {
        "id": "Agt_abvEQ1cY"
      },
      "execution_count": null,
      "outputs": []
    },
    {
      "cell_type": "code",
      "source": [
        "y_dm = dm.target\n",
        "y_dm.head()"
      ],
      "metadata": {
        "id": "fSfFqua5eAIf"
      },
      "execution_count": null,
      "outputs": []
    },
    {
      "cell_type": "code",
      "source": [
        "x_dm = dm.data\n",
        "x_dm.head()"
      ],
      "metadata": {
        "id": "1DRz78L6eAGS"
      },
      "execution_count": null,
      "outputs": []
    },
    {
      "cell_type": "code",
      "source": [
        "# 複数列の抽出はコード1-4-3参照\n",
        "x_dm4 = x_dm[['age', 'sex', 'bmi', 's6']]\n",
        "x_dm4"
      ],
      "metadata": {
        "id": "OktVi9vaeAB4"
      },
      "execution_count": null,
      "outputs": []
    },
    {
      "cell_type": "code",
      "source": [
        "from sklearn.model_selection import train_test_split\n",
        "x_train, x_test, y_train, y_test = train_test_split(\n",
        "    x_dm4, y_dm, test_size=0.2, random_state=0)"
      ],
      "metadata": {
        "id": "BQKuFTkZd__u"
      },
      "execution_count": null,
      "outputs": []
    },
    {
      "cell_type": "code",
      "source": [
        "from sklearn.linear_model import LinearRegression\n",
        "model = LinearRegression()\n",
        "model.fit(x_train, y_train)"
      ],
      "metadata": {
        "id": "8nqVvNhiP8I9"
      },
      "execution_count": null,
      "outputs": []
    },
    {
      "cell_type": "markdown",
      "source": [
        "2）上記重回帰モデルの性能評価を行ってください．"
      ],
      "metadata": {
        "id": "iwRLFy47ht_d"
      }
    },
    {
      "cell_type": "code",
      "source": [
        "# 予測と正解\n",
        "print(model.predict(x_test))\n",
        "print(np.array(y_test))"
      ],
      "metadata": {
        "id": "SGErMAWogwnC"
      },
      "execution_count": null,
      "outputs": []
    },
    {
      "cell_type": "code",
      "source": [
        "# 性能評価\n",
        "print(model.score(x_test, y_test))"
      ],
      "metadata": {
        "id": "l2j5KIAOgwk2"
      },
      "execution_count": null,
      "outputs": []
    },
    {
      "cell_type": "markdown",
      "source": [
        "3）乳がんデータの特徴量のうち，特徴量radius errorの最小値，最大値，平均値を出力してください．"
      ],
      "metadata": {
        "id": "3wXlJq9ch0Jw"
      }
    },
    {
      "cell_type": "code",
      "source": [
        "from sklearn.datasets import load_breast_cancer\n",
        "bc = load_breast_cancer(as_frame=True)\n",
        "bc"
      ],
      "metadata": {
        "id": "8LuVtXo5gwin"
      },
      "execution_count": null,
      "outputs": []
    },
    {
      "cell_type": "code",
      "source": [
        "x_bc = bc.data\n",
        "x_bc.head()"
      ],
      "metadata": {
        "id": "3xTyIuLYgwgc"
      },
      "execution_count": null,
      "outputs": []
    },
    {
      "cell_type": "code",
      "source": [
        "radius_error = x_bc['radius error']\n",
        "radius_error"
      ],
      "metadata": {
        "id": "5wXyeRWmiZZf"
      },
      "execution_count": null,
      "outputs": []
    },
    {
      "cell_type": "code",
      "source": [
        "print('最小:', min(radius_error))\n",
        "print('最大:', max(radius_error))\n",
        "print('平均:', sum(radius_error)/len(radius_error))"
      ],
      "metadata": {
        "id": "o7SSskBxiZXT"
      },
      "execution_count": null,
      "outputs": []
    },
    {
      "cell_type": "code",
      "source": [
        "# pandasのmin(),max(),mean()を使うことも可能です\n",
        "print('最小:', radius_error.min())\n",
        "print('最大:', radius_error.max())\n",
        "print('平均:', radius_error.mean())"
      ],
      "metadata": {
        "id": "w12f-k4yiZVZ"
      },
      "execution_count": null,
      "outputs": []
    },
    {
      "cell_type": "code",
      "source": [
        "# pandasのdescribe()を使うと一度に表示されます\n",
        "radius_error.describe()"
      ],
      "metadata": {
        "id": "A8o3_AyMiZTO"
      },
      "execution_count": null,
      "outputs": []
    },
    {
      "cell_type": "markdown",
      "source": [
        "4）乳がんデータの最大値（worst 〜）の各項目10個を使ってロジスティック回帰分析を実行してください．その際，20%を検証用データ，80%を学習用データにしてください．"
      ],
      "metadata": {
        "id": "W0WgvBF7mCCp"
      }
    },
    {
      "cell_type": "code",
      "source": [
        "# 最大値(worst ~)は21~30列目\n",
        "x_bc_worst = x_bc.iloc[:, 20:30]\n",
        "x_bc_worst.head()"
      ],
      "metadata": {
        "id": "NPEkoaf1l_JW"
      },
      "execution_count": null,
      "outputs": []
    },
    {
      "cell_type": "code",
      "source": [
        "y_bc = bc.target"
      ],
      "metadata": {
        "id": "6I95w-iwl_Hd"
      },
      "execution_count": null,
      "outputs": []
    },
    {
      "cell_type": "code",
      "source": [
        "from sklearn.model_selection import train_test_split\n",
        "x_train, x_test, y_train, y_test = train_test_split(\n",
        "    x_bc_worst, y_bc, test_size=0.2, random_state=0)"
      ],
      "metadata": {
        "id": "9oQ-vyTul_FR"
      },
      "execution_count": null,
      "outputs": []
    },
    {
      "cell_type": "code",
      "source": [
        "from sklearn.linear_model import LogisticRegression\n",
        "model_bc = LogisticRegression()"
      ],
      "metadata": {
        "id": "e4JIAg-sl_DZ"
      },
      "execution_count": null,
      "outputs": []
    },
    {
      "cell_type": "code",
      "source": [
        "model_bc.fit(x_train, y_train)"
      ],
      "metadata": {
        "id": "CZpYMRRPsFsB"
      },
      "execution_count": null,
      "outputs": []
    },
    {
      "cell_type": "code",
      "source": [
        "# 上記実行で学習はできているのですが、よく見ると警告が出ています。\n",
        "# ロジスティック回帰モデルは関数に当てはまるように誤差を最小化しながら反復を繰り返しながら\n",
        "# 学習するのですが、デフォルト設定の100回では収束しなかったという警告になります。\n",
        "# その場合は、反復させる回数を増やすようにモデルの設定時にオプションを変更すればエラーが解消されます\n",
        "\n",
        "model_bc_2nd = LogisticRegression(max_iter=1000) # 反復回数を1000回に変更\n",
        "model_bc_2nd.fit(x_train, y_train)"
      ],
      "metadata": {
        "id": "nahrvBGjvABi"
      },
      "execution_count": null,
      "outputs": []
    },
    {
      "cell_type": "markdown",
      "source": [
        "5）上記ロジスティック回帰モデルの性能評価を行ってください．"
      ],
      "metadata": {
        "id": "Rftg9qmdspV1"
      }
    },
    {
      "cell_type": "code",
      "source": [
        "# 予測と正解\n",
        "print(model_bc.predict(x_test))\n",
        "print(np.array(y_test))"
      ],
      "metadata": {
        "id": "vKt089s9sFqc"
      },
      "execution_count": null,
      "outputs": []
    },
    {
      "cell_type": "code",
      "source": [
        "# 性能評価\n",
        "print(model_bc.score(x_test, y_test))\n",
        "print(model_bc.score(x_train, y_train))"
      ],
      "metadata": {
        "id": "J9TVpSwqsFoQ"
      },
      "execution_count": null,
      "outputs": []
    },
    {
      "cell_type": "code",
      "source": [
        "# 反復回数修正後の性能評価\n",
        "# 学習用のデータを見るとわずかに性能が上がっていますが、\n",
        "# わずかな差であるため、検証用では性能に差がない結果になっています\n",
        "print(model_bc_2nd.score(x_test, y_test))\n",
        "print(model_bc_2nd.score(x_train, y_train))"
      ],
      "metadata": {
        "id": "To7Bn7wSsFmX"
      },
      "execution_count": null,
      "outputs": []
    },
    {
      "cell_type": "markdown",
      "source": [
        "## 3章"
      ],
      "metadata": {
        "id": "sjFTUsW2yfFM"
      }
    },
    {
      "cell_type": "markdown",
      "source": [
        "1）SVCモデルのkernelをlinearにして，乳がんデータでのサポートベクターマシンを実行してください．"
      ],
      "metadata": {
        "id": "MwjISxxPyvWH"
      }
    },
    {
      "cell_type": "code",
      "source": [
        "import numpy as np\n",
        "import pandas as pd\n",
        "from sklearn.datasets import load_breast_cancer"
      ],
      "metadata": {
        "id": "RrsyJgaOsFkM"
      },
      "execution_count": null,
      "outputs": []
    },
    {
      "cell_type": "code",
      "source": [
        "bc = load_breast_cancer(as_frame=True)"
      ],
      "metadata": {
        "id": "JvC7mrtiyum9"
      },
      "execution_count": null,
      "outputs": []
    },
    {
      "cell_type": "code",
      "source": [
        "from sklearn.model_selection import train_test_split\n",
        "x_train, x_test, y_train, y_test = train_test_split(\n",
        "    bc.data, bc.target, test_size=0.3, random_state=0)"
      ],
      "metadata": {
        "id": "AEu8LLCYyulD"
      },
      "execution_count": null,
      "outputs": []
    },
    {
      "cell_type": "code",
      "source": [
        "from sklearn.svm import SVC\n",
        "model_svm = SVC(kernel='linear', random_state=0)"
      ],
      "metadata": {
        "id": "sUxf6F3Hyui3"
      },
      "execution_count": null,
      "outputs": []
    },
    {
      "cell_type": "code",
      "source": [
        "model_svm.fit(x_train, y_train)"
      ],
      "metadata": {
        "id": "cXz9GBs7yugs"
      },
      "execution_count": null,
      "outputs": []
    },
    {
      "cell_type": "markdown",
      "source": [
        "2）決定木モデルのmax_depthを3に，min_samples_splitを15にして，乳がんデータでの決定木分析を実行してください．"
      ],
      "metadata": {
        "id": "Dtvt7IGo1t2G"
      }
    },
    {
      "cell_type": "code",
      "source": [
        "from sklearn.tree import DecisionTreeClassifier\n",
        "model_tree_c = DecisionTreeClassifier(\n",
        "    criterion='gini', max_depth=3,\n",
        "    min_samples_split=15, random_state=0)"
      ],
      "metadata": {
        "id": "e83sy96Nl-_B"
      },
      "execution_count": null,
      "outputs": []
    },
    {
      "cell_type": "code",
      "source": [
        "model_tree_c.fit(x_train, y_train)"
      ],
      "metadata": {
        "id": "PTbJxS8C3Gti"
      },
      "execution_count": null,
      "outputs": []
    },
    {
      "cell_type": "markdown",
      "source": [
        "3）ランダムフォレストモデルのn_estimatorsを100に，max_depthを3に，max_featuresを15にして，ランダムフォレストを実行してください．"
      ],
      "metadata": {
        "id": "7LaUs4zC3zCX"
      }
    },
    {
      "cell_type": "code",
      "source": [
        "!pip install japanize-matplotlib\n",
        "import matplotlib.pyplot as plt\n",
        "import japanize_matplotlib"
      ],
      "metadata": {
        "id": "0mqLwC3-3Gpd"
      },
      "execution_count": null,
      "outputs": []
    },
    {
      "cell_type": "code",
      "source": [
        "from sklearn.ensemble import RandomForestClassifier\n",
        "model_forest = RandomForestClassifier(\n",
        "    n_estimators=100, max_depth=3,\n",
        "    max_features=15, random_state=0)"
      ],
      "metadata": {
        "id": "UXItKrHv3GnR"
      },
      "execution_count": null,
      "outputs": []
    },
    {
      "cell_type": "code",
      "source": [
        "model_forest.fit(x_train, y_train)"
      ],
      "metadata": {
        "id": "TBYefF7h4J2X"
      },
      "execution_count": null,
      "outputs": []
    },
    {
      "cell_type": "markdown",
      "source": [
        "4）上記SVCモデル，決定木モデル，ランダムフォレストモデルの性能評価を行ってください．"
      ],
      "metadata": {
        "id": "45WR2ioTQ3B0"
      }
    },
    {
      "cell_type": "code",
      "source": [
        "print('SVC:', model_svm.score(x_test, y_test))\n",
        "print('決定木:', model_tree_c.score(x_test, y_test))\n",
        "print('ランダムフォレスト:', model_forest.score(x_test, y_test))"
      ],
      "metadata": {
        "id": "tTTmxZM74J0j"
      },
      "execution_count": null,
      "outputs": []
    },
    {
      "cell_type": "markdown",
      "source": [
        "5）上記ランダムフォレストモデルの特徴量の重要度を，PFIを使って調べてください．"
      ],
      "metadata": {
        "id": "2uW22xLTQ5jr"
      }
    },
    {
      "cell_type": "code",
      "source": [
        "from sklearn.inspection import permutation_importance\n",
        "importance = permutation_importance(\n",
        "    model_forest, x_test, y_test, n_repeats=10, random_state=0)\n",
        "print(importance.importances_mean)"
      ],
      "metadata": {
        "id": "x5AS9arN4JyR"
      },
      "execution_count": null,
      "outputs": []
    },
    {
      "cell_type": "code",
      "source": [
        "forest_pfi = pd.Series(\n",
        "    importance.importances_mean, index=bc.feature_names)\n",
        "forest_pfi.plot.bar()\n",
        "plt.axhline(y=0, color='black')\n",
        "plt.show()"
      ],
      "metadata": {
        "id": "vF8TLpJd4JwZ"
      },
      "execution_count": null,
      "outputs": []
    },
    {
      "cell_type": "markdown",
      "source": [
        "## 4章"
      ],
      "metadata": {
        "id": "7Db-4w85R7aT"
      }
    },
    {
      "cell_type": "markdown",
      "source": [
        "1）乳がんデータの最大値（worst 〜）の各項目10個を使って，深層学習のモデルを中間層1層目のニューロン数を8個，2層目のニューロン数を5個，3層目のニューロン数を3個とするモデルに変更して，summary()でモデルの要約を出力してください．"
      ],
      "metadata": {
        "id": "NdKWYFPZSDSr"
      }
    },
    {
      "cell_type": "code",
      "source": [
        "import numpy as np\n",
        "from keras.models import Sequential\n",
        "from keras.layers import Dense\n",
        "from sklearn.model_selection import train_test_split\n",
        "from sklearn.datasets import load_breast_cancer"
      ],
      "metadata": {
        "id": "fArCyFC84JuN"
      },
      "execution_count": null,
      "outputs": []
    },
    {
      "cell_type": "code",
      "source": [
        "bc = load_breast_cancer()"
      ],
      "metadata": {
        "id": "gksRFAbUmWSz"
      },
      "execution_count": null,
      "outputs": []
    },
    {
      "cell_type": "code",
      "source": [
        "x_train, x_test, y_train, y_test = train_test_split(\n",
        "    bc.data, bc.target, test_size=0.3)"
      ],
      "metadata": {
        "id": "IpH0Q6oXmWQY"
      },
      "execution_count": null,
      "outputs": []
    },
    {
      "cell_type": "code",
      "source": [
        "x_train_worst10 = x_train[:, 20:30]\n",
        "x_test_worst10 = x_test[:, 20:30]\n",
        "print(x_train_worst10.shape)\n",
        "print(x_test_worst10.shape)"
      ],
      "metadata": {
        "id": "yCLpSExWmrC4"
      },
      "execution_count": null,
      "outputs": []
    },
    {
      "cell_type": "code",
      "source": [
        "model = Sequential()\n",
        "model.add(Dense(8, input_shape=(10, ) , activation='relu'))\n",
        "model.add(Dense(5, activation='relu'))\n",
        "model.add(Dense(3, activation='relu'))\n",
        "model.add(Dense(1, activation='sigmoid'))\n",
        "model.compile(\n",
        "    loss='binary_crossentropy', optimizer='Adam',\n",
        "    metrics=['accuracy'])\n",
        "model.summary()"
      ],
      "metadata": {
        "id": "13qt1N4jR5a2"
      },
      "execution_count": null,
      "outputs": []
    },
    {
      "cell_type": "markdown",
      "source": [
        "2）上記モデルを使って，batch_sizeを16，epochsを500にして学習を実行してください．"
      ],
      "metadata": {
        "id": "51QaxWdYnJR5"
      }
    },
    {
      "cell_type": "code",
      "source": [
        "result = model.fit(x_train_worst10, y_train, batch_size=16, epochs=500)"
      ],
      "metadata": {
        "id": "mhpCikYfR5ZR"
      },
      "execution_count": null,
      "outputs": []
    },
    {
      "cell_type": "markdown",
      "source": [
        "3）上記結果の学習過程を折れ線グラフで描画してください．"
      ],
      "metadata": {
        "id": "uoR--L5KtRUt"
      }
    },
    {
      "cell_type": "code",
      "source": [
        "import matplotlib.pyplot as plt\n",
        "plt.plot(result.history['loss'])\n",
        "plt.title('loss')\n",
        "plt.show()\n",
        "plt.plot(result.history['accuracy'])\n",
        "plt.title('accuracy')\n",
        "plt.show()"
      ],
      "metadata": {
        "id": "kWW0_gCWR5XI"
      },
      "execution_count": null,
      "outputs": []
    },
    {
      "cell_type": "markdown",
      "source": [
        "4）上記モデルの評価を行い，テスト用データでの正解率と誤差を出力してください．"
      ],
      "metadata": {
        "id": "JqjIDVEQtQhc"
      }
    },
    {
      "cell_type": "code",
      "source": [
        "evaluate_loss, evaluate_accuracy = model.evaluate(x_test_worst10, y_test)\n",
        "print(evaluate_loss)\n",
        "print(evaluate_accuracy)"
      ],
      "metadata": {
        "id": "onBXvpk4R5Ve"
      },
      "execution_count": null,
      "outputs": []
    },
    {
      "cell_type": "markdown",
      "source": [
        "## 5章"
      ],
      "metadata": {
        "id": "9uy9pApRtL5i"
      }
    },
    {
      "cell_type": "markdown",
      "source": [
        "1）本章で使用したtest.jpgを読み込み，200×200ピクセルのカラー画像を表示してください．"
      ],
      "metadata": {
        "id": "ZMRuFarNthvo"
      }
    },
    {
      "cell_type": "code",
      "source": [
        "# 一度実行していると\n",
        "# Archive:  /content/drive/MyDrive/images_TMDU.zip\n",
        "# replace __MACOSX/._images? [y]es, [n]o, [A]ll, [N]one, [r]ename: y\n",
        "# のように出力結果が聞かれる場合があります\n",
        "# 同じファイルがあるため置き換えるか聞かれているため、\"A\"を入力してEnterを押すことで\n",
        "# 再度同じ展開作業が行われますが、すでにMyDriveにimages_TMDUフォルダが存在する場合は\n",
        "# 下記展開は実行する必要がありません\n",
        "\n",
        "!unzip '/content/drive/MyDrive/images_TMDU.zip'"
      ],
      "metadata": {
        "id": "H-dguqReuYxd"
      },
      "execution_count": null,
      "outputs": []
    },
    {
      "cell_type": "code",
      "source": [
        "import matplotlib.pyplot as plt\n",
        "from keras.preprocessing.image import load_img\n",
        "test200 = load_img(\n",
        "    '/content/images/test.jpg', color_mode='rgb',\n",
        "    target_size=(200, 200))\n",
        "plt.imshow(test200)\n",
        "plt.show()"
      ],
      "metadata": {
        "id": "uWIoYoPdR5TA"
      },
      "execution_count": null,
      "outputs": []
    },
    {
      "cell_type": "markdown",
      "source": [
        "2）上記200×200ピクセルのtest.jpgのデータを配列に変換し，上から数えて100ピクセル目，左から数えて100ピクセル目の数値データが何か調べてください．"
      ],
      "metadata": {
        "id": "B-YSgjUGuncE"
      }
    },
    {
      "cell_type": "code",
      "source": [
        "from keras.preprocessing.image import img_to_array\n",
        "test200_img = img_to_array(test200)\n",
        "# 上から100ピクセル目、左から100ピクセル目の数値データは本文のコード5-2-5の数え方では99番行99番列に相当する\n",
        "# カラーなので数値は3種類(R,G,B)\n",
        "print(test200_img[99][99])"
      ],
      "metadata": {
        "id": "iE1Pf-vLR5RH"
      },
      "execution_count": null,
      "outputs": []
    },
    {
      "cell_type": "markdown",
      "source": [
        "3）深層学習のモデルを，中間層1層目のニューロン数を512個，2層目のニューロン数を256個，3層目のニューロン数を128個，4層目のニューロン数を64個，5層目のニューロン数を16個とするモデルに変更して，summary()でモデルの要約を出力してください．その際にモデルの中にDropoutを含めてください．"
      ],
      "metadata": {
        "id": "oYVB8qzvwHRH"
      }
    },
    {
      "cell_type": "code",
      "source": [
        "import os\n",
        "list_healthy = [\n",
        "    i for i in os.listdir('/content/images/COVID-NORMAL/healthy')\n",
        "    if not i.startswith('.')]\n",
        "list_covid19 = [\n",
        "    i for i in os.listdir('/content/images/COVID-NORMAL/covid19')\n",
        "    if not i.startswith('.')]\n",
        "print(len(list_healthy))\n",
        "print(len(list_covid19))"
      ],
      "metadata": {
        "id": "RYPDQSPgR5Oo"
      },
      "execution_count": null,
      "outputs": []
    },
    {
      "cell_type": "code",
      "source": [
        "num_healthy = len(list_healthy)\n",
        "num_covid19 = len(list_covid19)\n",
        "num_all = num_healthy + num_covid19\n",
        "print(num_all)"
      ],
      "metadata": {
        "id": "kbuX08x5xC8b"
      },
      "execution_count": null,
      "outputs": []
    },
    {
      "cell_type": "code",
      "source": [
        "import numpy as np\n",
        "images_temp = np.zeros((num_all, 64, 64, 1), dtype=float)\n",
        "labels_temp = np.zeros((num_all, 1), dtype=int)\n",
        "print(images_temp.shape)\n",
        "print(labels_temp.shape)"
      ],
      "metadata": {
        "id": "z6dGfofDw96Q"
      },
      "execution_count": null,
      "outputs": []
    },
    {
      "cell_type": "code",
      "source": [
        "path_healthy = '/content/images/COVID-NORMAL/healthy'\n",
        "for i in range(num_healthy):\n",
        "  file = f'{path_healthy}/{list_healthy[i]}'\n",
        "  file_img = load_img(\n",
        "      file, color_mode='grayscale', target_size=(64, 64),\n",
        "      interpolation='lanczos')\n",
        "  images_temp[i] = img_to_array(file_img) / 255\n",
        "  labels_temp[i] = 0"
      ],
      "metadata": {
        "id": "5uv4lkhcxdIV"
      },
      "execution_count": null,
      "outputs": []
    },
    {
      "cell_type": "code",
      "source": [
        "path_covid19 = '/content/images/COVID-NORMAL/covid19'\n",
        "for i in range(num_covid19):\n",
        "  file = f'{path_covid19}/{list_covid19[i]}'\n",
        "  file_img = load_img(\n",
        "      file, color_mode='grayscale', target_size=(64, 64),\n",
        "      interpolation='lanczos')\n",
        "  images_temp[i + num_healthy] = img_to_array(file_img) / 255\n",
        "  labels_temp[i + num_healthy] = 1"
      ],
      "metadata": {
        "id": "zc01AVYUxdF2"
      },
      "execution_count": null,
      "outputs": []
    },
    {
      "cell_type": "code",
      "source": [
        "np.random.seed(111)\n",
        "num_list = np.arange(num_all)\n",
        "np.random.shuffle(num_list)\n",
        "print(num_list)"
      ],
      "metadata": {
        "id": "pQBEbYTvgweT"
      },
      "execution_count": null,
      "outputs": []
    },
    {
      "cell_type": "code",
      "source": [
        "x_train = images_temp[num_list]\n",
        "y_train = labels_temp[num_list]\n",
        "print(x_train.shape)\n",
        "print(y_train.shape)"
      ],
      "metadata": {
        "id": "f7irzzoQzkhk"
      },
      "execution_count": null,
      "outputs": []
    },
    {
      "cell_type": "code",
      "source": [
        "from keras.models import Sequential\n",
        "from keras.layers import Dense, Flatten, Dropout\n",
        "\n",
        "model = Sequential()\n",
        "model.add(Flatten(input_shape=(64, 64, 1)))\n",
        "model.add(Dense(512, activation='relu'))\n",
        "model.add(Dropout(0.5))\n",
        "model.add(Dense(256, activation='relu'))\n",
        "model.add(Dropout(0.5))\n",
        "model.add(Dense(128, activation='relu'))\n",
        "model.add(Dense(64, activation='relu'))\n",
        "model.add(Dense(16, activation='relu'))\n",
        "model.add(Dense(1, activation='sigmoid'))\n",
        "model.compile(\n",
        "    loss='binary_crossentropy', optimizer='Adam',\n",
        "    metrics=['accuracy'])\n",
        "model.summary()"
      ],
      "metadata": {
        "id": "tJ00h_itzmgZ"
      },
      "execution_count": null,
      "outputs": []
    },
    {
      "cell_type": "markdown",
      "source": [
        "4）上記モデルを使って，batch_sizeを16，epochsを300，validation_splitを0.15にして学習を実行してください．"
      ],
      "metadata": {
        "id": "gw-EMBwO0ozK"
      }
    },
    {
      "cell_type": "code",
      "source": [
        "result = model.fit(\n",
        "    x_train, y_train, batch_size=16, epochs=300, validation_split=0.15)"
      ],
      "metadata": {
        "id": "q6PLGwGtzx_F"
      },
      "execution_count": null,
      "outputs": []
    },
    {
      "cell_type": "markdown",
      "source": [
        "5）上記結果の学習過程を折れ線グラフで描画してください．"
      ],
      "metadata": {
        "id": "BdfeJMyU1ELB"
      }
    },
    {
      "cell_type": "code",
      "source": [
        "plt.plot(result.history['accuracy'], label='accuracy')\n",
        "plt.plot(result.history['val_accuracy'], label='val_accuracy')\n",
        "plt.legend()\n",
        "plt.show()\n",
        "plt.plot(result.history['loss'], label='loss')\n",
        "plt.plot(result.history['val_loss'], label='val_loss')\n",
        "plt.legend()\n",
        "plt.show()"
      ],
      "metadata": {
        "id": "NjzPiR0Gzmei"
      },
      "execution_count": null,
      "outputs": []
    },
    {
      "cell_type": "code",
      "source": [],
      "metadata": {
        "id": "WnhrKQMdzmcW"
      },
      "execution_count": null,
      "outputs": []
    }
  ]
}