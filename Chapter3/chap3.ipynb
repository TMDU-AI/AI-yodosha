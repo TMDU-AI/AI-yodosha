{
  "nbformat": 4,
  "nbformat_minor": 0,
  "metadata": {
    "colab": {
      "provenance": [],
      "toc_visible": true
    },
    "kernelspec": {
      "name": "python3",
      "display_name": "Python 3"
    },
    "language_info": {
      "name": "python"
    }
  },
  "cells": [
    {
    "cell_type": "markdown",
    "metadata": {},
    "source": [
        "[![Open In Colab](https://colab.research.google.com/assets/colab-badge.svg)](https://colab.research.google.com/github/TMDU-AI/AI-yodosha/blob/main/Chapter3/chap3.ipynb)"
    ]
    },

    {
      "cell_type": "markdown",
      "source": [
        "# **3章　さまざまな機械学習を理解しよう**"
      ],
      "metadata": {
        "id": "I_A0TCsE0H7X"
      }
    },
    {
      "cell_type": "markdown",
      "source": [
        "# 3-2　サポートベクターマシンを実践してみよう"
      ],
      "metadata": {
        "id": "xA2i_DbALZAj"
      }
    },
    {
      "cell_type": "markdown",
      "source": [
        "**STEP0　事前準備**"
      ],
      "metadata": {
        "id": "aebfdq8SMM8k"
      }
    },
    {
      "cell_type": "markdown",
      "source": [
        "コード3-2-1　利用するライブラリをインポートする"
      ],
      "metadata": {
        "id": "TqJL8DLK0H7X"
      }
    },
    {
      "cell_type": "code",
      "source": [
        "import numpy as np\n",
        "import pandas as pd"
      ],
      "metadata": {
        "id": "BLQsgVRe0H7X"
      },
      "execution_count": null,
      "outputs": []
    },
    {
      "cell_type": "markdown",
      "source": [
        "**STEP1　データの用意**"
      ],
      "metadata": {
        "id": "yi2HSrhrPNX2"
      }
    },
    {
      "cell_type": "markdown",
      "source": [
        "コード3-2-2　乳がんのデータセットを読み込む"
      ],
      "metadata": {
        "id": "CrbaXfpz0H7Y"
      }
    },
    {
      "cell_type": "code",
      "source": [
        "from sklearn.datasets import load_breast_cancer\n",
        "bc = load_breast_cancer(as_frame=True)"
      ],
      "metadata": {
        "id": "mHdfyeQw0H7Y"
      },
      "execution_count": null,
      "outputs": []
    },
    {
      "cell_type": "markdown",
      "source": [
        "コード3-2-3　特徴量と正解値を学習用データと検証用データに分割"
      ],
      "metadata": {
        "id": "tAzhRTBp0H7Y"
      }
    },
    {
      "cell_type": "code",
      "source": [
        "from sklearn.model_selection import train_test_split\n",
        "x_train, x_test, y_train, y_test = train_test_split(\n",
        "    bc.data, bc.target, test_size=0.3, random_state=0)"
      ],
      "metadata": {
        "id": "zEvu2kTZ0H7Y"
      },
      "execution_count": null,
      "outputs": []
    },
    {
      "cell_type": "markdown",
      "source": [
        "**STEP2　学習モデルの選択**"
      ],
      "metadata": {
        "id": "M2BP_7KQP-7j"
      }
    },
    {
      "cell_type": "markdown",
      "source": [
        "コード3-2-4　サポートベクターマシンを選択"
      ],
      "metadata": {
        "id": "etcNdjmZ0H7Y"
      }
    },
    {
      "cell_type": "code",
      "source": [
        "from sklearn.svm import SVC\n",
        "model_svm = SVC(kernel='rbf', random_state=0)"
      ],
      "metadata": {
        "id": "LcfaEBqP0H7Y"
      },
      "execution_count": null,
      "outputs": []
    },
    {
      "cell_type": "markdown",
      "source": [
        "**STEP3　データを入れて学習**"
      ],
      "metadata": {
        "id": "J1uC_cdARBfV"
      }
    },
    {
      "cell_type": "markdown",
      "source": [
        "コード3-2-5　学習用データを入れて学習させる"
      ],
      "metadata": {
        "id": "9ppqQFDb0H7Y"
      }
    },
    {
      "cell_type": "code",
      "source": [
        "model_svm.fit(x_train, y_train)"
      ],
      "metadata": {
        "id": "CL7XGiEZ0H7Y"
      },
      "execution_count": null,
      "outputs": []
    },
    {
      "cell_type": "markdown",
      "source": [
        "**STEP4　予測を行う**"
      ],
      "metadata": {
        "id": "-iWW7gOZRF5j"
      }
    },
    {
      "cell_type": "markdown",
      "source": [
        "コード3-2-6　検証用データで予測を行う"
      ],
      "metadata": {
        "id": "sqNLKsHr0H7Y"
      }
    },
    {
      "cell_type": "code",
      "source": [
        "print(model_svm.predict(x_test)) # x_testから予測した予測値yを出力\n",
        "print(np.array(y_test))          # 実際の正解値y_testを出力"
      ],
      "metadata": {
        "id": "yih43DZC0H7Z"
      },
      "execution_count": null,
      "outputs": []
    },
    {
      "cell_type": "markdown",
      "source": [
        "**STEP5　モデルの評価**"
      ],
      "metadata": {
        "id": "4jm5hP0cSVW3"
      }
    },
    {
      "cell_type": "markdown",
      "source": [
        "コード3-2-7　モデルの性能評価を行う"
      ],
      "metadata": {
        "id": "ZTAzHF500r7U"
      }
    },
    {
      "cell_type": "code",
      "source": [
        "print(model_svm.score(x_test, y_test))"
      ],
      "metadata": {
        "id": "DfG1H18S0qml"
      },
      "execution_count": null,
      "outputs": []
    },
    {
      "cell_type": "markdown",
      "source": [
        "# 3-3　決定木分析を実践してみよう"
      ],
      "metadata": {
        "id": "jgSlHb9y8M7I"
      }
    },
    {
      "cell_type": "markdown",
      "source": [
        "**STEP0　事前準備**"
      ],
      "metadata": {
        "id": "QVYC85l8TRRn"
      }
    },
    {
      "cell_type": "markdown",
      "source": [
        "コード3-3-1　利用するライブラリをインポートする"
      ],
      "metadata": {
        "id": "xT7fCXO5cnWt"
      }
    },
    {
      "cell_type": "code",
      "execution_count": null,
      "metadata": {
        "id": "OdOc9KAytzIG"
      },
      "outputs": [],
      "source": [
        "import numpy as np\n",
        "import pandas as pd\n",
        "import matplotlib.pyplot as plt"
      ]
    },
    {
      "cell_type": "markdown",
      "source": [
        "**STEP1　データの用意**"
      ],
      "metadata": {
        "id": "j8wOHHfuUNHl"
      }
    },
    {
      "cell_type": "markdown",
      "source": [
        "コード3-3-2　乳がんのデータセットを読み込む"
      ],
      "metadata": {
        "id": "gJeXy-VqeJZV"
      }
    },
    {
      "cell_type": "code",
      "source": [
        "from sklearn.datasets import load_breast_cancer\n",
        "bc = load_breast_cancer(as_frame=True)"
      ],
      "metadata": {
        "id": "WVRowW3u_4Ii"
      },
      "execution_count": null,
      "outputs": []
    },
    {
      "cell_type": "markdown",
      "source": [
        "コード3-3-3　特徴量と正解値を学習用データと検証用データに分割"
      ],
      "metadata": {
        "id": "NMLFu-uleTxY"
      }
    },
    {
      "cell_type": "code",
      "source": [
        "from sklearn.model_selection import train_test_split\n",
        "x_train, x_test, y_train, y_test = train_test_split(\n",
        "    bc.data, bc.target, test_size=0.3, random_state=0)"
      ],
      "metadata": {
        "id": "sLDiLA2R30Ir"
      },
      "execution_count": null,
      "outputs": []
    },
    {
      "cell_type": "markdown",
      "source": [
        "**STEP2　学習モデルの選択**"
      ],
      "metadata": {
        "id": "2QjGhFEBVAkj"
      }
    },
    {
      "cell_type": "markdown",
      "source": [
        "コード3-3-4　決定木分析を選択"
      ],
      "metadata": {
        "id": "jIHZx9zgemUl"
      }
    },
    {
      "cell_type": "code",
      "source": [
        "from sklearn.tree import DecisionTreeClassifier\n",
        "model_tree_c = DecisionTreeClassifier(\n",
        "    criterion='gini', max_depth=2,\n",
        "    min_samples_split=10, random_state=0)"
      ],
      "metadata": {
        "id": "kKE_fnuu8MvH"
      },
      "execution_count": null,
      "outputs": []
    },
    {
      "cell_type": "markdown",
      "source": [
        "**STEP3　データを入れて学習**"
      ],
      "metadata": {
        "id": "KKkFS0RFVU-3"
      }
    },
    {
      "cell_type": "markdown",
      "source": [
        "コード3-3-5　学習用データを入れて学習させる"
      ],
      "metadata": {
        "id": "1z4iIlvbengp"
      }
    },
    {
      "cell_type": "code",
      "source": [
        "model_tree_c.fit(x_train, y_train)"
      ],
      "metadata": {
        "id": "5AYJod5l8MhE"
      },
      "execution_count": null,
      "outputs": []
    },
    {
      "cell_type": "markdown",
      "source": [
        "**STEP4　予測を行う**"
      ],
      "metadata": {
        "id": "5P5XD2GjViE1"
      }
    },
    {
      "cell_type": "markdown",
      "source": [
        "コード3-3-6　検証用データで予測を行う"
      ],
      "metadata": {
        "id": "rqa1dAlQesix"
      }
    },
    {
      "cell_type": "code",
      "source": [
        "print(model_tree_c.predict(x_test)) # x_testから予測した予測値yを出力\n",
        "print(np.array(y_test))             # 実際の正解値y_testを出力"
      ],
      "metadata": {
        "id": "8f-oNkZd_gHd"
      },
      "execution_count": null,
      "outputs": []
    },
    {
      "cell_type": "markdown",
      "source": [
        "**STEP5　モデルの評価**"
      ],
      "metadata": {
        "id": "7NvMKEg8V6mc"
      }
    },
    {
      "cell_type": "markdown",
      "source": [
        "コード3-3-7　モデルの性能評価を行う"
      ],
      "metadata": {
        "id": "fwQIwHxJ2CKk"
      }
    },
    {
      "cell_type": "code",
      "source": [
        "print(model_tree_c.score(x_test, y_test))"
      ],
      "metadata": {
        "id": "mANn3DwM15J5"
      },
      "execution_count": null,
      "outputs": []
    },
    {
      "cell_type": "markdown",
      "source": [
        "コード3-3-8　決定木の図示"
      ],
      "metadata": {
        "id": "eEOeUKgQfI78"
      }
    },
    {
      "cell_type": "code",
      "source": [
        "from sklearn.tree import plot_tree\n",
        "plot_tree(\n",
        "    model_tree_c,\n",
        "    feature_names=bc.feature_names,\n",
        "    class_names=bc.target_names, filled=True)\n",
        "plt.show()"
      ],
      "metadata": {
        "id": "pfDGxKYfA4pI"
      },
      "execution_count": null,
      "outputs": []
    },
    {
      "cell_type": "markdown",
      "source": [
        "コード3-3-9　変数bcのfeature_names（特徴量名）の出力"
      ],
      "metadata": {
        "id": "XGIfoxf_2X8p"
      }
    },
    {
      "cell_type": "code",
      "source": [
        "bc.feature_names"
      ],
      "metadata": {
        "id": "kuo18Wdh2Xtj"
      },
      "execution_count": null,
      "outputs": []
    },
    {
      "cell_type": "markdown",
      "source": [
        "コード3-3-10　bc.feature_namesの配列の形状とデータ型の確認\n"
      ],
      "metadata": {
        "id": "2VbV2VPn2XfZ"
      }
    },
    {
      "cell_type": "code",
      "source": [
        "print(bc.feature_names.shape)\n",
        "print(type(bc.feature_names))"
      ],
      "metadata": {
        "id": "vrmf_BgQ9Eg2"
      },
      "execution_count": null,
      "outputs": []
    },
    {
      "cell_type": "markdown",
      "source": [
        "コード3-3-11　変数bcのtarget_names（分類名）の出力"
      ],
      "metadata": {
        "id": "uJsZYKnS9bG2"
      }
    },
    {
      "cell_type": "code",
      "source": [
        "bc.target_names"
      ],
      "metadata": {
        "id": "yKqJ-Moi9eWa"
      },
      "execution_count": null,
      "outputs": []
    },
    {
      "cell_type": "markdown",
      "source": [
        "コード3-3-12　bc.target_namesの配列の形状とデータ型の確認"
      ],
      "metadata": {
        "id": "M-jWSVYs9l4u"
      }
    },
    {
      "cell_type": "code",
      "source": [
        "print(bc.target_names.shape)\n",
        "print(type(bc.target_names))"
      ],
      "metadata": {
        "id": "MkIysX3f9n2P"
      },
      "execution_count": null,
      "outputs": []
    },
    {
      "cell_type": "markdown",
      "source": [
        "# 3-4　ランダムフォレストを実践してみよう"
      ],
      "metadata": {
        "id": "KccXtLiod4Io"
      }
    },
    {
      "cell_type": "markdown",
      "source": [
        "**STEP0　事前準備**"
      ],
      "metadata": {
        "id": "fMCUOX2PaA5K"
      }
    },
    {
      "cell_type": "markdown",
      "source": [
        "コード3-4-1　利用するライブラリをインポートする"
      ],
      "metadata": {
        "id": "BUbJSCBzmPMq"
      }
    },
    {
      "cell_type": "code",
      "source": [
        "!pip install japanize-matplotlib\n",
        "import numpy as np\n",
        "import pandas as pd\n",
        "import matplotlib.pyplot as plt\n",
        "import japanize_matplotlib"
      ],
      "metadata": {
        "id": "cv6dW0QKf4TV"
      },
      "execution_count": null,
      "outputs": []
    },
    {
      "cell_type": "markdown",
      "source": [
        "**STEP1　データの用意**"
      ],
      "metadata": {
        "id": "Z42YZgbxaOWW"
      }
    },
    {
      "cell_type": "markdown",
      "source": [
        "コード3-4-2　乳がんのデータセットを読み込む"
      ],
      "metadata": {
        "id": "bouptbVvmTFF"
      }
    },
    {
      "cell_type": "code",
      "source": [
        "from sklearn.datasets import load_breast_cancer\n",
        "bc = load_breast_cancer(as_frame=True)"
      ],
      "metadata": {
        "id": "Is9Z8NqCmgeH"
      },
      "execution_count": null,
      "outputs": []
    },
    {
      "cell_type": "markdown",
      "source": [
        "コード3-4-3　特徴量xと正解値yを学習用データと検証用データに分割"
      ],
      "metadata": {
        "id": "7nJ6TDLKmaaG"
      }
    },
    {
      "cell_type": "code",
      "source": [
        "from sklearn.model_selection import train_test_split\n",
        "x_train, x_test, y_train, y_test = train_test_split(\n",
        "    bc.data, bc.target, test_size=0.3, random_state=0)"
      ],
      "metadata": {
        "id": "0pDJjMCOmtcV"
      },
      "execution_count": null,
      "outputs": []
    },
    {
      "cell_type": "markdown",
      "source": [
        "**STEP2　学習モデルの選択**"
      ],
      "metadata": {
        "id": "LANSz9YJa5XP"
      }
    },
    {
      "cell_type": "markdown",
      "source": [
        "コード3-4-4　ランダムフォレストを選択"
      ],
      "metadata": {
        "id": "EjL5BtK9m9jO"
      }
    },
    {
      "cell_type": "code",
      "source": [
        "from sklearn.ensemble import RandomForestClassifier\n",
        "model_forest = RandomForestClassifier(\n",
        "    n_estimators=100, max_depth=3,\n",
        "    max_features=5, random_state=0)"
      ],
      "metadata": {
        "id": "pMRJIIXCgirf"
      },
      "execution_count": null,
      "outputs": []
    },
    {
      "cell_type": "markdown",
      "source": [
        "**STEP3　データを入れて学習**"
      ],
      "metadata": {
        "id": "0Geoaw97bEYL"
      }
    },
    {
      "cell_type": "markdown",
      "source": [
        "コード3-4-5　学習用データを入れて学習させる"
      ],
      "metadata": {
        "id": "s1DxIxVenCmu"
      }
    },
    {
      "cell_type": "code",
      "source": [
        "model_forest.fit(x_train, y_train)"
      ],
      "metadata": {
        "id": "GjcZoG0lmZOn"
      },
      "execution_count": null,
      "outputs": []
    },
    {
      "cell_type": "markdown",
      "source": [
        "**STEP4　予測を行う**"
      ],
      "metadata": {
        "id": "jm1280aubyk3"
      }
    },
    {
      "cell_type": "markdown",
      "source": [
        "コード3-4-6　検証用データで予測を行う"
      ],
      "metadata": {
        "id": "0ZpNgPYGnJQe"
      }
    },
    {
      "cell_type": "code",
      "source": [
        "print(model_forest.predict(x_test)) # x_testから予測した予測値yを出力\n",
        "print(np.array(y_test))             # 実際の正解値y_testを出力"
      ],
      "metadata": {
        "id": "bJZHPt76nLaX"
      },
      "execution_count": null,
      "outputs": []
    },
    {
      "cell_type": "markdown",
      "source": [
        "**STEP5　モデルの評価**"
      ],
      "metadata": {
        "id": "fv5_BzzscHI8"
      }
    },
    {
      "cell_type": "markdown",
      "source": [
        "コード3-4-7　モデルの性能評価を行う"
      ],
      "metadata": {
        "id": "3pFsLCLfnPp4"
      }
    },
    {
      "cell_type": "code",
      "source": [
        "print(model_forest.score(x_test, y_test))"
      ],
      "metadata": {
        "id": "ugfzfWZ4g0UF"
      },
      "execution_count": null,
      "outputs": []
    },
    {
      "cell_type": "markdown",
      "source": [
        "コード3-4-8　特徴量の重要度の出力"
      ],
      "metadata": {
        "id": "mgQSNsWwnoAO"
      }
    },
    {
      "cell_type": "code",
      "source": [
        "forest_importances = pd.DataFrame(\n",
        "    model_forest.feature_importances_,\n",
        "    index=bc.feature_names,\n",
        "    columns=['重要度'])\n",
        "forest_importances"
      ],
      "metadata": {
        "id": "0eVYT0OnntTq"
      },
      "execution_count": null,
      "outputs": []
    },
    {
      "cell_type": "markdown",
      "source": [
        "コード3-4-9　特徴量の重要度を並べ替える"
      ],
      "metadata": {
        "id": "EXArGUeUouj7"
      }
    },
    {
      "cell_type": "code",
      "source": [
        "forest_importances.sort_values('重要度', ascending=False)"
      ],
      "metadata": {
        "id": "EA-xRVtiiA_4"
      },
      "execution_count": null,
      "outputs": []
    },
    {
      "cell_type": "markdown",
      "source": [
        "コード3-4-10　特徴量の重要度のグラフ化"
      ],
      "metadata": {
        "id": "vlVbXUhuiT72"
      }
    },
    {
      "cell_type": "code",
      "source": [
        "forest_importances.plot.bar()\n",
        "plt.show()"
      ],
      "metadata": {
        "id": "V4l4jt0KiYR_"
      },
      "execution_count": null,
      "outputs": []
    },
    {
      "cell_type": "markdown",
      "source": [
        "コード3-4-11　特徴量の重要度Permutation Feature Importance（PFI）の出力"
      ],
      "metadata": {
        "id": "DPHGmjSPieQK"
      }
    },
    {
      "cell_type": "code",
      "source": [
        "from sklearn.inspection import permutation_importance\n",
        "importance = permutation_importance(\n",
        "    model_forest, x_test, y_test, n_repeats=10, random_state=0)\n",
        "print(importance.importances_mean)"
      ],
      "metadata": {
        "id": "SGdxiEt6Uoxj"
      },
      "execution_count": null,
      "outputs": []
    },
    {
      "cell_type": "markdown",
      "source": [
        "コード3-4-12　特徴量の重要度Permutation Feature Importance（PFI）のグラフ化"
      ],
      "metadata": {
        "id": "w0nE4KDhimqd"
      }
    },
    {
      "cell_type": "code",
      "source": [
        "forest_pfi = pd.Series(\n",
        "    importance.importances_mean, index=bc.feature_names)\n",
        "forest_pfi.plot.bar()\n",
        "plt.axhline(y=0, color='black')\n",
        "plt.show()"
      ],
      "metadata": {
        "id": "9DBVqKBl33ja"
      },
      "execution_count": null,
      "outputs": []
    }
  ]
}
